{
 "cells": [
  {
   "cell_type": "code",
   "execution_count": 1,
   "metadata": {},
   "outputs": [],
   "source": [
    "import pandas as pd\n",
    "import re"
   ]
  },
  {
   "cell_type": "code",
   "execution_count": 20,
   "metadata": {},
   "outputs": [],
   "source": [
    "df = pd.read_csv('cleaned_29_04_frontend.csv')"
   ]
  },
  {
   "cell_type": "code",
   "execution_count": 3,
   "metadata": {},
   "outputs": [
    {
     "data": {
      "text/plain": [
       "Index(['job_title', 'company_name', 'job_location', 'work_place',\n",
       "       'salary_range', 'skill', 'more_detail_link', 'job_id', 'work_type',\n",
       "       'workplace', 'years_experience', 'min_education', 'category',\n",
       "       'sub_category', 'role', 'scrapped_date'],\n",
       "      dtype='object')"
      ]
     },
     "execution_count": 3,
     "metadata": {},
     "output_type": "execute_result"
    }
   ],
   "source": [
    "df.columns"
   ]
  },
  {
   "cell_type": "code",
   "execution_count": 4,
   "metadata": {},
   "outputs": [],
   "source": [
    "# remove 'experience,logo' from the skill column \n",
    "df['skill'] = df['skill'].str.replace('experience,logo,', '')"
   ]
  },
  {
   "cell_type": "code",
   "execution_count": 5,
   "metadata": {},
   "outputs": [],
   "source": [
    "df['skill'] = df['skill'].str.replace('experience,salary,logo,', '')"
   ]
  },
  {
   "cell_type": "code",
   "execution_count": 6,
   "metadata": {},
   "outputs": [],
   "source": [
    "df['skill'] = df['skill'].str.replace('experience,', '')"
   ]
  },
  {
   "cell_type": "code",
   "execution_count": 7,
   "metadata": {},
   "outputs": [],
   "source": [
    "df['skill'] = df['skill'].str.replace('logo,', '')"
   ]
  },
  {
   "cell_type": "code",
   "execution_count": 8,
   "metadata": {},
   "outputs": [],
   "source": [
    "df = df.replace('Not Written','-')"
   ]
  },
  {
   "cell_type": "code",
   "execution_count": 9,
   "metadata": {},
   "outputs": [],
   "source": [
    "# Cleaning the Workplace\n",
    "df['workplace'].replace('Kerja di kantor','onsite',inplace=True)\n",
    "df['workplace'].replace('Remote/Dari rumah','remote',inplace=True)\n"
   ]
  },
  {
   "cell_type": "code",
   "execution_count": 10,
   "metadata": {},
   "outputs": [],
   "source": [
    "# Cleaning the Work Experience\n",
    "df['years_experience'].replace('1 – 3 tahun','1-3',inplace=True)\n",
    "df['years_experience'].replace('3 – 5 tahun','3-5',inplace=True)\n",
    "df['years_experience'].replace('5 – 10 tahun','5-10',inplace=True)\n",
    "df['years_experience'].replace('Lebih dari 10 tahun','>10',inplace=True)\n",
    "df['years_experience'].replace('Kurang dari setahun','<1',inplace=True)"
   ]
  },
  {
   "cell_type": "code",
   "execution_count": 11,
   "metadata": {},
   "outputs": [],
   "source": [
    "# Simplified Cleaning of Min Education\n",
    "education_replacements = {\n",
    "    'Minimal Diploma (D1 - D4)': 'Diploma',\n",
    "    'Minimal Sarjana (S1)': 'Sarjana',\n",
    "    'Minimal Magister (S2)': 'Magister',\n",
    "    'Minimal SD': 'SD',\n",
    "    'Minimal SMP': 'SMP',\n",
    "    'Minimal SMA/SMK': 'SMA/SMK'\n",
    "}\n",
    "df['min_education'].replace(education_replacements, inplace=True)\n"
   ]
  },
  {
   "cell_type": "code",
   "execution_count": 12,
   "metadata": {},
   "outputs": [],
   "source": [
    "# Cleaning the Job_location \n",
    "df[['district','city','province']] = df['job_location'].str.split(',',expand=True)\n"
   ]
  },
  {
   "cell_type": "code",
   "execution_count": 13,
   "metadata": {},
   "outputs": [],
   "source": [
    "# delete job_location column\n",
    "df.drop('job_location',axis=1,inplace=True)"
   ]
  },
  {
   "cell_type": "code",
   "execution_count": 16,
   "metadata": {},
   "outputs": [
    {
     "data": {
      "text/plain": [
       "94"
      ]
     },
     "execution_count": 16,
     "metadata": {},
     "output_type": "execute_result"
    }
   ],
   "source": [
    "len(df[df['category']!='Computer & Information Technology'])"
   ]
  },
  {
   "cell_type": "code",
   "execution_count": 22,
   "metadata": {},
   "outputs": [],
   "source": [
    "df = df[df['category'] == 'Computer & Information Technology']"
   ]
  },
  {
   "cell_type": "code",
   "execution_count": 30,
   "metadata": {},
   "outputs": [
    {
     "data": {
      "text/html": [
       "<div>\n",
       "<style scoped>\n",
       "    .dataframe tbody tr th:only-of-type {\n",
       "        vertical-align: middle;\n",
       "    }\n",
       "\n",
       "    .dataframe tbody tr th {\n",
       "        vertical-align: top;\n",
       "    }\n",
       "\n",
       "    .dataframe thead th {\n",
       "        text-align: right;\n",
       "    }\n",
       "</style>\n",
       "<table border=\"1\" class=\"dataframe\">\n",
       "  <thead>\n",
       "    <tr style=\"text-align: right;\">\n",
       "      <th></th>\n",
       "      <th>Unnamed: 0</th>\n",
       "      <th>job_title</th>\n",
       "      <th>company_name</th>\n",
       "      <th>work_place</th>\n",
       "      <th>salary_range</th>\n",
       "      <th>skill</th>\n",
       "      <th>more_detail_link</th>\n",
       "      <th>job_id</th>\n",
       "      <th>work_type</th>\n",
       "      <th>workplace</th>\n",
       "      <th>years_experience</th>\n",
       "      <th>min_education</th>\n",
       "      <th>category</th>\n",
       "      <th>sub_category</th>\n",
       "      <th>role</th>\n",
       "      <th>scrapped_date</th>\n",
       "      <th>district</th>\n",
       "      <th>city</th>\n",
       "      <th>province</th>\n",
       "    </tr>\n",
       "  </thead>\n",
       "  <tbody>\n",
       "    <tr>\n",
       "      <th>8</th>\n",
       "      <td>8</td>\n",
       "      <td>Fronted Developer</td>\n",
       "      <td>Pt. Quantus Telematika Indonesia</td>\n",
       "      <td>Kerja di kantor</td>\n",
       "      <td>-</td>\n",
       "      <td>JavaScript,CSS3,React.js,GIT,Vue.js,React Nati...</td>\n",
       "      <td>https://glints.com/id/opportunities/jobs/front...</td>\n",
       "      <td>abe705b4-9be4-4d0b-a958-fd8f2d0e379e</td>\n",
       "      <td>full_time</td>\n",
       "      <td>onsite</td>\n",
       "      <td>1-3</td>\n",
       "      <td>Diploma</td>\n",
       "      <td>Computer &amp; Information Technology</td>\n",
       "      <td>Mobile Development</td>\n",
       "      <td>Mobile Developer</td>\n",
       "      <td>2024-04-29</td>\n",
       "      <td>Coblong</td>\n",
       "      <td>Bandung</td>\n",
       "      <td>Jawa Barat</td>\n",
       "    </tr>\n",
       "    <tr>\n",
       "      <th>9</th>\n",
       "      <td>9</td>\n",
       "      <td>Frontend ReactJS Developer</td>\n",
       "      <td>PT Code Development Indonesia</td>\n",
       "      <td>Kerja di kantor</td>\n",
       "      <td>-</td>\n",
       "      <td>Frontend Development,React Native,React.js</td>\n",
       "      <td>https://glints.com/id/opportunities/jobs/front...</td>\n",
       "      <td>02f56ac0-3324-4864-810f-06cf20e4d2b9</td>\n",
       "      <td>full_time</td>\n",
       "      <td>onsite</td>\n",
       "      <td>3-5</td>\n",
       "      <td>Sarjana</td>\n",
       "      <td>Computer &amp; Information Technology</td>\n",
       "      <td>Operation, Maintenance &amp; Technical Support</td>\n",
       "      <td>IT Technical Support</td>\n",
       "      <td>2024-04-29</td>\n",
       "      <td>Setiabudi</td>\n",
       "      <td>Jakarta Selatan</td>\n",
       "      <td>DKI Jakarta</td>\n",
       "    </tr>\n",
       "    <tr>\n",
       "      <th>10</th>\n",
       "      <td>10</td>\n",
       "      <td>Frontend Web Developer</td>\n",
       "      <td>PT Digital Nayaka Abhinaya</td>\n",
       "      <td>Kerja di kantor</td>\n",
       "      <td>Rp5,5jt-Rp7jt</td>\n",
       "      <td>PHP,React.js,Vue.js</td>\n",
       "      <td>https://glints.com/id/opportunities/jobs/front...</td>\n",
       "      <td>5a29bddd-536e-4c10-a821-7b8ed4f2c258</td>\n",
       "      <td>full_time</td>\n",
       "      <td>onsite</td>\n",
       "      <td>1-3</td>\n",
       "      <td>Diploma</td>\n",
       "      <td>Computer &amp; Information Technology</td>\n",
       "      <td>Frontend Development</td>\n",
       "      <td>Frontend Engineer</td>\n",
       "      <td>2024-04-29</td>\n",
       "      <td>Bekasi Barat</td>\n",
       "      <td>Bekasi</td>\n",
       "      <td>Jawa Barat</td>\n",
       "    </tr>\n",
       "    <tr>\n",
       "      <th>13</th>\n",
       "      <td>13</td>\n",
       "      <td>Frontend / React Developer</td>\n",
       "      <td>PT Tonjoo Gagas Teknologi</td>\n",
       "      <td>Kerja di kantor</td>\n",
       "      <td>Rp3jt-Rp4,5jt</td>\n",
       "      <td>TailwindCSS,REST API,GIT,React.js,JavaScript</td>\n",
       "      <td>https://glints.com/id/opportunities/jobs/front...</td>\n",
       "      <td>b8c2b3ee-2729-4964-bf7a-86ac27121ac6</td>\n",
       "      <td>full_time</td>\n",
       "      <td>onsite</td>\n",
       "      <td>1-3</td>\n",
       "      <td>SMA/SMK</td>\n",
       "      <td>Computer &amp; Information Technology</td>\n",
       "      <td>Software</td>\n",
       "      <td>Programmer</td>\n",
       "      <td>2024-04-29</td>\n",
       "      <td>Babelan</td>\n",
       "      <td>Bekasi</td>\n",
       "      <td>Jawa Barat</td>\n",
       "    </tr>\n",
       "    <tr>\n",
       "      <th>16</th>\n",
       "      <td>16</td>\n",
       "      <td>IT Frontend &amp; Backend Developer</td>\n",
       "      <td>PT Lobunta Kencana Raya</td>\n",
       "      <td>Kerja di kantor</td>\n",
       "      <td>-</td>\n",
       "      <td>Search Engine Optimization (SEO),JavaScript,We...</td>\n",
       "      <td>https://glints.com/id/opportunities/jobs/it-fr...</td>\n",
       "      <td>92139ff9-a5bc-49aa-a319-398def61398d</td>\n",
       "      <td>full_time</td>\n",
       "      <td>onsite</td>\n",
       "      <td>1-3</td>\n",
       "      <td>Sarjana</td>\n",
       "      <td>Computer &amp; Information Technology</td>\n",
       "      <td>Software</td>\n",
       "      <td>Web Developer</td>\n",
       "      <td>2024-04-29</td>\n",
       "      <td>Sawah Besar</td>\n",
       "      <td>Jakarta Pusat</td>\n",
       "      <td>DKI Jakarta</td>\n",
       "    </tr>\n",
       "    <tr>\n",
       "      <th>...</th>\n",
       "      <td>...</td>\n",
       "      <td>...</td>\n",
       "      <td>...</td>\n",
       "      <td>...</td>\n",
       "      <td>...</td>\n",
       "      <td>...</td>\n",
       "      <td>...</td>\n",
       "      <td>...</td>\n",
       "      <td>...</td>\n",
       "      <td>...</td>\n",
       "      <td>...</td>\n",
       "      <td>...</td>\n",
       "      <td>...</td>\n",
       "      <td>...</td>\n",
       "      <td>...</td>\n",
       "      <td>...</td>\n",
       "      <td>...</td>\n",
       "      <td>...</td>\n",
       "      <td>...</td>\n",
       "    </tr>\n",
       "    <tr>\n",
       "      <th>591</th>\n",
       "      <td>591</td>\n",
       "      <td>[REMOTE] PHP Web Developer (Full Time)</td>\n",
       "      <td>PT Eannovate Creative Technology</td>\n",
       "      <td>Remote/Dari rumah</td>\n",
       "      <td>Rp4jt-Rp5,5jt</td>\n",
       "      <td>Laravel,Microsoft SQL Server,PHP,MySQL</td>\n",
       "      <td>https://glints.com/id/opportunities/jobs/remot...</td>\n",
       "      <td>c0939471-7936-4e54-8260-70598d177cd7</td>\n",
       "      <td>full_time</td>\n",
       "      <td>remote</td>\n",
       "      <td>1-3</td>\n",
       "      <td>Diploma</td>\n",
       "      <td>Computer &amp; Information Technology</td>\n",
       "      <td>Software</td>\n",
       "      <td>Web Developer</td>\n",
       "      <td>2024-04-29</td>\n",
       "      <td>Tanah Abang</td>\n",
       "      <td>Jakarta Pusat</td>\n",
       "      <td>DKI Jakarta</td>\n",
       "    </tr>\n",
       "    <tr>\n",
       "      <th>598</th>\n",
       "      <td>598</td>\n",
       "      <td>fullstack JS Web development</td>\n",
       "      <td>Telogic LTD</td>\n",
       "      <td>Kerja di kantor</td>\n",
       "      <td>Rp6jt-Rp10jt</td>\n",
       "      <td>Web Development,MongoDB,Nodejs,Angular,MySQL</td>\n",
       "      <td>https://glints.com/id/opportunities/jobs/fulls...</td>\n",
       "      <td>a7e11b3c-a4c0-40e3-bdd3-184ec2d822ac</td>\n",
       "      <td>full_time</td>\n",
       "      <td>onsite</td>\n",
       "      <td>3-5</td>\n",
       "      <td>Sarjana</td>\n",
       "      <td>Computer &amp; Information Technology</td>\n",
       "      <td>Software</td>\n",
       "      <td>Software Developer</td>\n",
       "      <td>2024-04-29</td>\n",
       "      <td>Tanah Abang</td>\n",
       "      <td>Jakarta Pusat</td>\n",
       "      <td>DKI Jakarta</td>\n",
       "    </tr>\n",
       "    <tr>\n",
       "      <th>602</th>\n",
       "      <td>602</td>\n",
       "      <td>Mobile Software Engineer</td>\n",
       "      <td>Quipper</td>\n",
       "      <td>Remote/Dari rumah</td>\n",
       "      <td>-</td>\n",
       "      <td>Swift,REST API,Kotlin</td>\n",
       "      <td>https://glints.com/id/opportunities/jobs/mobil...</td>\n",
       "      <td>91ca9f5a-871b-44f2-bc65-c53cfddd41a9</td>\n",
       "      <td>full_time</td>\n",
       "      <td>remote</td>\n",
       "      <td>3-5</td>\n",
       "      <td>Sarjana</td>\n",
       "      <td>Computer &amp; Information Technology</td>\n",
       "      <td>Mobile Development</td>\n",
       "      <td>Mobile Developer</td>\n",
       "      <td>2024-04-29</td>\n",
       "      <td>Setiabudi</td>\n",
       "      <td>Jakarta Selatan</td>\n",
       "      <td>DKI Jakarta</td>\n",
       "    </tr>\n",
       "    <tr>\n",
       "      <th>605</th>\n",
       "      <td>605</td>\n",
       "      <td>Software Engineer/Programmer</td>\n",
       "      <td>Simpul Technologies</td>\n",
       "      <td>Remote/Dari rumah</td>\n",
       "      <td>Rp5,5jt-Rp9jt</td>\n",
       "      <td>Node.js,HTML5,Ruby on Rails,GIT</td>\n",
       "      <td>https://glints.com/id/opportunities/jobs/softw...</td>\n",
       "      <td>6dffbcd7-2343-4f26-9472-b16fc033aab3</td>\n",
       "      <td>full_time</td>\n",
       "      <td>remote</td>\n",
       "      <td>1-3</td>\n",
       "      <td>SMA/SMK</td>\n",
       "      <td>Computer &amp; Information Technology</td>\n",
       "      <td>Backend Development</td>\n",
       "      <td>Backend Developer</td>\n",
       "      <td>2024-04-29</td>\n",
       "      <td>Sukolilo</td>\n",
       "      <td>Surabaya</td>\n",
       "      <td>Jawa Timur</td>\n",
       "    </tr>\n",
       "    <tr>\n",
       "      <th>608</th>\n",
       "      <td>608</td>\n",
       "      <td>Web Programmer Remote</td>\n",
       "      <td>DIFITECH</td>\n",
       "      <td>Remote/Dari rumah</td>\n",
       "      <td>-</td>\n",
       "      <td>Laravel,Website Management,React.js</td>\n",
       "      <td>https://glints.com/id/opportunities/jobs/web-p...</td>\n",
       "      <td>c28776ac-ec33-470f-90e7-2e8c256576d8</td>\n",
       "      <td>full_time</td>\n",
       "      <td>remote</td>\n",
       "      <td>1-3</td>\n",
       "      <td>SMA/SMK</td>\n",
       "      <td>Computer &amp; Information Technology</td>\n",
       "      <td>Software</td>\n",
       "      <td>Web Developer</td>\n",
       "      <td>2024-04-29</td>\n",
       "      <td>Rawalumbu</td>\n",
       "      <td>Bekasi</td>\n",
       "      <td>Jawa Barat</td>\n",
       "    </tr>\n",
       "  </tbody>\n",
       "</table>\n",
       "<p>500 rows × 19 columns</p>\n",
       "</div>"
      ],
      "text/plain": [
       "     Unnamed: 0                               job_title  \\\n",
       "8             8                       Fronted Developer   \n",
       "9             9              Frontend ReactJS Developer   \n",
       "10           10                  Frontend Web Developer   \n",
       "13           13              Frontend / React Developer   \n",
       "16           16         IT Frontend & Backend Developer   \n",
       "..          ...                                     ...   \n",
       "591         591  [REMOTE] PHP Web Developer (Full Time)   \n",
       "598         598            fullstack JS Web development   \n",
       "602         602                Mobile Software Engineer   \n",
       "605         605            Software Engineer/Programmer   \n",
       "608         608                   Web Programmer Remote   \n",
       "\n",
       "                         company_name         work_place   salary_range  \\\n",
       "8    Pt. Quantus Telematika Indonesia    Kerja di kantor              -   \n",
       "9       PT Code Development Indonesia    Kerja di kantor              -   \n",
       "10         PT Digital Nayaka Abhinaya    Kerja di kantor  Rp5,5jt-Rp7jt   \n",
       "13          PT Tonjoo Gagas Teknologi    Kerja di kantor  Rp3jt-Rp4,5jt   \n",
       "16            PT Lobunta Kencana Raya    Kerja di kantor              -   \n",
       "..                                ...                ...            ...   \n",
       "591  PT Eannovate Creative Technology  Remote/Dari rumah  Rp4jt-Rp5,5jt   \n",
       "598                       Telogic LTD    Kerja di kantor   Rp6jt-Rp10jt   \n",
       "602                           Quipper  Remote/Dari rumah              -   \n",
       "605               Simpul Technologies  Remote/Dari rumah  Rp5,5jt-Rp9jt   \n",
       "608                          DIFITECH  Remote/Dari rumah              -   \n",
       "\n",
       "                                                 skill  \\\n",
       "8    JavaScript,CSS3,React.js,GIT,Vue.js,React Nati...   \n",
       "9           Frontend Development,React Native,React.js   \n",
       "10                                 PHP,React.js,Vue.js   \n",
       "13        TailwindCSS,REST API,GIT,React.js,JavaScript   \n",
       "16   Search Engine Optimization (SEO),JavaScript,We...   \n",
       "..                                                 ...   \n",
       "591             Laravel,Microsoft SQL Server,PHP,MySQL   \n",
       "598       Web Development,MongoDB,Nodejs,Angular,MySQL   \n",
       "602                              Swift,REST API,Kotlin   \n",
       "605                    Node.js,HTML5,Ruby on Rails,GIT   \n",
       "608                Laravel,Website Management,React.js   \n",
       "\n",
       "                                      more_detail_link  \\\n",
       "8    https://glints.com/id/opportunities/jobs/front...   \n",
       "9    https://glints.com/id/opportunities/jobs/front...   \n",
       "10   https://glints.com/id/opportunities/jobs/front...   \n",
       "13   https://glints.com/id/opportunities/jobs/front...   \n",
       "16   https://glints.com/id/opportunities/jobs/it-fr...   \n",
       "..                                                 ...   \n",
       "591  https://glints.com/id/opportunities/jobs/remot...   \n",
       "598  https://glints.com/id/opportunities/jobs/fulls...   \n",
       "602  https://glints.com/id/opportunities/jobs/mobil...   \n",
       "605  https://glints.com/id/opportunities/jobs/softw...   \n",
       "608  https://glints.com/id/opportunities/jobs/web-p...   \n",
       "\n",
       "                                   job_id  work_type workplace  \\\n",
       "8    abe705b4-9be4-4d0b-a958-fd8f2d0e379e  full_time    onsite   \n",
       "9    02f56ac0-3324-4864-810f-06cf20e4d2b9  full_time    onsite   \n",
       "10   5a29bddd-536e-4c10-a821-7b8ed4f2c258  full_time    onsite   \n",
       "13   b8c2b3ee-2729-4964-bf7a-86ac27121ac6  full_time    onsite   \n",
       "16   92139ff9-a5bc-49aa-a319-398def61398d  full_time    onsite   \n",
       "..                                    ...        ...       ...   \n",
       "591  c0939471-7936-4e54-8260-70598d177cd7  full_time    remote   \n",
       "598  a7e11b3c-a4c0-40e3-bdd3-184ec2d822ac  full_time    onsite   \n",
       "602  91ca9f5a-871b-44f2-bc65-c53cfddd41a9  full_time    remote   \n",
       "605  6dffbcd7-2343-4f26-9472-b16fc033aab3  full_time    remote   \n",
       "608  c28776ac-ec33-470f-90e7-2e8c256576d8  full_time    remote   \n",
       "\n",
       "    years_experience min_education                           category  \\\n",
       "8                1-3       Diploma  Computer & Information Technology   \n",
       "9                3-5       Sarjana  Computer & Information Technology   \n",
       "10               1-3       Diploma  Computer & Information Technology   \n",
       "13               1-3       SMA/SMK  Computer & Information Technology   \n",
       "16               1-3       Sarjana  Computer & Information Technology   \n",
       "..               ...           ...                                ...   \n",
       "591              1-3       Diploma  Computer & Information Technology   \n",
       "598              3-5       Sarjana  Computer & Information Technology   \n",
       "602              3-5       Sarjana  Computer & Information Technology   \n",
       "605              1-3       SMA/SMK  Computer & Information Technology   \n",
       "608              1-3       SMA/SMK  Computer & Information Technology   \n",
       "\n",
       "                                   sub_category                  role  \\\n",
       "8                            Mobile Development      Mobile Developer   \n",
       "9    Operation, Maintenance & Technical Support  IT Technical Support   \n",
       "10                         Frontend Development     Frontend Engineer   \n",
       "13                                     Software            Programmer   \n",
       "16                                     Software         Web Developer   \n",
       "..                                          ...                   ...   \n",
       "591                                    Software         Web Developer   \n",
       "598                                    Software    Software Developer   \n",
       "602                          Mobile Development      Mobile Developer   \n",
       "605                         Backend Development     Backend Developer   \n",
       "608                                    Software         Web Developer   \n",
       "\n",
       "    scrapped_date      district              city      province  \n",
       "8      2024-04-29       Coblong           Bandung    Jawa Barat  \n",
       "9      2024-04-29     Setiabudi   Jakarta Selatan   DKI Jakarta  \n",
       "10     2024-04-29  Bekasi Barat            Bekasi    Jawa Barat  \n",
       "13     2024-04-29       Babelan            Bekasi    Jawa Barat  \n",
       "16     2024-04-29   Sawah Besar     Jakarta Pusat   DKI Jakarta  \n",
       "..            ...           ...               ...           ...  \n",
       "591    2024-04-29   Tanah Abang     Jakarta Pusat   DKI Jakarta  \n",
       "598    2024-04-29   Tanah Abang     Jakarta Pusat   DKI Jakarta  \n",
       "602    2024-04-29     Setiabudi   Jakarta Selatan   DKI Jakarta  \n",
       "605    2024-04-29      Sukolilo          Surabaya    Jawa Timur  \n",
       "608    2024-04-29     Rawalumbu            Bekasi    Jawa Barat  \n",
       "\n",
       "[500 rows x 19 columns]"
      ]
     },
     "execution_count": 30,
     "metadata": {},
     "output_type": "execute_result"
    }
   ],
   "source": [
    "df[~df['job_title'].str.contains('Frontend Developer')]"
   ]
  },
  {
   "cell_type": "code",
   "execution_count": 19,
   "metadata": {},
   "outputs": [],
   "source": [
    "df.to_csv('cleaned_29_04_frontend.csv')"
   ]
  },
  {
   "cell_type": "code",
   "execution_count": null,
   "metadata": {},
   "outputs": [],
   "source": []
  },
  {
   "cell_type": "code",
   "execution_count": 122,
   "metadata": {},
   "outputs": [],
   "source": [
    "# delete category column\n",
    "df.drop('category',axis=1,inplace=True)\n"
   ]
  },
  {
   "cell_type": "markdown",
   "metadata": {},
   "source": [
    "# Finding Duplicates from Prev Data "
   ]
  },
  {
   "cell_type": "code",
   "execution_count": 1,
   "metadata": {},
   "outputs": [],
   "source": [
    "import pandas as pd"
   ]
  },
  {
   "cell_type": "code",
   "execution_count": 53,
   "metadata": {},
   "outputs": [],
   "source": []
  },
  {
   "cell_type": "code",
   "execution_count": 72,
   "metadata": {},
   "outputs": [],
   "source": [
    "# Find duplicate IDs in the second dataset\n",
    "duplicates = df[df['job_id'].isin(df1['job_id'])]\n",
    "\n",
    "# Remove duplicates from the second dataset\n",
    "df2_cleaned = df[~df['job_id'].isin(duplicates['job_id'])]"
   ]
  },
  {
   "cell_type": "code",
   "execution_count": 73,
   "metadata": {},
   "outputs": [
    {
     "data": {
      "text/plain": [
       "53"
      ]
     },
     "execution_count": 73,
     "metadata": {},
     "output_type": "execute_result"
    }
   ],
   "source": [
    "len(df2_cleaned)"
   ]
  },
  {
   "cell_type": "code",
   "execution_count": 76,
   "metadata": {},
   "outputs": [],
   "source": [
    "combined_df = pd.concat([df1,df2_cleaned], ignore_index=True)"
   ]
  },
  {
   "cell_type": "code",
   "execution_count": 78,
   "metadata": {},
   "outputs": [
    {
     "data": {
      "text/plain": [
       "125"
      ]
     },
     "execution_count": 78,
     "metadata": {},
     "output_type": "execute_result"
    }
   ],
   "source": [
    "combined_df.drop_duplicates\n",
    "len(combined_df)\n"
   ]
  }
 ],
 "metadata": {
  "kernelspec": {
   "display_name": "Python 3",
   "language": "python",
   "name": "python3"
  },
  "language_info": {
   "codemirror_mode": {
    "name": "ipython",
    "version": 3
   },
   "file_extension": ".py",
   "mimetype": "text/x-python",
   "name": "python",
   "nbconvert_exporter": "python",
   "pygments_lexer": "ipython3",
   "version": "3.10.6"
  }
 },
 "nbformat": 4,
 "nbformat_minor": 2
}
