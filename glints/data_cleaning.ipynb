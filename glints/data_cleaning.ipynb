{
 "cells": [
  {
   "cell_type": "code",
   "execution_count": 1,
   "metadata": {},
   "outputs": [],
   "source": [
    "import pandas as pd"
   ]
  },
  {
   "cell_type": "code",
   "execution_count": 71,
   "metadata": {},
   "outputs": [],
   "source": [
    "df = pd.read_csv('list_of_jobs_glints_1.csv')"
   ]
  },
  {
   "cell_type": "code",
   "execution_count": 59,
   "metadata": {},
   "outputs": [],
   "source": [
    "# remove 'experience,logo' from the skill column \n",
    "df['skill'] = df['skill'].str.replace('experience,logo,', '')"
   ]
  },
  {
   "cell_type": "code",
   "execution_count": 60,
   "metadata": {},
   "outputs": [],
   "source": [
    "df['skill'] = df['skill'].str.replace('experience,salary,logo,', '')"
   ]
  },
  {
   "cell_type": "code",
   "execution_count": 61,
   "metadata": {},
   "outputs": [],
   "source": [
    "df['skill'] = df['skill'].str.replace('experience,', '')"
   ]
  },
  {
   "cell_type": "code",
   "execution_count": 81,
   "metadata": {},
   "outputs": [],
   "source": [
    "df['skill'] = df['skill'].str.replace('logo,', '')"
   ]
  },
  {
   "cell_type": "code",
   "execution_count": 65,
   "metadata": {},
   "outputs": [],
   "source": [
    "df = df.replace('Not Written','-')"
   ]
  },
  {
   "cell_type": "code",
   "execution_count": 82,
   "metadata": {},
   "outputs": [],
   "source": [
    "df.to_csv('list_of_jobs_glints_2.csv', index=False)"
   ]
  },
  {
   "cell_type": "code",
   "execution_count": 53,
   "metadata": {},
   "outputs": [],
   "source": [
    "# 'job_id','job_title','category','sub_category','role'\n",
    "# output df with column 'job_id','job_title','category','sub_category','role','skill'\n",
    "df = df[['job_id','job_title','sub_category','role']]"
   ]
  },
  {
   "cell_type": "code",
   "execution_count": 56,
   "metadata": {},
   "outputs": [
    {
     "data": {
      "text/plain": [
       "sub_category\n",
       "Software                                      177\n",
       "Operation, Maintenance & Technical Support    138\n",
       "Backend Development                           111\n",
       "Network, System & Database Admin               88\n",
       "Data                                           73\n",
       "Mobile Development                             65\n",
       "Frontend Development                           61\n",
       "Other Computer & Information Technology        58\n",
       "Full Stack Development                         56\n",
       "QA & Software Testing                          51\n",
       "Electronic & Semiconductor                     50\n",
       "Cyber Security                                 22\n",
       "Artificial Intelligence                        14\n",
       "Hardware Development                           13\n",
       "Telecommunication                              11\n",
       "Senior Technical Position                      10\n",
       "Technical Sales Support                         9\n",
       "Game Development                                3\n",
       "Education                                       2\n",
       "Finance & Accounting                            1\n",
       "Name: count, dtype: int64"
      ]
     },
     "execution_count": 56,
     "metadata": {},
     "output_type": "execute_result"
    }
   ],
   "source": [
    "df['sub_category'].value_counts()"
   ]
  }
 ],
 "metadata": {
  "kernelspec": {
   "display_name": "Python 3",
   "language": "python",
   "name": "python3"
  },
  "language_info": {
   "codemirror_mode": {
    "name": "ipython",
    "version": 3
   },
   "file_extension": ".py",
   "mimetype": "text/x-python",
   "name": "python",
   "nbconvert_exporter": "python",
   "pygments_lexer": "ipython3",
   "version": "3.10.6"
  }
 },
 "nbformat": 4,
 "nbformat_minor": 2
}
