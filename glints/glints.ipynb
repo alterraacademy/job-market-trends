{
 "cells": [
  {
   "cell_type": "code",
   "execution_count": 57,
   "metadata": {},
   "outputs": [
    {
     "name": "stdout",
     "output_type": "stream",
     "text": [
      "<div class=\"JobCardsc__JobcardContainer-sc-hmqj50-0 iirqVR CompactOpportunityCardsc__CompactJobCardWrapper-sc-dkg8my-2 bMyejJ compact_job_card\"><div aria-label=\"Job Card\" class=\"JobCardsc__JobCardWrapper-sc-hmqj50-1 fnsbDp\" data-position=\"0\" role=\"presentation\" tabindex=\"0\"><a class=\"CompactOpportunityCardsc__CardAnchorWrapper-sc-dkg8my-24 knEIai job-search-results_job-card_link\" href=\"/id/opportunities/jobs/back-end-developer/fbcc6efd-3e92-47c8-848b-28fd57ee1478?utm_referrer=explore\" target=\"_blank\"></a><div aria-label=\"Job card 0\" class=\"CompactOpportunityCardsc__CompactJobCard-sc-dkg8my-3 dmlEjD\" data-gtm-is-confidential-company=\"false\" data-gtm-is-hot-job=\"true\" data-gtm-job-card-info=\"experience,salary,logo,Laravel,PHP,Python,Go / Golang\" data-gtm-job-category=\"Computer &amp; Information Technology\" data-gtm-job-company-id=\"5280573f-4de2-491e-b4a5-b35c0a388615\" data-gtm-job-id=\"fbcc6efd-3e92-47c8-848b-28fd57ee1478\" data-gtm-job-idx=\"0\" data-gtm-job-role=\"Backend Developer\" data-gtm-job-sub-category=\"Backend Development\" data-gtm-job-type=\"full_time\"><div class=\"CompactOpportunityCardsc__OpportunityUpper-sc-dkg8my-17 eIpvEQ\"><div class=\"CompactOpportunityCardsc__JobTitleSalaryWrapper-sc-dkg8my-8 llTYyK\"><h3 aria-label=\"Job card title 0\" class=\"CompactOpportunityCardsc__JobTitle-sc-dkg8my-9 hgMGcy\">Back End Developer</h3><span class=\"CompactOpportunityCardsc__SalaryWrapper-sc-dkg8my-29 gfPeyg\">Rp3jt<!-- -->-<!-- -->Rp5jt</span></div><div class=\"CompactOpportunityCardTags__TagsWrapper-sc-610p59-0 pKLsB\"><div class=\"TagStyle-sc-r1wv7a-4 bJWZOt CompactOpportunityCardTags__Tag-sc-610p59-1 hncMah\" data-clickable=\"false\" data-content-type=\"neutral\" data-removeable=\"false\"><span class=\"TagStyle__TagContentStyle-sc-r1wv7a-0 eChkbc\" data-removeable=\"false\"><div class=\"TagStyle__TagContentWrapper-sc-r1wv7a-1 koGVuk\">Kerja di kantor</div></span></div><div class=\"TagStyle-sc-r1wv7a-4 bJWZOt CompactOpportunityCardTags__Tag-sc-610p59-1 hncMah\" data-clickable=\"false\" data-content-type=\"neutral\" data-removeable=\"false\"><span class=\"TagStyle__TagContentStyle-sc-r1wv7a-0 eChkbc\" data-removeable=\"false\"><div class=\"TagStyle__TagContentWrapper-sc-r1wv7a-1 koGVuk\">Penuh Waktu</div></span></div><div class=\"TagStyle-sc-r1wv7a-4 bJWZOt CompactOpportunityCardTags__Tag-sc-610p59-1 hncMah\" data-clickable=\"false\" data-content-type=\"neutral\" data-removeable=\"false\"><span class=\"TagStyle__TagContentStyle-sc-r1wv7a-0 eChkbc\" data-removeable=\"false\"><div class=\"TagStyle__TagContentWrapper-sc-r1wv7a-1 koGVuk\">1 – 3 tahun</div></span></div><div class=\"TagStyle-sc-r1wv7a-4 bJWZOt CompactOpportunityCardTags__Tag-sc-610p59-1 hncMah\" data-clickable=\"false\" data-content-type=\"neutral\" data-removeable=\"false\"><span class=\"TagStyle__TagContentStyle-sc-r1wv7a-0 eChkbc\" data-removeable=\"false\"><div class=\"TagStyle__TagContentWrapper-sc-r1wv7a-1 koGVuk\"><span>Minimal Sarjana (S1)</span></div></span></div><div class=\"TagStyle-sc-r1wv7a-4 bJWZOt CompactOpportunityCardTags__Tag-sc-610p59-1 hncMah\" data-clickable=\"false\" data-content-type=\"neutral\" data-removeable=\"false\"><span class=\"TagStyle__TagContentStyle-sc-r1wv7a-0 eChkbc\" data-removeable=\"false\"><div class=\"TagStyle__TagContentWrapper-sc-r1wv7a-1 koGVuk\">+<!-- -->4</div></span></div></div><span class=\"CompactOpportunityCardsc__CompanyLinkContainer-sc-dkg8my-12 hWrPWy\" data-cy=\"company_name_job_card\"><div class=\"CompactOpportunityCardsc__CompanyAvatarWrapper-sc-dkg8my-5 joXEyj\"><img alt=\"PT Rect Media Komputindo\" class=\"CompactOpportunityCardsc__CompanyAvatar-sc-dkg8my-4 dbTcXv\" loading=\"lazy\" sizes=\"32px\" src=\"https://images.glints.com/unsafe///glints-dashboard.s3.amazonaws.com/company-logo/37dc7910e2c5da2d1dd69a2cda4dc7b3.png\" srcset=\"https://images.glints.com/unsafe/60x0///glints-dashboard.s3.amazonaws.com/company-logo/37dc7910e2c5da2d1dd69a2cda4dc7b3.png 60w, https://images.glints.com/unsafe/120x0///glints-dashboard.s3.amazonaws.com/company-logo/37dc7910e2c5da2d1dd69a2cda4dc7b3.png 120w, https://images.glints.com/unsafe/180x0///glints-dashboard.s3.amazonaws.com/company-logo/37dc7910e2c5da2d1dd69a2cda4dc7b3.png 180w, https://images.glints.com/unsafe/240x0///glints-dashboard.s3.amazonaws.com/company-logo/37dc7910e2c5da2d1dd69a2cda4dc7b3.png 240w\"/></div><div class=\"CompactOpportunityCardsc__CompanyDetailContainer-sc-dkg8my-13 bDCwTJ\" data-cy=\"company_name_job_card\"><div class=\"CompactOpportunityCardsc__Ellipsis-sc-dkg8my-14 fGJJLe\"><a aria-label=\"Job card company 0\" class=\"CompactOpportunityCardsc__CompanyLink-sc-dkg8my-10 iTRLWx\" href=\"/id/companies/pt-rect-media-komputindo/5280573f-4de2-491e-b4a5-b35c0a388615\" target=\"_blank\"><svg class=\"CompactOpportunityCardsc__Icon-sc-dkg8my-35 gwqPQb\" viewbox=\"0 0 12 15\" xmlns=\"http://www.w3.org/2000/svg\"><path d=\"m6 .167 5.478 1.217a.667.667 0 0 1 .522.65v6.659a4 4 0 0 1-1.781 3.328L6 14.833l-4.219-2.812A4 4 0 0 1 0 8.693V2.035c0-.313.217-.583.522-.651L6 .167ZM8.968 4.98l-3.3 3.3-1.885-1.886-.943.943 2.828 2.829 4.243-4.243-.943-.943Z\"></path></svg>PT Rect Media Komputindo</a></div><div class=\"CompactOpportunityCardsc__OpportunityInfo-sc-dkg8my-16 krJQkc\"><svg class=\"IconStyle__VerticalCenteredSvg-sc-x7d280-0 caeFAp CardJobLocation__LocationIcon-sc-1by41tq-0 miJyG\" data-testid=\"icon-svg\" fill=\"#646464\" height=\"1em\" viewbox=\"0 0 100 100\" width=\"1em\"><path d=\"M24.491 10.268C31.485 3.423 39.893 0 49.714 0c9.822 0 18.23 3.423 25.224 10.268 6.994 6.845 10.49 15.104 10.49 24.777 0 7.738-2.976 17.038-8.928 27.901-5.952 10.864-11.905 19.792-17.857 26.786L49.714 100c-1.041-1.042-2.343-2.493-3.906-4.353-1.562-1.86-4.39-5.468-8.482-10.826-4.092-5.357-7.701-10.565-10.826-15.625-3.125-5.06-5.99-10.788-8.594-17.187C15.302 45.61 14 39.955 14 35.045c0-9.673 3.497-17.932 10.491-24.777zm16.072 33.705c2.53 2.381 5.58 3.572 9.151 3.572 3.572 0 6.585-1.228 9.04-3.683 2.456-2.456 3.684-5.395 3.684-8.817 0-3.423-1.228-6.362-3.684-8.817-2.455-2.456-5.468-3.683-9.04-3.683-3.571 0-6.585 1.227-9.04 3.683-2.455 2.455-3.683 5.394-3.683 8.817 0 3.422 1.19 6.398 3.571 8.928z\"></path></svg><span class=\"CardJobLocation__StyledTruncatedLocation-sc-1by41tq-1 kEinQH\" title=\"Semarang Tengah, Semarang, Jawa Tengah\">Semarang Tengah, Semarang, Jawa Tengah</span></div></div></span></div><div class=\"CompactOpportunityCardsc__OpportunityLower-sc-dkg8my-18 hCpZrt\"><div class=\"DividerStyle-sc-afs7ts-0 iijZzI CompactOpportunityCardsc__Divider-sc-dkg8my-34 guwBqw\"></div><div class=\"CompactOpportunityCardsc__OpportunityFooter-sc-dkg8my-19 hwYSIu\"><div class=\"CompactOpportunityCardsc__OpportunityMeta-sc-dkg8my-20 kRwONg\"><div><div class=\"CheckMarkHotJobBadgesc__CheckMarkHotJobBadgeContainer-sc-1k7fgk9-0 fWFGgF\"><span>Hot</span></div></div></div><div><div class=\"CompactOpportunityCardsc__BookmarkIconContainer-sc-dkg8my-6 jwEMtu\"><div aria-label=\"Job card bookmark 0\" class=\"BookmarkButtonsc__ButtonWrapper-sc-f7f730-2 kVzWJr job_card-bookmark_job undefined\" data-cy=\"bookmarked_icon\" data-gtm-bookmarked=\"false\" id=\"fbcc6efd-3e92-47c8-848b-28fd57ee1478\" type=\"OPPORTUNITY\"><svg class=\"IconStyle__VerticalCenteredSvg-sc-x7d280-0 caeFAp BookmarkButtonsc__BookmarkOutlineIcon-sc-f7f730-1 iyKJwW\" data-testid=\"icon-svg\" fill=\"#777777\" height=\"1em\" viewbox=\"0 0 100 100\" width=\"1em\"><path d=\"M88,0 L88,100 L50,71.6603516 L12,100 L12,0 L88,0 Z M82,6.36363636 L18,6.36363636 L18,87 L50,64.5990754 L82,87 L82,6.36363636 Z\"></path></svg></div></div></div></div></div></div></div></div>\n",
      "Job Title: Back End Developer\n",
      "Company Name: PT Rect Media Komputindo\n",
      "Experience: 1 – 3 tahun\n",
      "Education: Minimal Sarjana (S1)\n",
      "Work Place: Kerja di kantor\n",
      "Work Type: full_time\n",
      "Salary: Rp3jt-Rp5jt\n",
      "Detail Description: Job DescriptionsMembangun perangkat lunak yang kuat dan skalabel dengan membangun fitur baru, debugging, dan mengoptimalkan aplikasiMenulis kode bersih untuk mengembangkan aplikasi web fungsionalBerkolaborasi dengan pengembang front-end untuk mengintegrasikan elemen yang terlihat oleh pengguna dengan logika sisi serverMengembangkan dan mengusulkan produk atau fitur baru dengan memantau industriBekerja sama dengan desainer, manajer produk, dan administrator sistem untuk mengidentifikasi dan membangun fitur baruJob RequirementsPendidikan minimal S1 Ilmu komputer / Sistem Informasi / Informasi teknologiPengalaman minimal 1 tahun di bidang yang samaPengetahuan dan pengalaman yang kuat dalam back-end (Python / PHP / Go)Familiaritas dengan database seperti MySQL, MongoDBPengalaman dengan Ubuntu dan manajemen serverPengalaman dengan DevOps dan CI/CDKeahlian dalam penggunaan alat manajemen kode seperti GitFamiliar dengan layanan web hosting seperti GCP, AWS, AzurePengetahuan tentang arsitektur MVC, Pub/Sub, dan Streams\n",
      "No more pages to fetch\n"
     ]
    }
   ],
   "source": [
    "from bs4 import BeautifulSoup\n",
    "import requests\n",
    "import pandas as pd\n",
    "import os\n",
    "import re\n",
    "\n",
    "# Helper Function\n",
    "def find_tag_value(soup, tag, class_name):\n",
    "    try:\n",
    "        return soup.find(tag, class_=(class_name)).text.strip()\n",
    "    except AttributeError:\n",
    "        return None\n",
    "    \n",
    "def find_tag_attr(job_card, attr):\n",
    "    try:\n",
    "        return job_card.find('div', {'data-gtm-job-' + attr: True})['data-gtm-job-' + attr]\n",
    "    except (AttributeError, KeyError):\n",
    "        return None\n",
    "    \n",
    "\n",
    "list_jobs = {'golang','.net','php developer','laravel','java','python','nodejs','reactjs','nextjs','angularjs','fluter','kotlin','vuejs','backend','frontend','mobile','data analyst','data scientist','data engineer','software engineer','software developer','full-stack','programmer','javascript','user interface','user experience','hr officer','accounting officer'}\n",
    "\n",
    "# list_jobs = {'golang'}\n",
    "\n",
    "page = 1\n",
    "data = []\n",
    "\n",
    "for i in list_jobs:\n",
    "    search_position = i\n",
    "    search_position = search_position.lower().replace(' ','+')\n",
    "\n",
    "# template = 'https://glints.com/id/opportunities/jobs/explore?'\n",
    "# url_params = 'keyword={}&country=ID&locationName={}' if search_position and location else 'keyword={}&country=ID&locationName=All+Cities%2FProvinces'\n",
    "\n",
    "    while True:\n",
    "        # 1. find using input job on list\n",
    "        # url = 'https://glints.com/id/opportunities/jobs/explore?keyword={}&country=ID&locationName=All+Cities%2FProvinces&page={}'.format(search_position,page)\n",
    "\n",
    "        # 2. find using category = computer information technology\n",
    "        url = 'https://glints.com/id/job-category/computer-information-technology?page={}'.format(page)\n",
    "        headers = {'User-Agent': 'Mozilla/5.0 (Windows NT 10.0; Win64; x64) AppleWebKit/537.36 (KHTML, like Gecko) Chrome/58.0.3029.110 Safari/537.3'}\n",
    "        response = requests.get(url, headers=headers)\n",
    "\n",
    "        # if response.status_code == 200:\n",
    "        soup = BeautifulSoup(response.content, 'html.parser')\n",
    "        job_cards = soup.find('div', class_='JobCardsc__JobcardContainer-sc-hmqj50-0 iirqVR CompactOpportunityCardsc__CompactJobCardWrapper-sc-dkg8my-2 bMyejJ compact_job_card')\n",
    "        print(job_cards)\n",
    "                \n",
    "        for job_card in job_cards:\n",
    "            job_title = find_tag_value(job_card, 'h3', 'CompactOpportunityCardsc__JobTitle-sc-dkg8my-9 hgMGcy')\n",
    "            company_name = find_tag_value(job_card, 'a', 'CompactOpportunityCardsc__CompanyLink-sc-dkg8my-10 iTRLWx')\n",
    "            job_location = find_tag_value(job_card, 'span', 'CardJobLocation__StyledTruncatedLocation-sc-1by41tq-1 kEinQH')\n",
    "            work_place = find_tag_value(job_card, 'div', 'TagStyle-sc-r1wv7a-4 bJWZOt CompactOpportunityCardTags__Tag-sc-610p59-1 hncMah')\n",
    "            job_tags = job_cards.find_all('div', class_='TagStyle__TagContentWrapper-sc-r1wv7a-1 koGVuk')\n",
    "            job_tag_values = [tag.text for tag in job_tags]\n",
    "            years_experience = job_tag_values[2]\n",
    "            min_education = job_tag_values[3]\n",
    "            \n",
    "            salary_range = find_tag_value(job_card, 'span', 'CompactOpportunityCardsc__NotDisclosedMessage-sc-dkg8my-23 hivaYx')\n",
    "            if salary_range:\n",
    "                salary_range = 'Not Written'\n",
    "            else:\n",
    "                salary_range = find_tag_value(job_card, 'span', 'CompactOpportunityCardsc__SalaryWrapper-sc-dkg8my-29 gfPeyg')\n",
    "            \n",
    "            skill = find_tag_attr(job_card, 'card-info').replace('experience,logo,','')\n",
    "            job_id = find_tag_attr(job_card, 'id')\n",
    "            work_type = find_tag_attr(job_card, 'type')\n",
    "            category = find_tag_attr(job_card, 'category')\n",
    "            sub_category = find_tag_attr(job_card, 'sub-category')\n",
    "            role = find_tag_attr(job_card, 'role')\n",
    "\n",
    "            more_detail_link = 'https://glints.com'+ job_card.find('a', class_= 'CompactOpportunityCardsc__CardAnchorWrapper-sc-dkg8my-24 knEIai job-search-results_job-card_link').get('href')\n",
    "            # detail link request\n",
    "            response_detail = requests.get(more_detail_link, headers=headers)\n",
    "            soup_detail = BeautifulSoup(response_detail.content, 'html.parser')\n",
    "            job_description = find_tag_value(soup_detail,'div','JobDescriptionsc__DescriptionContainer-sc-22zrgx-2 jCwTA-d')\n",
    "\n",
    "            print(f\"Job Title: {job_title}\")\n",
    "            print(f\"Company Name: {company_name}\")\n",
    "            print(f\"Experience: {years_experience}\")\n",
    "            print(f\"Education: {min_education}\")\n",
    "            print(f\"Work Place: {work_place}\")\n",
    "            print(f\"Work Type: {work_type}\")\n",
    "            # print(f\"Posted Date: {posted_date}\")\n",
    "            print(f\"Salary: {salary_range}\")\n",
    "            print(f\"Detail Description: {job_description}\")\n",
    "            \n",
    "            data.append({\n",
    "                'job_title': job_title,\n",
    "                'company_name': company_name,\n",
    "                'job_location': job_location,\n",
    "                'work_place': work_place,\n",
    "                'salary_range': salary_range,\n",
    "                'more_detail_link': more_detail_link,\n",
    "                'job_id': job_id,\n",
    "                'work_type': work_type,\n",
    "                'workplace': work_place,\n",
    "                'years_experience': years_experience,\n",
    "                'min_education': min_education,\n",
    "                'category': category,\n",
    "                'sub_category': sub_category,\n",
    "                'role': role\n",
    "            })\n",
    "            \n",
    "        page += 1\n",
    "        next_button = soup.find('a', class_='pagination__link pagination__next')\n",
    "        if not next_button:\n",
    "            print('No more pages to fetch')\n",
    "            break\n",
    "        \n",
    "        else:\n",
    "            print(f\"Failed to fetch URL: {url}\")\n",
    "            break\n",
    "    break\n",
    "\n",
    "\n",
    "\n",
    "# df = pd.DataFrame(data)\n",
    "\n",
    "# script_dir = os.path.dirname(os.path.abspath(__file__))\n",
    "# custom_name = f'list_of_jobs_glints_1.csv'\n",
    "# file_path = os.path.join(script_dir, custom_name)\n",
    "# df.to_csv(file_path, index=False, encoding='utf-8')\n",
    "\n",
    "# # connect to mongodb\n",
    "\n",
    "# import pymongo\n",
    "# from pymongo import MongoClient\n",
    "\n",
    "# # connect to mongodb\n",
    " \n",
    "# client = MongoClient('mongodb://localhost:27017/')\n",
    "# db = client['jobs']\n",
    "# collection = db['glints']\n",
    "\n",
    "# # convert dataframe to dictionary\n",
    "# data_dict = df.to_dict(\"records\")\n",
    "\n",
    "# # insert data to mongodb\n",
    "# collection.insert_many(data_dict)\n",
    "\n",
    "# # check data in mongodb\n",
    "# cursor = collection.find({})\n",
    "# for document in cursor:\n",
    "#     print(document)\n",
    "\n",
    "\n",
    "\n",
    "\n",
    "\n",
    "\n",
    "    "
   ]
  },
  {
   "cell_type": "code",
   "execution_count": null,
   "metadata": {},
   "outputs": [],
   "source": [
    "import csv\n",
    "import sys\n",
    "import pandas as pd\n",
    "import re\n",
    "\n"
   ]
  },
  {
   "cell_type": "markdown",
   "metadata": {},
   "source": [
    "# Merging 2 CSV Files"
   ]
  },
  {
   "cell_type": "code",
   "execution_count": null,
   "metadata": {},
   "outputs": [],
   "source": [
    "df = pd.read_csv('list_of_jobs_glints.csv')\n",
    "df2 = pd.read_csv('list_of_jobs_glints_2.csv')"
   ]
  },
  {
   "cell_type": "code",
   "execution_count": null,
   "metadata": {},
   "outputs": [],
   "source": [
    "\n",
    "merged_df = pd.concat([df, df2])\n",
    "merged_df.to_csv('merged_file.csv', index=False)\n"
   ]
  },
  {
   "cell_type": "markdown",
   "metadata": {},
   "source": [
    "# Cleaning Merged File "
   ]
  },
  {
   "cell_type": "code",
   "execution_count": null,
   "metadata": {},
   "outputs": [],
   "source": [
    "# remove duplicate based on job_id\n",
    "merged_df = merged_df.drop_duplicates(subset='job_id', keep='first')"
   ]
  },
  {
   "cell_type": "code",
   "execution_count": null,
   "metadata": {},
   "outputs": [],
   "source": [
    "merged_df.to_csv('merged_file.csv', index=False)"
   ]
  },
  {
   "cell_type": "code",
   "execution_count": null,
   "metadata": {},
   "outputs": [],
   "source": [
    "merged_file = pd.read_csv('merged_file.csv')"
   ]
  },
  {
   "cell_type": "markdown",
   "metadata": {},
   "source": [
    "## Cleaning Company Name Column"
   ]
  },
  {
   "cell_type": "code",
   "execution_count": null,
   "metadata": {},
   "outputs": [],
   "source": [
    "def clean_column(job_dataset, column_name):\n",
    "    corpus = []\n",
    "    for i in range(0, len(job_dataset)):\n",
    "        text = re.sub(r'[.\"]', '', job_dataset[column_name][i])\n",
    "        text = text.upper()\n",
    "        text = text.split()\n",
    "        text = ' '.join(text)\n",
    "        corpus.append(text)\n",
    "\n",
    "    job_dataset[column_name] = corpus\n",
    "    return job_dataset"
   ]
  },
  {
   "cell_type": "code",
   "execution_count": null,
   "metadata": {},
   "outputs": [],
   "source": [
    "clean_column(merged_file,'company_name')"
   ]
  },
  {
   "cell_type": "code",
   "execution_count": null,
   "metadata": {},
   "outputs": [],
   "source": [
    "merged_file['role'].value_counts().to_csv('role.csv')"
   ]
  },
  {
   "cell_type": "code",
   "execution_count": null,
   "metadata": {},
   "outputs": [],
   "source": [
    "merged_file['sub_category'].value_counts().to_csv('sub_cat.csv')"
   ]
  }
 ],
 "metadata": {
  "kernelspec": {
   "display_name": "Python 3",
   "language": "python",
   "name": "python3"
  },
  "language_info": {
   "codemirror_mode": {
    "name": "ipython",
    "version": 3
   },
   "file_extension": ".py",
   "mimetype": "text/x-python",
   "name": "python",
   "nbconvert_exporter": "python",
   "pygments_lexer": "ipython3",
   "version": "3.10.6"
  }
 },
 "nbformat": 4,
 "nbformat_minor": 2
}
