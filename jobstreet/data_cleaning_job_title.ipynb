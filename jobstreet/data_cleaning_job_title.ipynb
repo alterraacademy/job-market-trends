{
 "cells": [
  {
   "cell_type": "code",
   "execution_count": 3,
   "metadata": {},
   "outputs": [],
   "source": [
    "import pandas as pd\n"
   ]
  },
  {
   "cell_type": "code",
   "execution_count": 4,
   "metadata": {},
   "outputs": [],
   "source": [
    "job_dataset = pd.read_csv('jobstreet_cleaned.csv')"
   ]
  },
  {
   "cell_type": "code",
   "execution_count": 5,
   "metadata": {},
   "outputs": [
    {
     "data": {
      "text/plain": [
       "Job Title                 2\n",
       "Company Name              0\n",
       "Location                  0\n",
       "Salary                    0\n",
       "Job Classification        0\n",
       "Job Sub Classification    0\n",
       "Facility                  0\n",
       "Posted Date               0\n",
       "More Detail               0\n",
       "og_period_salary          0\n",
       "Compensation              0\n",
       "og_salary_currency        0\n",
       "Job ID                    0\n",
       "dtype: int64"
      ]
     },
     "execution_count": 5,
     "metadata": {},
     "output_type": "execute_result"
    }
   ],
   "source": [
    "job_dataset.isnull().sum()"
   ]
  },
  {
   "cell_type": "code",
   "execution_count": 6,
   "metadata": {},
   "outputs": [
    {
     "data": {
      "text/html": [
       "<div>\n",
       "<style scoped>\n",
       "    .dataframe tbody tr th:only-of-type {\n",
       "        vertical-align: middle;\n",
       "    }\n",
       "\n",
       "    .dataframe tbody tr th {\n",
       "        vertical-align: top;\n",
       "    }\n",
       "\n",
       "    .dataframe thead th {\n",
       "        text-align: right;\n",
       "    }\n",
       "</style>\n",
       "<table border=\"1\" class=\"dataframe\">\n",
       "  <thead>\n",
       "    <tr style=\"text-align: right;\">\n",
       "      <th></th>\n",
       "      <th>Job Title</th>\n",
       "      <th>Company Name</th>\n",
       "      <th>Location</th>\n",
       "      <th>Salary</th>\n",
       "      <th>Job Classification</th>\n",
       "      <th>Job Sub Classification</th>\n",
       "      <th>Facility</th>\n",
       "      <th>Posted Date</th>\n",
       "      <th>More Detail</th>\n",
       "      <th>og_period_salary</th>\n",
       "      <th>Compensation</th>\n",
       "      <th>og_salary_currency</th>\n",
       "      <th>Job ID</th>\n",
       "    </tr>\n",
       "  </thead>\n",
       "  <tbody>\n",
       "    <tr>\n",
       "      <th>1074</th>\n",
       "      <td>NaN</td>\n",
       "      <td>pt quality life collection</td>\n",
       "      <td>jakarta utara</td>\n",
       "      <td>9000000.0</td>\n",
       "      <td>ritel produk konsumen</td>\n",
       "      <td>asisten ritel</td>\n",
       "      <td>not_written</td>\n",
       "      <td>2024-03-01</td>\n",
       "      <td>https://www.jobstreet.co.id/id/job/74122021?ty...</td>\n",
       "      <td>month</td>\n",
       "      <td>not_written</td>\n",
       "      <td>IDR</td>\n",
       "      <td>74122021</td>\n",
       "    </tr>\n",
       "    <tr>\n",
       "      <th>5653</th>\n",
       "      <td>NaN</td>\n",
       "      <td>pt zhongtsing new energy morowali</td>\n",
       "      <td>morowali</td>\n",
       "      <td>10150000.0</td>\n",
       "      <td>manufaktur transportasi logistik</td>\n",
       "      <td>manajemen</td>\n",
       "      <td>not_written</td>\n",
       "      <td>2024-03-03</td>\n",
       "      <td>https://www.jobstreet.co.id/id/job/73547990?ty...</td>\n",
       "      <td>month</td>\n",
       "      <td>not_written</td>\n",
       "      <td>IDR</td>\n",
       "      <td>73547990</td>\n",
       "    </tr>\n",
       "  </tbody>\n",
       "</table>\n",
       "</div>"
      ],
      "text/plain": [
       "     Job Title                       Company Name       Location      Salary  \\\n",
       "1074       NaN         pt quality life collection  jakarta utara   9000000.0   \n",
       "5653       NaN  pt zhongtsing new energy morowali       morowali  10150000.0   \n",
       "\n",
       "                    Job Classification Job Sub Classification     Facility  \\\n",
       "1074             ritel produk konsumen          asisten ritel  not_written   \n",
       "5653  manufaktur transportasi logistik              manajemen  not_written   \n",
       "\n",
       "     Posted Date                                        More Detail  \\\n",
       "1074  2024-03-01  https://www.jobstreet.co.id/id/job/74122021?ty...   \n",
       "5653  2024-03-03  https://www.jobstreet.co.id/id/job/73547990?ty...   \n",
       "\n",
       "     og_period_salary Compensation og_salary_currency    Job ID  \n",
       "1074            month  not_written                IDR  74122021  \n",
       "5653            month  not_written                IDR  73547990  "
      ]
     },
     "execution_count": 6,
     "metadata": {},
     "output_type": "execute_result"
    }
   ],
   "source": [
    "job_dataset[job_dataset['Job Title'].isnull()]"
   ]
  },
  {
   "cell_type": "code",
   "execution_count": 7,
   "metadata": {},
   "outputs": [],
   "source": [
    "job_dataset = pd.read_csv('jobstreet_cleaned.csv')"
   ]
  },
  {
   "cell_type": "code",
   "execution_count": 8,
   "metadata": {},
   "outputs": [],
   "source": [
    "job_categories = {\n",
    "    'administration': ['admin', 'administrasi', 'administrative', 'administrative assistant', 'executive assistant', 'office assistant','personal assistant'],\n",
    "    'beauty': ['beautician', 'beauty', 'beauty therapist', 'klinik kecantikan', 'lash artist', 'nail artist'],\n",
    "    'blockchain': ['blockchain', 'blockchain architect', 'blockchain consultant', 'blockchain developer', 'cryptocurrency analyst', 'smart contract developer'],\n",
    "    'business intelligence': ['business intelligence','bisnis analis', 'business analyst', 'it business'],\n",
    "    'cloud computing': ['cloud', 'cloud consultant', 'cloud devops engineer', 'cloud engineer', 'cloud infrastructure engineer', 'cloud security specialist', 'cloud solutions architect'],\n",
    "    'construction': ['architect', 'construction', 'kontraktor','sipil','civil','structural'],\n",
    "    'consulting': ['business consultant', 'consultant'],\n",
    "    'customer service': ['call center agent', 'customer', 'customer service', 'customer success', 'support'],\n",
    "    'cyber security': ['cyber', 'cyber security', 'data privacy', 'network security', 'security'],\n",
    "    'data': ['data', 'data analyst', 'data engineer', 'data scientist', 'database administrator'],\n",
    "    'design': ['design', 'desain', 'designer', 'editor', 'grafis', 'graphic', 'interior','ui', 'user experience', 'ux', 'ux researcher', 'ux writer', 'user interface'],\n",
    "    'education': ['academic', 'curriculum developer', 'dosen', 'education', 'guru', 'lecturer', 'professor', 'school counselor', 'teacher', 'tutor'],\n",
    "    'engineering': ['aerospace', 'chemical', 'electrical', 'engineer', 'mechanic', 'mechanical', 'teknikal', 'teknisi'],\n",
    "    'event organizer': ['event', 'organizer', 'planner', 'wedding'],\n",
    "    'finance': ['audit', 'auditor', 'financial', 'investment banker''accountant', 'accounting', 'akunting', 'finance'],\n",
    "    'healthcare': ['dokter', 'doctor', 'health', 'laboratorium', 'medical', 'medical technician', 'nurse', 'paramedic', 'pharmacist', 'radiologist', 'surgeon', 'terapis'],\n",
    "    'hospitality': ['bakery', 'barista', 'bartender', 'cafe', 'cook', 'dapur', 'food', 'food and beverage', 'front desk agent', 'hotel', 'kitchen', 'koki', 'receptionist', 'restaurant', 'resto', 'restoran', 'villa', 'waiter', 'waitress','front office'],\n",
    "    'human resources': ['hr', 'hrd', 'human resource', 'payroll', 'recruitment', 'talent acquisition', 'training'],\n",
    "    'information system': ['erp', 'information system', 'system analyst', 'odoo', 'sap','system'],\n",
    "    'it': ['ai', 'ai engineer', 'ai ethics specialist', 'ai ml', 'ai project', 'ai research scientist', 'ai trainer', 'backend', 'back end', 'cloud', 'dev ops', 'devops', 'devops engineer', 'flutter', 'front end', 'front-end', 'full stack', 'fullstack', 'golang', 'help desk technician', 'ios developer', 'it', 'it manager', 'it risk management', 'it service desk', 'it staff', 'java', 'javascript developer', 'machine learning', 'machine learning engineer', 'ml analyst', 'ml consultant', 'ml engineer', 'ml modeler', 'ml researcher', 'mobile apps', 'mobile developer', 'mobile programmer', 'nextjs', 'php developer', 'python', 'react', 'security specialist', 'software developer', 'software engineer', 'systems analysis', 'technical support', 'web', 'web desain', 'web designer', 'web developer'],\n",
    "    'legal': ['lawyer', 'legal', 'legal assistant', 'paralegal'],\n",
    "    'logistics & transportation': ['driver', 'ekspedisi', 'export', 'import', 'logistic'],\n",
    "    'manufacturing': ['manufacturing engineer', 'production', 'produksi'],\n",
    "    'sales & marketing': ['sales', 'marketing', 'seo'],\n",
    "    'media and communications': ['communications', 'journalist', 'public relations'],\n",
    "    'network administration': ['network', 'network administrator'],\n",
    "    'nonprofit': ['fundraising', 'program', 'volunteer'],\n",
    "    'operations': ['operasional', 'operations', 'warehouse', 'gudang','area','operational'],\n",
    "    'product management': ['it presales(ordo)', 'product', 'product analyst', 'product owner', 'project'],\n",
    "    'quality control': ['quality', 'quality assurance', 'quality control', 'software quality assurance', 'qa', 'qc'],\n",
    "    'real estate': ['property', 'real estate'],\n",
    "    'researcher': ['research', 'research analyst', 'research scientist', 'rnd', 'riset'],\n",
    "    'retail': ['sales associate', 'store', 'visual merchandiser'],\n",
    "    'social media': ['content creator', 'content writer', 'copywriter', 'content writer','influencer', 'konten kreator', 'live', 'live streaming', 'social media', 'streamer', 'talent'],\n",
    "    'supply chain': ['supply chain'],\n",
    "    'tax': ['pajak', 'tax', 'tax consultant'],\n",
    "    'translator': ['bahasa', 'interpreter', 'penerjemah', 'speaker', 'translator'],\n",
    "}\n",
    "\n",
    "# Create a new column 'Job Category' with default value 'Other'\n",
    "job_dataset['Job Category'] = 'Other'\n",
    "\n",
    "# Convert job titles and categories to lowercase for case-insensitive comparison\n",
    "job_dataset['Job Title'] = job_dataset['Job Title'].str.lower()\n",
    "job_categories = {key.upper(): [title.lower() for title in titles] for key, titles in job_categories.items()}\n",
    "\n",
    "# Iterate over job categories and update 'Job Category' column based on job title\n",
    "for category, keywords in job_categories.items():\n",
    "    try:\n",
    "        for keyword in keywords:\n",
    "            job_dataset.loc[job_dataset['Job Title'].str.contains(keyword, na=False, regex=False), 'Job Category'] = category\n",
    "    except ValueError as e:\n",
    "        print(f\"ValueError: {e}\")\n",
    "        print(f\"Problematic rows: {job_dataset[job_dataset['Job Title'].str.contains(keyword)].index}\")\n"
   ]
  },
  {
   "cell_type": "code",
   "execution_count": 9,
   "metadata": {},
   "outputs": [
    {
     "data": {
      "text/plain": [
       "Job Category\n",
       "SALES & MARKETING             1194\n",
       "Other                         1125\n",
       "IT                             608\n",
       "FINANCE                        349\n",
       "OPERATIONS                     287\n",
       "SOCIAL MEDIA                   240\n",
       "PRODUCT MANAGEMENT             230\n",
       "TRANSLATOR                     212\n",
       "ENGINEERING                    206\n",
       "ADMINISTRATION                 187\n",
       "HUMAN RESOURCES                133\n",
       "TAX                            129\n",
       "HOSPITALITY                    101\n",
       "EDUCATION                      100\n",
       "DESIGN                          99\n",
       "CONSULTING                      75\n",
       "QUALITY CONTROL                 74\n",
       "LOGISTICS & TRANSPORTATION      60\n",
       "HEALTHCARE                      58\n",
       "CUSTOMER SERVICE                58\n",
       "RETAIL                          51\n",
       "LEGAL                           45\n",
       "NONPROFIT                       38\n",
       "MANUFACTURING                   37\n",
       "BEAUTY                          36\n",
       "INFORMATION SYSTEM              29\n",
       "REAL ESTATE                     21\n",
       "RESEARCHER                      19\n",
       "NETWORK ADMINISTRATION          17\n",
       "EVENT ORGANIZER                 14\n",
       "DATA                            13\n",
       "SUPPLY CHAIN                     8\n",
       "CONSTRUCTION                     8\n",
       "MEDIA AND COMMUNICATIONS         3\n",
       "BUSINESS INTELLIGENCE            2\n",
       "Name: count, dtype: int64"
      ]
     },
     "execution_count": 9,
     "metadata": {},
     "output_type": "execute_result"
    }
   ],
   "source": [
    "job_dataset['Job Category'].value_counts()"
   ]
  },
  {
   "cell_type": "code",
   "execution_count": 15,
   "metadata": {},
   "outputs": [
    {
     "data": {
      "text/plain": [
       "Company Name\n",
       "anonymous                            260\n",
       "pt elabram systems                    99\n",
       "rgf hr agent indonesia                94\n",
       "pt axa mandiri financial services     47\n",
       "pt aia financial                      47\n",
       "                                    ... \n",
       "sangkil co                             1\n",
       "kopi tungku mas                        1\n",
       "nitori trading malaysia sdn bhd        1\n",
       "cv beta damai sejahtera                1\n",
       "beyond education center                1\n",
       "Name: count, Length: 3264, dtype: int64"
      ]
     },
     "execution_count": 15,
     "metadata": {},
     "output_type": "execute_result"
    }
   ],
   "source": [
    "job_dataset['Company Name'].value_counts()"
   ]
  },
  {
   "cell_type": "code",
   "execution_count": 17,
   "metadata": {},
   "outputs": [],
   "source": [
    "# create new column 'Scraped Date' with default value '2024-03-03'\n",
    "job_dataset['Scraped Date'] = '2024-03-03'"
   ]
  },
  {
   "cell_type": "code",
   "execution_count": null,
   "metadata": {},
   "outputs": [],
   "source": [
    "job_dataset.to_csv('jobstreet_cleaned.csv', index=False)"
   ]
  },
  {
   "cell_type": "code",
   "execution_count": 20,
   "metadata": {},
   "outputs": [],
   "source": [
    "job_dataset['Company Name'].value_counts().to_csv('company_name_counts.csv')"
   ]
  },
  {
   "cell_type": "code",
   "execution_count": 21,
   "metadata": {},
   "outputs": [],
   "source": [
    "job_dataset['Job Category'].value_counts().to_csv('job_category_counts.csv')"
   ]
  },
  {
   "cell_type": "code",
   "execution_count": null,
   "metadata": {},
   "outputs": [],
   "source": []
  }
 ],
 "metadata": {
  "kernelspec": {
   "display_name": "Python 3",
   "language": "python",
   "name": "python3"
  },
  "language_info": {
   "codemirror_mode": {
    "name": "ipython",
    "version": 3
   },
   "file_extension": ".py",
   "mimetype": "text/x-python",
   "name": "python",
   "nbconvert_exporter": "python",
   "pygments_lexer": "ipython3",
   "version": "3.10.6"
  }
 },
 "nbformat": 4,
 "nbformat_minor": 2
}
