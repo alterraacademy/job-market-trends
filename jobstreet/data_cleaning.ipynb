{
 "cells": [
  {
   "cell_type": "code",
   "execution_count": 165,
   "metadata": {},
   "outputs": [],
   "source": [
    "import re\n",
    "import pandas as pd"
   ]
  },
  {
   "cell_type": "code",
   "execution_count": 166,
   "metadata": {},
   "outputs": [],
   "source": [
    "# read csv files list_of_jobs_jobstreet.csv\n",
    "job_dataset = pd.read_csv('list_of_jobs_jobstreet.csv')"
   ]
  },
  {
   "cell_type": "code",
   "execution_count": 167,
   "metadata": {},
   "outputs": [
    {
     "data": {
      "text/plain": [
       "Job Title                     0\n",
       "Company Name               1199\n",
       "Location                      0\n",
       "Salary                    24464\n",
       "Job Classification            0\n",
       "Job Sub Classification        0\n",
       "Job Description           31998\n",
       "Facility                  25873\n",
       "Posted Date                   0\n",
       "More Detail                   0\n",
       "dtype: int64"
      ]
     },
     "execution_count": 167,
     "metadata": {},
     "output_type": "execute_result"
    }
   ],
   "source": [
    "job_dataset.isnull().sum()"
   ]
  },
  {
   "cell_type": "code",
   "execution_count": 168,
   "metadata": {},
   "outputs": [],
   "source": [
    "# drop Job Description collumn\n",
    "job_dataset = job_dataset.drop(['Job Description'], axis=1)\n",
    "# replace null value\n",
    "job_dataset['Company Name'].fillna('anonymous', inplace=True)\n",
    "job_dataset['Salary'].fillna('not_written', inplace=True)\n",
    "job_dataset['Facility'].fillna('not_written', inplace=True)"
   ]
  },
  {
   "cell_type": "code",
   "execution_count": 169,
   "metadata": {},
   "outputs": [
    {
     "data": {
      "text/plain": [
       "(25034, 9)"
      ]
     },
     "execution_count": 169,
     "metadata": {},
     "output_type": "execute_result"
    }
   ],
   "source": [
    "job_dataset.drop_duplicates(inplace=True)\n",
    "job_dataset.reset_index(drop=True, inplace=True)\n",
    "job_dataset.shape"
   ]
  },
  {
   "cell_type": "code",
   "execution_count": 170,
   "metadata": {},
   "outputs": [],
   "source": [
    "def clean_column(job_dataset, column_name):\n",
    "    corpus = []\n",
    "    for i in range(0, len(job_dataset)):\n",
    "        text = re.sub('[^a-zA-Z]', ' ', job_dataset[column_name][i])\n",
    "        text = text.lower()\n",
    "        text = text.split()\n",
    "        text = ' '.join(text)\n",
    "        corpus.append(text)\n",
    "\n",
    "    job_dataset[column_name] = corpus\n",
    "    return job_dataset"
   ]
  },
  {
   "cell_type": "code",
   "execution_count": 171,
   "metadata": {},
   "outputs": [],
   "source": [
    "job_dataset = clean_column(job_dataset, 'Job Title')\n",
    "job_dataset = clean_column(job_dataset, 'Company Name')"
   ]
  },
  {
   "cell_type": "code",
   "execution_count": 172,
   "metadata": {},
   "outputs": [],
   "source": [
    "job_dataset = clean_column(job_dataset, 'Job Classification')\n",
    "job_dataset = clean_column(job_dataset, 'Job Sub Classification')\n",
    "job_dataset = clean_column(job_dataset, 'Location')"
   ]
  },
  {
   "cell_type": "code",
   "execution_count": 173,
   "metadata": {},
   "outputs": [],
   "source": [
    "def checking_salary_period(salary):\n",
    "    if 'year' in salary:\n",
    "        return 'year'\n",
    "    elif 'month' in salary:\n",
    "        return 'month'\n",
    "    elif 'week' in salary:\n",
    "        return 'week'\n",
    "    elif 'day' in salary:\n",
    "        return 'day'\n",
    "    elif 'hour' in salary:\n",
    "        return 'hour'\n",
    "    else:\n",
    "        return 'not_written'"
   ]
  },
  {
   "cell_type": "code",
   "execution_count": 174,
   "metadata": {},
   "outputs": [],
   "source": [
    "job_dataset['og_period_salary'] = job_dataset['Salary'].apply(checking_salary_period)"
   ]
  },
  {
   "cell_type": "code",
   "execution_count": 175,
   "metadata": {},
   "outputs": [],
   "source": [
    "def cleaning_salary_period(salary):\n",
    "    if 'per month' in salary:\n",
    "        salary = re.sub(r'per month', '', salary)\n",
    "    elif 'per year' in salary:\n",
    "        salary = re.sub(r'per year', '', salary)\n",
    "    elif 'per week' in salary:\n",
    "        salary = re.sub(r'per week', '', salary)\n",
    "    elif 'per day' in salary:\n",
    "        salary = re.sub(r'per day', '', salary)\n",
    "    elif 'per hour' in salary:\n",
    "        salary = re.sub(r'per hour', '', salary)\n",
    "    return salary"
   ]
  },
  {
   "cell_type": "code",
   "execution_count": 176,
   "metadata": {},
   "outputs": [],
   "source": [
    "job_dataset['Salary'] = job_dataset['Salary'].apply(cleaning_salary_period)"
   ]
  },
  {
   "cell_type": "code",
   "execution_count": 177,
   "metadata": {},
   "outputs": [],
   "source": [
    "# job_dataset[(job_dataset['Salary'] != 'not_written') & ~(job_dataset['Salary'].str.contains('[0-9]')) & (job_dataset['Salary'].str.contains('-'))].replace('-','not_written')"
   ]
  },
  {
   "cell_type": "code",
   "execution_count": 178,
   "metadata": {},
   "outputs": [],
   "source": [
    "# job_dataset[(job_dataset['Salary'] != 'not_written') & ~(job_dataset['Salary'].str.contains('-')) & ~(job_dataset['Salary'].str.contains('–')) & ~(job_dataset['Salary'].str.contains('Rp')) & ~(job_dataset['Salary'].str.contains('[0-9]')) & (job_dataset['Salary'] == 'TBC')].replace('TBC','not_written')"
   ]
  },
  {
   "cell_type": "code",
   "execution_count": 179,
   "metadata": {},
   "outputs": [],
   "source": [
    "job_dataset['Compensation'] = job_dataset[(job_dataset['Salary'] != 'not_written') & ~(job_dataset['Salary'].str.contains('-')) & ~(job_dataset['Salary'].str.contains('–')) & ~(job_dataset['Salary'].str.contains('[0-9]'))]['Salary']"
   ]
  },
  {
   "cell_type": "code",
   "execution_count": 180,
   "metadata": {},
   "outputs": [],
   "source": [
    "def checking_currency(salary):\n",
    "    if 'Rp' in salary:\n",
    "        return 'IDR'\n",
    "    elif 'IDR' in salary:\n",
    "        return 'IDR'\n",
    "    elif 'USD' in salary:\n",
    "        return 'USD'\n",
    "    elif '$' in salary:\n",
    "        return 'USD'\n",
    "    elif 'RM' in salary:\n",
    "        return 'RM'\n",
    "    elif 'SGD' in salary:\n",
    "        return 'SGD'\n",
    "    elif 'MYR' in salary:\n",
    "        return 'MYR'\n",
    "    elif 'AUD' in salary:\n",
    "        return 'AUD'\n",
    "    elif 'EUR' in salary:\n",
    "        return 'EUR'\n",
    "    elif 'HKD' in salary:\n",
    "        return 'HKD'\n",
    "    elif '฿' in salary:\n",
    "        return 'THB'\n",
    "    elif 'THB' in salary:\n",
    "        return 'THB'\n",
    "    else:\n",
    "        return 'not_written'"
   ]
  },
  {
   "cell_type": "code",
   "execution_count": 181,
   "metadata": {},
   "outputs": [],
   "source": [
    "job_dataset['og_salary_currency'] = job_dataset['Salary'].apply(checking_currency)"
   ]
  },
  {
   "cell_type": "code",
   "execution_count": 182,
   "metadata": {},
   "outputs": [],
   "source": [
    "def cleaning_currency(salary):\n",
    "    currency_symbols = ['IDR', 'Rp', '$', '(USD)', 'SGD', 'MYR', 'AUD', 'EUR', 'RM', 'HKD', '฿', '(THB)', '()']\n",
    "    \n",
    "    for symbol in currency_symbols:\n",
    "        salary = salary.replace(symbol, '')\n",
    "\n",
    "    if ' ' in salary:\n",
    "        salary = salary.replace(' ', '')\n",
    "    elif salary == 'not_written':\n",
    "        salary = salary\n",
    "\n",
    "    return salary"
   ]
  },
  {
   "cell_type": "code",
   "execution_count": 183,
   "metadata": {},
   "outputs": [],
   "source": [
    "job_dataset['Salary'] = job_dataset['Salary'].apply(cleaning_currency)"
   ]
  },
  {
   "cell_type": "code",
   "execution_count": 184,
   "metadata": {},
   "outputs": [],
   "source": [
    "job_dataset['Salary'] = job_dataset['Salary'].str.replace(',', '')\n",
    "job_dataset['Salary'] = job_dataset['Salary'].str.replace('.', '')\n",
    "# remove blank space\n",
    "job_dataset['Salary'] = job_dataset['Salary'].str.strip()\n",
    "job_dataset['Salary'] = job_dataset['Salary'].str.replace(' ', '')\n"
   ]
  },
  {
   "cell_type": "code",
   "execution_count": 185,
   "metadata": {},
   "outputs": [],
   "source": [
    "# replace Nan value in compensation with 'not_written'\n",
    "job_dataset['Compensation'].fillna('not_written', inplace=True)"
   ]
  },
  {
   "cell_type": "code",
   "execution_count": 186,
   "metadata": {},
   "outputs": [],
   "source": [
    "job_dataset['Salary']\n",
    "job_dataset = job_dataset[job_dataset['Salary'] != 'not_written']\n",
    "job_dataset['Salary'].to_csv('job_salary.csv', index=False)"
   ]
  },
  {
   "cell_type": "code",
   "execution_count": 187,
   "metadata": {},
   "outputs": [],
   "source": [
    "def average_salary(row):\n",
    "    try:\n",
    "        salary = row['Salary']\n",
    "        if '-' in salary:\n",
    "            salary = salary.split('-')\n",
    "            salary = list(map(int, salary))\n",
    "            salary = sum(salary)/len(salary)\n",
    "        else:\n",
    "            salary = salary\n",
    "        return salary\n",
    "    except ValueError:\n",
    "        print(f\"Invalid value for salary: {salary} in row {row}\")"
   ]
  },
  {
   "cell_type": "code",
   "execution_count": 188,
   "metadata": {},
   "outputs": [],
   "source": [
    "job_dataset['Salary'] = job_dataset.apply(average_salary, axis=1)"
   ]
  },
  {
   "cell_type": "code",
   "execution_count": 189,
   "metadata": {},
   "outputs": [],
   "source": [
    "def extract_job_id(url):\n",
    "    parts = url.split('/')\n",
    "    job_id_with_query = parts[-1]\n",
    "    job_id = job_id_with_query.split('?')[0]\n",
    "    return job_id"
   ]
  },
  {
   "cell_type": "code",
   "execution_count": 190,
   "metadata": {},
   "outputs": [],
   "source": [
    "job_dataset['Job ID'] = job_dataset['More Detail'].apply(extract_job_id)"
   ]
  },
  {
   "cell_type": "code",
   "execution_count": 191,
   "metadata": {},
   "outputs": [],
   "source": [
    "job_dataset = job_dataset.drop_duplicates(subset='Job ID', keep='first')"
   ]
  },
  {
   "cell_type": "code",
   "execution_count": 193,
   "metadata": {},
   "outputs": [],
   "source": [
    "job_dataset.to_csv('jobstreet_cleaned.csv', index=False)"
   ]
  }
 ],
 "metadata": {
  "kernelspec": {
   "display_name": "Python 3",
   "language": "python",
   "name": "python3"
  },
  "language_info": {
   "codemirror_mode": {
    "name": "ipython",
    "version": 3
   },
   "file_extension": ".py",
   "mimetype": "text/x-python",
   "name": "python",
   "nbconvert_exporter": "python",
   "pygments_lexer": "ipython3",
   "version": "3.10.6"
  }
 },
 "nbformat": 4,
 "nbformat_minor": 2
}
