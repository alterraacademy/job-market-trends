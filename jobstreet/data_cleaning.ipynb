{
 "cells": [
  {
   "cell_type": "code",
   "execution_count": 23,
   "metadata": {},
   "outputs": [],
   "source": [
    "import re\n",
    "import pandas as pd"
   ]
  },
  {
   "cell_type": "code",
   "execution_count": 65,
   "metadata": {},
   "outputs": [],
   "source": [
    "# read csv files list_of_jobs_jobstreet.csv\n",
    "job_dataset = pd.read_csv('jobstreet_cleaned_3.csv')"
   ]
  },
  {
   "cell_type": "code",
   "execution_count": 58,
   "metadata": {},
   "outputs": [
    {
     "data": {
      "text/plain": [
       "2128"
      ]
     },
     "execution_count": 58,
     "metadata": {},
     "output_type": "execute_result"
    }
   ],
   "source": [
    "len(job_dataset)"
   ]
  },
  {
   "cell_type": "code",
   "execution_count": 59,
   "metadata": {},
   "outputs": [
    {
     "data": {
      "text/plain": [
       "Job Title                 0\n",
       "Company Name              1\n",
       "Location                  0\n",
       "Salary                    0\n",
       "Job Classification        0\n",
       "Job Sub Classification    0\n",
       "Facility                  0\n",
       "Posted Date               0\n",
       "Job Type                  0\n",
       "Job Description           0\n",
       "More Detail Link          0\n",
       "og_period_salary          0\n",
       "Compensation              0\n",
       "og_salary_currency        0\n",
       "Job ID                    0\n",
       "Job Category              0\n",
       "Scraped Date              0\n",
       "dtype: int64"
      ]
     },
     "execution_count": 59,
     "metadata": {},
     "output_type": "execute_result"
    }
   ],
   "source": [
    "job_dataset.isnull().sum()"
   ]
  },
  {
   "cell_type": "code",
   "execution_count": 60,
   "metadata": {},
   "outputs": [],
   "source": [
    "job_dataset['Company Name'].fillna('not_written', inplace=True)\n",
    "job_dataset['Salary'].fillna('not_written', inplace=True)\n",
    "job_dataset['Facility'].fillna('not_written', inplace=True)"
   ]
  },
  {
   "cell_type": "code",
   "execution_count": 66,
   "metadata": {},
   "outputs": [
    {
     "data": {
      "text/plain": [
       "(2128, 17)"
      ]
     },
     "execution_count": 66,
     "metadata": {},
     "output_type": "execute_result"
    }
   ],
   "source": [
    "job_dataset.drop_duplicates(inplace=True)\n",
    "job_dataset.reset_index(drop=True, inplace=True)\n",
    "job_dataset.shape"
   ]
  },
  {
   "cell_type": "code",
   "execution_count": 69,
   "metadata": {},
   "outputs": [],
   "source": [
    "def clean_column(job_dataset, column_name):\n",
    "    corpus = []\n",
    "    for i in range(0, len(job_dataset)):\n",
    "        text = re.sub('[^a-zA-Z]', ' ', job_dataset[column_name][i])\n",
    "        text = text.title()\n",
    "        text = text.split()\n",
    "        text = ' '.join(text)\n",
    "        corpus.append(text)\n",
    "\n",
    "    job_dataset[column_name] = corpus\n",
    "    return job_dataset"
   ]
  },
  {
   "cell_type": "code",
   "execution_count": 70,
   "metadata": {},
   "outputs": [
    {
     "data": {
      "text/plain": [
       "Index(['Job Title', 'Company Name', 'Location', 'Salary', 'Job Classification',\n",
       "       'Job Sub Classification', 'Facility', 'Posted Date', 'Job Type',\n",
       "       'Job Description', 'More Detail', 'og_period_salary', 'Compensation',\n",
       "       'og_salary_currency', 'Job ID', 'Job Category', 'Scraped Date'],\n",
       "      dtype='object')"
      ]
     },
     "execution_count": 70,
     "metadata": {},
     "output_type": "execute_result"
    }
   ],
   "source": [
    "job_dataset.columns"
   ]
  },
  {
   "cell_type": "code",
   "execution_count": null,
   "metadata": {},
   "outputs": [],
   "source": [
    "column_name = ['Job Title', 'Company Name', 'Location','Job Description', 'Facility','Job Classification','Job Sub Classification']\n",
    "for i in column_name:\n",
    "    job_dataset = clean_column(job_dataset, i)"
   ]
  },
  {
   "cell_type": "markdown",
   "metadata": {},
   "source": [
    "## Cleaning Salary"
   ]
  },
  {
   "cell_type": "code",
   "execution_count": 31,
   "metadata": {},
   "outputs": [],
   "source": [
    "def checking_salary_period(salary):\n",
    "    if 'year' in salary:\n",
    "        return 'year'\n",
    "    elif 'month' in salary:\n",
    "        return 'month'\n",
    "    elif 'week' in salary:\n",
    "        return 'week'\n",
    "    elif 'day' in salary:\n",
    "        return 'day'\n",
    "    elif 'hour' in salary:\n",
    "        return 'hour'\n",
    "    else:\n",
    "        return 'not_written'"
   ]
  },
  {
   "cell_type": "code",
   "execution_count": 32,
   "metadata": {},
   "outputs": [],
   "source": [
    "job_dataset['og_period_salary'] = job_dataset['Salary'].apply(checking_salary_period)"
   ]
  },
  {
   "cell_type": "code",
   "execution_count": 33,
   "metadata": {},
   "outputs": [],
   "source": [
    "def cleaning_salary_period(salary):\n",
    "    if 'per month' in salary:\n",
    "        salary = re.sub(r'per month', '', salary)\n",
    "    elif 'per year' in salary:\n",
    "        salary = re.sub(r'per year', '', salary)\n",
    "    elif 'per week' in salary:\n",
    "        salary = re.sub(r'per week', '', salary)\n",
    "    elif 'per day' in salary:\n",
    "        salary = re.sub(r'per day', '', salary)\n",
    "    elif 'per hour' in salary:\n",
    "        salary = re.sub(r'per hour', '', salary)\n",
    "    return salary"
   ]
  },
  {
   "cell_type": "code",
   "execution_count": 34,
   "metadata": {},
   "outputs": [],
   "source": [
    "job_dataset['Salary'] = job_dataset['Salary'].apply(cleaning_salary_period)"
   ]
  },
  {
   "cell_type": "code",
   "execution_count": 35,
   "metadata": {},
   "outputs": [],
   "source": [
    "job_dataset['Compensation'] = job_dataset[(job_dataset['Salary'] != 'not_written') & ~(job_dataset['Salary'].str.contains('-')) & ~(job_dataset['Salary'].str.contains('–')) & ~(job_dataset['Salary'].str.contains('[0-9]'))]['Salary']"
   ]
  },
  {
   "cell_type": "code",
   "execution_count": 36,
   "metadata": {},
   "outputs": [],
   "source": [
    "def checking_currency(salary):\n",
    "    currency_map = {\n",
    "        'Rp': 'IDR',\n",
    "        'IDR': 'IDR',\n",
    "        'USD': 'USD',\n",
    "        '$': 'USD',\n",
    "        'RM': 'RM',\n",
    "        'SGD': 'SGD',\n",
    "        'MYR': 'MYR',\n",
    "        'AUD': 'AUD',\n",
    "        'EUR': 'EUR',\n",
    "        'HKD': 'HKD',\n",
    "        '฿': 'THB',\n",
    "        'THB': 'THB'\n",
    "    }\n",
    "    for key, value in currency_map.items():\n",
    "        if key in salary:\n",
    "            return value\n",
    "    return 'not_written'\n",
    "\n"
   ]
  },
  {
   "cell_type": "code",
   "execution_count": 37,
   "metadata": {},
   "outputs": [],
   "source": [
    "job_dataset['og_salary_currency'] = job_dataset['Salary'].apply(checking_currency)"
   ]
  },
  {
   "cell_type": "code",
   "execution_count": 38,
   "metadata": {},
   "outputs": [],
   "source": [
    "def cleaning_currency(salary):\n",
    "    currency_symbols = ['IDR', 'Rp', '$', '(USD)', 'SGD', 'MYR', 'AUD', 'EUR', 'RM', 'HKD', '฿', '(THB)', '()']\n",
    "    \n",
    "    for symbol in currency_symbols:\n",
    "        salary = salary.replace(symbol, '')\n",
    "\n",
    "    if ' ' in salary:\n",
    "        salary = salary.replace(' ', '')\n",
    "    elif salary == 'not_written':\n",
    "        salary = salary\n",
    "\n",
    "    return salary"
   ]
  },
  {
   "cell_type": "code",
   "execution_count": 39,
   "metadata": {},
   "outputs": [],
   "source": [
    "job_dataset['Salary'] = job_dataset['Salary'].apply(cleaning_currency)"
   ]
  },
  {
   "cell_type": "code",
   "execution_count": 40,
   "metadata": {},
   "outputs": [],
   "source": [
    "job_dataset['Salary'] = job_dataset['Salary'].str.replace('[,. ]', '', regex=True).str.strip()"
   ]
  },
  {
   "cell_type": "code",
   "execution_count": 41,
   "metadata": {},
   "outputs": [],
   "source": [
    "# replace Nan value in compensation with 'not_written'\n",
    "job_dataset['Compensation'].fillna('not_written', inplace=True)"
   ]
  },
  {
   "cell_type": "markdown",
   "metadata": {},
   "source": [
    "## Job ID"
   ]
  },
  {
   "cell_type": "code",
   "execution_count": 72,
   "metadata": {},
   "outputs": [],
   "source": [
    "def extract_job_id(url):\n",
    "    parts = url.split('/')\n",
    "    job_id_with_query = parts[-1]\n",
    "    job_id = job_id_with_query.split('?')[0]\n",
    "    return job_id"
   ]
  },
  {
   "cell_type": "code",
   "execution_count": 73,
   "metadata": {},
   "outputs": [],
   "source": [
    "job_dataset['Job ID'] = job_dataset['More Detail'].apply(extract_job_id)"
   ]
  },
  {
   "cell_type": "code",
   "execution_count": 74,
   "metadata": {},
   "outputs": [],
   "source": [
    "job_dataset = job_dataset.drop_duplicates(subset='Job ID', keep='first')"
   ]
  },
  {
   "cell_type": "code",
   "execution_count": 45,
   "metadata": {},
   "outputs": [],
   "source": [
    "# job_dataset['Salary'].str.contains('–') replace '–' with '-'\n",
    "job_dataset['Salary'] = job_dataset['Salary'].str.replace('–', '-')"
   ]
  },
  {
   "cell_type": "code",
   "execution_count": 46,
   "metadata": {},
   "outputs": [],
   "source": [
    "def average_salary(row):\n",
    "    try:\n",
    "        salary = row['Salary']\n",
    "        if '-' in salary:\n",
    "            salary = salary.split('-')\n",
    "            salary = list(map(int, salary))\n",
    "            salary = sum(salary)/len(salary)\n",
    "        else:\n",
    "            salary = salary  # Convert salary to integer\n",
    "        return salary\n",
    "    except ValueError as e:\n",
    "        print(f\"Invalid value for salary: {salary} in row {row}. Error: {e}\")\n",
    "        return None  # Return None for invalid salaries\n",
    "\n",
    "\n"
   ]
  },
  {
   "cell_type": "code",
   "execution_count": 47,
   "metadata": {},
   "outputs": [],
   "source": [
    "job_dataset['Salary'] = job_dataset.apply(average_salary, axis=1)"
   ]
  },
  {
   "cell_type": "code",
   "execution_count": 48,
   "metadata": {},
   "outputs": [],
   "source": [
    "# job_dataset.to_csv('jobstreet_cleaned_2.csv', index=False)"
   ]
  },
  {
   "cell_type": "code",
   "execution_count": null,
   "metadata": {},
   "outputs": [],
   "source": [
    "job_sub_categories = {\n",
    "    'business intelligence': ['business intelligence','bisnis analis', 'business analyst', 'it business'],\n",
    "    'cloud computing': ['cloud', 'cloud consultant', 'cloud devops engineer', 'cloud engineer', 'cloud infrastructure engineer', 'cloud security specialist', 'cloud solutions architect'],\n",
    "    'cyber security': ['cyber', 'cyber security', 'data privacy', 'network security', 'security'],\n",
    "    'data': ['data', 'data analyst', 'data engineer', 'data scientist', 'database administrator'],\n",
    "    'design': ['design', 'desain', 'designer', 'editor', 'grafis', 'graphic', 'interior','ui', 'user experience', 'ux', 'ux researcher', 'ux writer', 'user interface'],\n",
    "    'ui ux':['ui', 'user experience', 'ux', 'ux researcher', 'ux writer', 'user interface'],\n",
    "    'information system': ['erp', 'information system', 'system analyst', 'odoo', 'sap','system'],\n",
    "    'it': ['ai', 'ai engineer', 'ai ethics specialist', 'ai ml', 'ai project', 'ai research scientist', 'ai trainer', 'backend', 'back end', 'cloud', 'dev ops', 'devops', 'devops engineer', 'flutter', 'front end', 'front-end', 'full stack', 'fullstack', 'golang', 'help desk technician', 'ios developer', 'it', 'it manager', 'it risk management', 'it service desk', 'it staff', 'java', 'javascript developer', 'machine learning', 'machine learning engineer', 'ml analyst', 'ml consultant', 'ml engineer', 'ml modeler', 'ml researcher', 'mobile apps', 'mobile developer', 'mobile programmer', 'nextjs', 'php developer', 'python', 'react', 'security specialist', 'software developer', 'software engineer', 'systems analysis', 'technical support', 'web', 'web desain', 'web designer', 'web developer'],\n",
    "    # 'product management': ['it presales(ordo)', 'product', 'product analyst', 'product owner', 'project'],\n",
    "    'quality control': ['quality', 'quality assurance', 'quality control', 'software quality assurance', 'qa', 'qc'],\n",
    "}\n",
    "\n",
    "job_dataset['Job Sub Category'] = 'Other'\n",
    "\n",
    "job_dataset['Job Title'] = job_dataset['Job Title'].str.lower()\n",
    "job_sub_categories = {key.upper(): [title.lower() for title in titles] for key, titles in job_sub_categories.items()}\n",
    "\n",
    "for category, keywords in job_sub_categories.items():\n",
    "    for keyword in keywords:\n",
    "        job_dataset.loc[job_dataset['Job Title'].str.contains(keyword), 'Job Sub Category'] = category\n",
    "\n",
    "# Display the updated DataFrame"
   ]
  },
  {
   "cell_type": "code",
   "execution_count": 80,
   "metadata": {},
   "outputs": [],
   "source": [
    "job_sub_categories = {\n",
    "    'data': ['data mining','big data','data science','data scientist','data engineer','data analyst','data-engineer','scientist','sql'],\n",
    "    # 'web development': ['web developer', 'backend','back-end', 'full stack', 'web designer','fullstack','web developer ','web desain','back end','web programmer','web','it staff'],\n",
    "    'frontend':['frontend','front end','front-end','svelte','nuxt'],\n",
    "    'backend':['backend','back end','back-end','ruby'],\n",
    "    # 'fullstack':['fullstack','full stack','full-stack','full stack developer','fullstack developer'],\n",
    "    'ui ux': ['ui ux','uiux','ui/ux designer','ui','user experience ','ux','user interface'],\n",
    "    'ai/ml engineering': ['ai engineer', 'machine learning','artificial intelligence','deep learning','nlp','natural language processing','computer vision'],\n",
    "    'business analyst': ['business analyst','bisnis analis','it business','business intelligence'],   \n",
    "    'cloud engineering': ['cloud','cloud engineer'],\n",
    "    'cyber security': ['cyber security', 'network security','cyber security ',' security','data privacy','security specialist'],\n",
    "    'devops': ['devops','dev ops'],\n",
    "    'it management': ['it manager','it risk management'],\n",
    "    'it support': ['it support','it application support','helpdesk technician'],\n",
    "    'network administration': ['network administrator','network '],\n",
    "    'product management': ['product manager', 'product owner', 'product analyst','project manager'],\n",
    "    'software quality_assurance': ['software quality assurance'],\n",
    "    'software engineering': ['software engineer', 'software developer','javascript','developer'],\n",
    "     \"golang\" : [\"golang\"],\n",
    "    \".net\" : [\".net\", \"asp\"],\n",
    "    \"php\" : [\"php\", \"code igniter\", \"ci\", \"laravel\", \"lumen\"],\n",
    "    \"java\" : [\"java\", \"springboot\"],\n",
    "    \"python\" : [\"python\", \"flask\"],\n",
    "    \"nodejs\" : [\"node js\", \"express js\", \"expressjs\", \"nodejs\", \"node\", \"node-js\"],\n",
    "      \"reactjs\" : [\"reactjs\", \"react-js\", \"react js\", \"react\"],\n",
    "    \"nextjs\" : [\"nextjs\", \"next-js\", \"next js\", \"next\"],\n",
    "    \"angularjs\" : [\"angular\", \"angularjs\"],\n",
    "    \"fluter\" : [\"fluter\"],\n",
    "    \"kotlin\" : [\"kotlin\"],\n",
    "    'programmer' : ['programmer'],\n",
    "    'systems analysis': ['system analyst', 'system administrator','system engineer'],\n",
    "    'mobile development': ['mobile', 'ios','android','mobile apps','mobile dev','react native','native'],\n",
    "    'game development': ['game'],\n",
    "    'information system': ['erp', 'odoo','information system support','information system'],\n",
    "    'other_it':['\"software engineer\", \"software developer\", \"software\", \"full-stack\", \"fullstack\", \"programmer\", \"javascript\"']\n",
    "}\n",
    "\n",
    "job_dataset['Job Sub Category'] = 'Other'\n",
    "\n",
    "job_dataset['Job Title'] = job_dataset['Job Title'].str.lower()\n",
    "job_sub_categories = {key.upper(): [title.lower() for title in titles] for key, titles in job_sub_categories.items()}\n",
    "\n",
    "for category, keywords in job_sub_categories.items():\n",
    "    for keyword in keywords:\n",
    "        job_dataset.loc[job_dataset['Job Title'].str.contains(keyword), 'Job Sub Category'] = category\n",
    "\n",
    "# Display the updated DataFrame"
   ]
  },
  {
   "cell_type": "code",
   "execution_count": 81,
   "metadata": {},
   "outputs": [
    {
     "data": {
      "text/plain": [
       "Job Sub Category\n",
       "Other                     1908\n",
       "PHP                        136\n",
       "UI UX                       17\n",
       "INFORMATION SYSTEM          13\n",
       "PROGRAMMER                   9\n",
       "IT SUPPORT                   8\n",
       "PRODUCT MANAGEMENT           7\n",
       ".NET                         5\n",
       "IT MANAGEMENT                4\n",
       "CYBER SECURITY               3\n",
       "DATA                         3\n",
       "BUSINESS ANALYST             3\n",
       "SYSTEMS ANALYSIS             2\n",
       "MOBILE DEVELOPMENT           2\n",
       "BACKEND                      2\n",
       "PYTHON                       1\n",
       "FRONTEND                     1\n",
       "DEVOPS                       1\n",
       "JAVA                         1\n",
       "NETWORK ADMINISTRATION       1\n",
       "CLOUD ENGINEERING            1\n",
       "Name: count, dtype: int64"
      ]
     },
     "execution_count": 81,
     "metadata": {},
     "output_type": "execute_result"
    }
   ],
   "source": [
    "job_dataset['Job Sub Category'].value_counts()  "
   ]
  },
  {
   "cell_type": "code",
   "execution_count": 56,
   "metadata": {},
   "outputs": [
    {
     "data": {
      "text/plain": [
       "0               Other\n",
       "1               Other\n",
       "2               Other\n",
       "3               Other\n",
       "4               Other\n",
       "            ...      \n",
       "2162            Other\n",
       "2163    IT MANAGEMENT\n",
       "2164            Other\n",
       "2165            Other\n",
       "2166            Other\n",
       "Name: Job Sub Category, Length: 2128, dtype: object"
      ]
     },
     "execution_count": 56,
     "metadata": {},
     "output_type": "execute_result"
    }
   ],
   "source": [
    "job_dataset['Job Sub Category']"
   ]
  }
 ],
 "metadata": {
  "kernelspec": {
   "display_name": "Python 3",
   "language": "python",
   "name": "python3"
  },
  "language_info": {
   "codemirror_mode": {
    "name": "ipython",
    "version": 3
   },
   "file_extension": ".py",
   "mimetype": "text/x-python",
   "name": "python",
   "nbconvert_exporter": "python",
   "pygments_lexer": "ipython3",
   "version": "3.10.6"
  }
 },
 "nbformat": 4,
 "nbformat_minor": 2
}
