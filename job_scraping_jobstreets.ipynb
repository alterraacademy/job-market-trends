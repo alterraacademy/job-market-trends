{
 "cells": [
  {
   "cell_type": "markdown",
   "metadata": {},
   "source": [
    "# Jobstreet"
   ]
  },
  {
   "cell_type": "code",
   "execution_count": 1,
   "metadata": {},
   "outputs": [],
   "source": [
    "from bs4 import BeautifulSoup\n",
    "import requests\n",
    "import pandas as pd\n",
    "from datetime import datetime\n",
    "from urllib.parse import quote\n",
    "import re"
   ]
  },
  {
   "cell_type": "code",
   "execution_count": 2,
   "metadata": {},
   "outputs": [],
   "source": [
    "search_position = ''\n",
    "location = ''\n",
    "search_position = search_position.replace(' ','-')\n",
    "location = location.replace(' ','-')"
   ]
  },
  {
   "cell_type": "code",
   "execution_count": 3,
   "metadata": {},
   "outputs": [],
   "source": [
    "def find_tag_value(soup, tag, attribute):\n",
    "    try:\n",
    "        return soup.find(tag, attrs={'data-automation':attribute}).text.strip()\n",
    "    except AttributeError:\n",
    "        return None"
   ]
  },
  {
   "cell_type": "code",
   "execution_count": null,
   "metadata": {},
   "outputs": [],
   "source": [
    "page = 1\n",
    "data = []\n",
    "while True:\n",
    "    if search_position and location:\n",
    "        r = requests.get('https://www.jobstreet.co.id/id/{}-jobs/in-{}?page={}'.format(search_position, location, page))\n",
    "        soup = BeautifulSoup(r.content, 'lxml')\n",
    "        job_cards = soup.find_all('article',attrs={'data-card-type':'JobCard'})\n",
    "\n",
    "    # elif location is null  but search_position is not null\n",
    "    elif search_position and not location:\n",
    "        r = requests.get('https://www.jobstreet.co.id/id/{}-jobs?page={}'.format(search_position, page))\n",
    "        soup = BeautifulSoup(r.content, 'lxml')\n",
    "        job_cards = soup.find_all('article',attrs={'data-card-type':'JobCard'})\n",
    "    \n",
    "    elif not search_position and location:\n",
    "        r = requests.get('https://www.jobstreet.co.id/id/jobs-in-{}?page={}'.format(location, page))\n",
    "        soup = BeautifulSoup(r.content, 'lxml')\n",
    "        job_cards = soup.find_all('article',attrs={'data-card-type':'JobCard'})\n",
    "    \n",
    "    else:\n",
    "        r = requests.get('https://www.jobstreet.co.id/id/jobs?page={}'.format(page))\n",
    "        soup = BeautifulSoup(r.content, 'lxml')\n",
    "        job_cards = soup.find_all('article',attrs={'data-card-type':'JobCard'})\n",
    "    \n",
    "        \n",
    "    if len(job_cards) == 0:\n",
    "        print('No More Jobs')\n",
    "        break\n",
    "    print('page',page,'jobs found', len(job_cards))\n",
    "\n",
    "    for job_card in job_cards:\n",
    "    \n",
    "        job_title = find_tag_value(job_card, 'a', 'jobTitle')\n",
    "        \n",
    "        company_name = find_tag_value(job_card, 'a', 'jobCompany')\n",
    "        \n",
    "        location_city = find_tag_value(job_card, 'a', 'jobLocation')\n",
    "        \n",
    "        salary = find_tag_value(job_card, 'span', 'jobSalary')\n",
    "        if salary:\n",
    "            salary = salary.replace(u'\\xa0', u'')\n",
    "\n",
    "        job_classification = find_tag_value(job_card, 'a', 'jobClassification')\n",
    "            #remove () from job_classification\n",
    "        if job_classification:\n",
    "            job_classification = re.sub(r'[()]', '', job_classification)\n",
    "\n",
    "        job_sub_classification = find_tag_value(job_card, 'a', 'jobSubClassification')\n",
    "        \n",
    "        job_desc = find_tag_value(job_card, 'span', 'jobShortDescription')\n",
    "\n",
    "        posted_date = find_tag_value(job_card, 'span', 'jobListingDate')\n",
    "        \n",
    "        facility = job_card.find('ul',class_='y735df0 y735df3 _1akoxc50 _1akoxc54')\n",
    "        if facility is not None:\n",
    "            facility = facility.find_all('li')\n",
    "            facility_list = [item.text.strip() for item in facility]\n",
    "            facility_list = ', '.join(facility_list)\n",
    "        else:\n",
    "            facility_list = ''\n",
    "        \n",
    "        more_detail_link = job_card.find('a', attrs={'data-automation':'job-list-view-job-link'})\n",
    "        if more_detail_link:\n",
    "            more_detail_link = 'https://www.jobstreet.co.id'+ (more_detail_link.get('href'))\n",
    "        \n",
    "        job_id = job_card['data-job-id']\n",
    "        \n",
    "        # job_detail_request = requests.get('https://www.jobstreet.co.id/id/{}-jobs/in-{}?jobId={}&type=standout'.format(search, location, job_id))\n",
    "        # soup_job_detail_request = BeautifulSoup(job_detail_request.content, 'lxml')\n",
    "        # job_cards = soup_job_detail_request.find_all('article',attrs={'data-card-type':'JobCard'}) \n",
    "\n",
    "        data.append({'Job Title':job_title, 'Company Name':company_name, 'Location':location_city, 'Salary':salary, 'Job Classification':job_classification, 'Job Sub Classification':job_sub_classification, 'Job Description':job_desc, 'Facility':facility_list, 'Posted Date':posted_date})\n",
    "        \n",
    "    page += 1\n",
    "\n",
    "df = pd.DataFrame(data)\n",
    "df.to_csv('jobstreet.csv', index=False, encoding='utf-8')\n",
    "\n",
    "    "
   ]
  }
 ],
 "metadata": {
  "kernelspec": {
   "display_name": "Python 3",
   "language": "python",
   "name": "python3"
  },
  "language_info": {
   "codemirror_mode": {
    "name": "ipython",
    "version": 3
   },
   "file_extension": ".py",
   "mimetype": "text/x-python",
   "name": "python",
   "nbconvert_exporter": "python",
   "pygments_lexer": "ipython3",
   "version": "3.10.6"
  }
 },
 "nbformat": 4,
 "nbformat_minor": 2
}
