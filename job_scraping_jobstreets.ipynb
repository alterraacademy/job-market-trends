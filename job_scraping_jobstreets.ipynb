{
 "cells": [
  {
   "cell_type": "markdown",
   "metadata": {},
   "source": [
    "# Jobstreet"
   ]
  },
  {
   "cell_type": "code",
   "execution_count": 3,
   "metadata": {},
   "outputs": [],
   "source": [
    "from bs4 import BeautifulSoup\n",
    "import requests\n",
    "import pandas as pd\n",
    "from datetime import datetime\n",
    "from urllib.parse import quote"
   ]
  },
  {
   "cell_type": "code",
   "execution_count": 4,
   "metadata": {},
   "outputs": [],
   "source": [
    "search = 'data scientist'\n",
    "location = 'surabaya'\n",
    "search = search.replace(' ','-')\n",
    "location = location.replace(' ','-')"
   ]
  },
  {
   "cell_type": "code",
   "execution_count": 5,
   "metadata": {},
   "outputs": [],
   "source": [
    "def find_tag_value(soup, tag, attribute):\n",
    "    try:\n",
    "        return soup.find(tag, attrs={'data-automation':attribute}).text.strip()\n",
    "    except AttributeError:\n",
    "        return None"
   ]
  },
  {
   "cell_type": "code",
   "execution_count": 6,
   "metadata": {},
   "outputs": [
    {
     "name": "stdout",
     "output_type": "stream",
     "text": [
      "page 1 jobs found 9\n"
     ]
    }
   ],
   "source": [
    "page = 1\n",
    "data = []\n",
    "while True:\n",
    "    r = requests.get('https://www.jobstreet.co.id/id/{}-jobs/in-{}?page={}'.format(search, location, page))\n",
    "    soup = BeautifulSoup(r.content, 'lxml')\n",
    "    job_cards = soup.find_all('article',attrs={'data-card-type':'JobCard'})\n",
    "    if len(job_cards) == 0:\n",
    "        break\n",
    "    print('page',page,'jobs found', len(job_cards))\n",
    "\n",
    "    for job_card in job_cards:\n",
    "    \n",
    "        job_title = find_tag_value(job_card, 'a', 'jobTitle')\n",
    "        \n",
    "        company_name = find_tag_value(job_card, 'a', 'jobCompany')\n",
    "        \n",
    "        location_city = find_tag_value(job_card, 'a', 'jobLocation')\n",
    "        \n",
    "        salary = find_tag_value(job_card, 'span', 'jobSalary')\n",
    "        if salary:\n",
    "            salary = salary.replace(u'\\xa0', u'')\n",
    "\n",
    "        job_classification = find_tag_value(job_card, 'a', 'jobClassification')\n",
    "        \n",
    "        job_sub_classification = find_tag_value(job_card, 'a', 'jobSubClassification')\n",
    "        \n",
    "        job_desc = find_tag_value(job_card, 'span', 'jobShortDescription')\n",
    "        \n",
    "        facility = job_card.find('ul',class_='y735df0 y735df3 _1akoxc50 _1akoxc54')\n",
    "\n",
    "        if facility is not None:\n",
    "            facility = facility.find_all('li')\n",
    "            facility_list = [item.text.strip() for item in facility]\n",
    "            facility_list = ', '.join(facility_list)\n",
    "\n",
    "        else:\n",
    "            facility_list = ''\n",
    "\n",
    "        posted_date = find_tag_value(job_card, 'span', 'jobListingDate')\n",
    "\n",
    "        job_id = job_card['data-job-id']\n",
    "        # check job_id\n",
    "        \n",
    "        \n",
    "        # job_detail_request = requests.get('https://www.jobstreet.co.id/id/{}-jobs/in-{}?jobId={}&type=standout'.format(search, location, job_id))\n",
    "        # soup_job_detail_request = BeautifulSoup(job_detail_request.content, 'lxml')\n",
    "        # job_cards = soup_job_detail_request.find_all('article',attrs={'data-card-type':'JobCard'})\n",
    "\n",
    "        data.append({'Job Title':job_title, 'Company Name':company_name, 'Location':location_city, 'Salary':salary, 'Job Classification':job_classification, 'Job Sub Classification':job_sub_classification, 'Job Description':job_desc, 'Facility':facility_list, 'Posted Date':posted_date})\n",
    "        \n",
    "    page += 1\n",
    "\n",
    "df = pd.DataFrame(data)\n",
    "df.to_csv('jobstreet.csv', index=False, encoding='utf-8')\n",
    "\n",
    "    "
   ]
  }
 ],
 "metadata": {
  "kernelspec": {
   "display_name": "Python 3",
   "language": "python",
   "name": "python3"
  },
  "language_info": {
   "codemirror_mode": {
    "name": "ipython",
    "version": 3
   },
   "file_extension": ".py",
   "mimetype": "text/x-python",
   "name": "python",
   "nbconvert_exporter": "python",
   "pygments_lexer": "ipython3",
   "version": "3.10.6"
  }
 },
 "nbformat": 4,
 "nbformat_minor": 2
}
