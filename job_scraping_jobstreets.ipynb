{
 "cells": [
  {
   "cell_type": "code",
   "execution_count": 1,
   "metadata": {},
   "outputs": [],
   "source": [
    "from bs4 import BeautifulSoup\n",
    "import requests\n",
    "import pandas as pd\n",
    "from datetime import datetime\n",
    "from urllib.parse import quote"
   ]
  },
  {
   "cell_type": "code",
   "execution_count": 10,
   "metadata": {},
   "outputs": [],
   "source": [
    "def scrape_jobs(position,location):\n",
    "    position = quote(position, safe='-')\n",
    "    location = quote(location, safe='-')\n",
    "    page = 1\n",
    "    data = []\n",
    "    while True:\n",
    "        template = 'https://www.jobstreet.co.id/id/{}-jobs/in-{}?page={}'\n",
    "        url = template.format(position,location,page)\n",
    "        \n",
    "        html_text = requests.get(url).text\n",
    "        soup = BeautifulSoup(html_text, 'lxml')\n",
    "        jobs = soup.find_all('div',class_='y735df0 _1akoxc50 _1akoxc54')\n",
    "        print('jobs found', len(jobs),'url',url)\n",
    "        zeroResult = soup.find('section',class_='y735df0 y735df1 _1iz8dgs82 _1iz8dgs6y _1iz8dgsaa _1iz8dgs96')\n",
    "        if zeroResult:\n",
    "            print('No more jobs found')\n",
    "            break\n",
    "        page += 1\n",
    "\n",
    "        for job in jobs:\n",
    "            try:\n",
    "                job_role = job.find('h3').text.strip()\n",
    "            except AttributeError:\n",
    "                job_role = ''\n",
    "            try:\n",
    "                company_name = job.find('a',class_='y735df0 y735dff  y735df0 y735dff _842p0a0 _842p0a1').text.strip()\n",
    "                # print(company_name)\n",
    "            except AttributeError:\n",
    "                company_name = ''\n",
    "            try:\n",
    "                location_company = job.find('a',class_='y735df0 _1iz8dgs4y _94v4w0 _94v4w1 _94v4w21 _1wzghjf4 _94v4w7').text.strip()\n",
    "                # print(location_company)\n",
    "            except AttributeError:\n",
    "                location_company = ''\n",
    "            try:\n",
    "                posted_date = job.find('span',class_='y735df0 _1iz8dgs4y _94v4w0 _94v4w1 _94v4w22 _1wzghjf4 _94v4w7').span.text.strip()\n",
    "                # print(posted_date)\n",
    "            except AttributeError:\n",
    "                posted_date = ''\n",
    "            try:\n",
    "                skill = (job.find('a',class_='y735df0 _1iz8dgsr _1iz8dgsf6 _1iz8dgsbu _1iz8dgs4y _1iz8dgsfm').text).split('subClassification:')[-1].strip()\n",
    "                print(skill)\n",
    "            except AttributeError:\n",
    "                skill = ''\n",
    "            \n",
    "            # try:\n",
    "            #     more_detail_link = job.header.h2.a['href']\n",
    "            # except AttributeError:\n",
    "            #     more_detail_link = ''\n",
    "            \n",
    "            extract_date = datetime.today().strftime('%Y-%m-%d')\n",
    "            \n",
    "            data.append({'Role':job_role, 'Company Name':company_name, 'Location':location_company, 'Posted Date':posted_date,'Extracted Date':extract_date,'Key Skill': skill})\n",
    "    df = pd.DataFrame(data)\n",
    "    \n",
    "    df.to_csv(f'list_of_{position}_jobstreet.csv', index=False, encoding='utf-8')\n",
    "\n",
    "        "
   ]
  },
  {
   "cell_type": "code",
   "execution_count": 11,
   "metadata": {},
   "outputs": [
    {
     "name": "stdout",
     "output_type": "stream",
     "text": [
      "jobs found 102 url https://www.jobstreet.co.id/id/data%20analyst-jobs/in-jakarta?page=1\n",
      "jobs found 103 url https://www.jobstreet.co.id/id/data%20analyst-jobs/in-jakarta?page=2\n",
      "jobs found 103 url https://www.jobstreet.co.id/id/data%20analyst-jobs/in-jakarta?page=3\n",
      "jobs found 103 url https://www.jobstreet.co.id/id/data%20analyst-jobs/in-jakarta?page=4\n",
      "jobs found 102 url https://www.jobstreet.co.id/id/data%20analyst-jobs/in-jakarta?page=5\n",
      "jobs found 103 url https://www.jobstreet.co.id/id/data%20analyst-jobs/in-jakarta?page=6\n",
      "jobs found 104 url https://www.jobstreet.co.id/id/data%20analyst-jobs/in-jakarta?page=7\n",
      "jobs found 103 url https://www.jobstreet.co.id/id/data%20analyst-jobs/in-jakarta?page=8\n",
      "jobs found 102 url https://www.jobstreet.co.id/id/data%20analyst-jobs/in-jakarta?page=9\n",
      "jobs found 103 url https://www.jobstreet.co.id/id/data%20analyst-jobs/in-jakarta?page=10\n",
      "jobs found 103 url https://www.jobstreet.co.id/id/data%20analyst-jobs/in-jakarta?page=11\n",
      "jobs found 89 url https://www.jobstreet.co.id/id/data%20analyst-jobs/in-jakarta?page=12\n",
      "jobs found 91 url https://www.jobstreet.co.id/id/data%20analyst-jobs/in-jakarta?page=13\n",
      "jobs found 72 url https://www.jobstreet.co.id/id/data%20analyst-jobs/in-jakarta?page=14\n",
      "jobs found 72 url https://www.jobstreet.co.id/id/data%20analyst-jobs/in-jakarta?page=15\n",
      "jobs found 72 url https://www.jobstreet.co.id/id/data%20analyst-jobs/in-jakarta?page=16\n",
      "jobs found 72 url https://www.jobstreet.co.id/id/data%20analyst-jobs/in-jakarta?page=17\n",
      "jobs found 72 url https://www.jobstreet.co.id/id/data%20analyst-jobs/in-jakarta?page=18\n",
      "jobs found 72 url https://www.jobstreet.co.id/id/data%20analyst-jobs/in-jakarta?page=19\n",
      "jobs found 72 url https://www.jobstreet.co.id/id/data%20analyst-jobs/in-jakarta?page=20\n",
      "jobs found 69 url https://www.jobstreet.co.id/id/data%20analyst-jobs/in-jakarta?page=21\n",
      "jobs found 35 url https://www.jobstreet.co.id/id/data%20analyst-jobs/in-jakarta?page=22\n",
      "No more jobs found\n"
     ]
    }
   ],
   "source": [
    "if __name__ == '__main__':\n",
    "    position = 'data analyst'\n",
    "    location = 'jakarta'\n",
    "\n",
    "    scrape_jobs(position,location)"
   ]
  },
  {
   "cell_type": "markdown",
   "metadata": {},
   "source": [
    "# Jobstreet"
   ]
  },
  {
   "cell_type": "code",
   "execution_count": 27,
   "metadata": {},
   "outputs": [],
   "source": [
    "jobstreet_base_url ='https://www.jobstreet.co.id/id/jobs'"
   ]
  },
  {
   "cell_type": "code",
   "execution_count": 36,
   "metadata": {},
   "outputs": [],
   "source": [
    "r = requests.get('https://www.jobstreet.co.id/id/jobs')\n",
    "soup = BeautifulSoup(r.content, 'lxml')\n",
    "jobs = soup.find_all('div',class_='y735df0 _1akoxc50 _1akoxc54')"
   ]
  },
  {
   "cell_type": "code",
   "execution_count": 58,
   "metadata": {},
   "outputs": [],
   "source": [
    "for job in jobs:\n",
    "    for job_card in job.find_all('div',class_='y735df0 _1iz8dgs6m'):\n",
    "        if job_card:\n",
    "            detailed_job_item = job_card.find('a', class_='y735df0 y735dff _1iz8dgs5i _1iz8dgsj _1iz8dgsk _1iz8dgsl _1iz8dgsm _1iz8dgs7', href=True)\n",
    "            if detailed_job_item:\n",
    "                detailed_url = detailed_job_item['href']\n",
    "                print(detailed_url)"
   ]
  }
 ],
 "metadata": {
  "kernelspec": {
   "display_name": "Python 3",
   "language": "python",
   "name": "python3"
  },
  "language_info": {
   "codemirror_mode": {
    "name": "ipython",
    "version": 3
   },
   "file_extension": ".py",
   "mimetype": "text/x-python",
   "name": "python",
   "nbconvert_exporter": "python",
   "pygments_lexer": "ipython3",
   "version": "3.10.6"
  }
 },
 "nbformat": 4,
 "nbformat_minor": 2
}
