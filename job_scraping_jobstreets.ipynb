{
 "cells": [
  {
   "cell_type": "code",
   "execution_count": 3,
   "metadata": {},
   "outputs": [],
   "source": [
    "from bs4 import BeautifulSoup\n",
    "import requests\n",
    "import pandas as pd\n",
    "from datetime import datetime\n",
    "from urllib.parse import quote"
   ]
  },
  {
   "cell_type": "code",
   "execution_count": 10,
   "metadata": {},
   "outputs": [],
   "source": [
    "def scrape_jobs(position,location):\n",
    "    position = quote(position, safe='-')\n",
    "    location = quote(location, safe='-')\n",
    "    page = 1\n",
    "    data = []\n",
    "    while True:\n",
    "        template = 'https://www.jobstreet.co.id/id/{}-jobs/in-{}?page={}'\n",
    "        url = template.format(position,location,page)\n",
    "        \n",
    "        html_text = requests.get(url).text\n",
    "        soup = BeautifulSoup(html_text, 'lxml')\n",
    "        jobs = soup.find_all('div',class_='y735df0 _1akoxc50 _1akoxc54')\n",
    "        print('jobs found', len(jobs),'url',url)\n",
    "        zeroResult = soup.find('section',class_='y735df0 y735df1 _1iz8dgs82 _1iz8dgs6y _1iz8dgsaa _1iz8dgs96')\n",
    "        if zeroResult:\n",
    "            print('No more jobs found')\n",
    "            break\n",
    "        page += 1\n",
    "\n",
    "        for job in jobs:\n",
    "            try:\n",
    "                job_role = job.find('h3').text.strip()\n",
    "            except AttributeError:\n",
    "                job_role = ''\n",
    "            try:\n",
    "                company_name = job.find('a',class_='y735df0 y735dff  y735df0 y735dff _842p0a0 _842p0a1').text.strip()\n",
    "                # print(company_name)\n",
    "            except AttributeError:\n",
    "                company_name = ''\n",
    "            try:\n",
    "                location_company = job.find('a',class_='y735df0 _1iz8dgs4y _94v4w0 _94v4w1 _94v4w21 _1wzghjf4 _94v4w7').text.strip()\n",
    "                # print(location_company)\n",
    "            except AttributeError:\n",
    "                location_company = ''\n",
    "            try:\n",
    "                posted_date = job.find('span',class_='y735df0 _1iz8dgs4y _94v4w0 _94v4w1 _94v4w22 _1wzghjf4 _94v4w7').span.text.strip()\n",
    "                # print(posted_date)\n",
    "            except AttributeError:\n",
    "                posted_date = ''\n",
    "            try:\n",
    "                skill = (job.find('a',class_='y735df0 _1iz8dgsr _1iz8dgsf6 _1iz8dgsbu _1iz8dgs4y _1iz8dgsfm').text).split('subClassification:')[-1].strip()\n",
    "                print(skill)\n",
    "            except AttributeError:\n",
    "                skill = ''\n",
    "            \n",
    "            # try:\n",
    "            #     more_detail_link = job.header.h2.a['href']\n",
    "            # except AttributeError:\n",
    "            #     more_detail_link = ''\n",
    "            \n",
    "            extract_date = datetime.today().strftime('%Y-%m-%d')\n",
    "            \n",
    "            data.append({'Role':job_role, 'Company Name':company_name, 'Location':location_company, 'Posted Date':posted_date,'Extracted Date':extract_date,'Key Skill': skill})\n",
    "    df = pd.DataFrame(data)\n",
    "    \n",
    "    df.to_csv(f'list_of_{position}_jobstreet.csv', index=False, encoding='utf-8')\n",
    "\n",
    "        "
   ]
  },
  {
   "cell_type": "code",
   "execution_count": null,
   "metadata": {},
   "outputs": [],
   "source": [
    "if __name__ == '__main__':\n",
    "    position = 'data analyst'\n",
    "    location = 'jakarta'\n",
    "\n",
    "    scrape_jobs(position,location)"
   ]
  },
  {
   "cell_type": "markdown",
   "metadata": {},
   "source": [
    "# Jobstreet"
   ]
  },
  {
   "cell_type": "code",
   "execution_count": 1,
   "metadata": {},
   "outputs": [],
   "source": [
    "jobstreet_base_url ='https://www.jobstreet.co.id'"
   ]
  },
  {
   "cell_type": "code",
   "execution_count": 4,
   "metadata": {},
   "outputs": [],
   "source": [
    "r = requests.get('https://www.jobstreet.co.id/id/jobs')\n",
    "soup = BeautifulSoup(r.content, 'lxml')\n",
    "jobs = soup.find_all('div',class_='y735df0 _1akoxc50 _1akoxc54')"
   ]
  },
  {
   "cell_type": "code",
   "execution_count": 7,
   "metadata": {},
   "outputs": [],
   "source": [
    "detail = []\n",
    "article = []\n",
    "link = []\n",
    "job_url = []"
   ]
  },
  {
   "cell_type": "code",
   "execution_count": 8,
   "metadata": {},
   "outputs": [],
   "source": [
    "# berhasil, tp hasilnya dobel gara\" looping berlebihan\n",
    "\n",
    "for job in jobs:\n",
    "    for job_card in job.find_all('div',class_='y735df0 _1iz8dgs6m'):\n",
    "        if job_card:\n",
    "            for job_detail in job_card.find_all('div',class_='y735df0'):\n",
    "                for i in job_detail.find_all('article', class_='y735df0 y735df1 _1iz8dgs7i _1iz8dgs6e _1iz8dgs9q _1iz8dgs8m _1iz8dgs66 _1iz8dgsh _1iz8dgs5e uo6mkb _1iz8dgs4i _1iz8dgs4b _94v4w18 _94v4w1b _1iz8dgs32 _1iz8dgs35'):\n",
    "                    for link in i.find_all('a',href=True):\n",
    "                        job_url.append(jobstreet_base_url + link['href'])\n",
    "                        # print(link['href'])\n",
    "                # print(job_detail)\n",
    "\n"
   ]
  },
  {
   "cell_type": "code",
   "execution_count": null,
   "metadata": {},
   "outputs": [],
   "source": [
    "job_url"
   ]
  },
  {
   "cell_type": "markdown",
   "metadata": {},
   "source": [
    "# try 1"
   ]
  },
  {
   "cell_type": "code",
   "execution_count": null,
   "metadata": {},
   "outputs": [],
   "source": [
    "\n",
    "\n",
    "for job in jobs:\n",
    "    for job_card in job.find_all('div',class_='y735df0 _1iz8dgs6m'):\n",
    "        if job_card:\n",
    "            detail = job_card.find_all('div',class_='y735df0')\n",
    "            article = detail.find('article', class_='y735df0 y735df1 _1iz8dgs7i _1iz8dgs6e _1iz8dgs9q _1iz8dgs8m _1iz8dgs66 _1iz8dgsh _1iz8dgs5e uo6mkb _1iz8dgs4i _1iz8dgs4b _94v4w18 _94v4w1b _1iz8dgs32 _1iz8dgs35')\n",
    "            link = article.find('a',href=True)\n",
    "            job_url.append(jobstreet_base_url + link['href'])\n",
    "                        # print(link['href'])\n",
    "                # print(job_detail)\n",
    "job_url\n"
   ]
  },
  {
   "cell_type": "markdown",
   "metadata": {},
   "source": [
    "# try 2"
   ]
  },
  {
   "cell_type": "code",
   "execution_count": null,
   "metadata": {},
   "outputs": [],
   "source": [
    "for job in jobs:\n",
    "    for job_card in job.find_all('div',class_='y735df0 _1iz8dgs6m'):\n",
    "        if job_card:\n",
    "            for job_detail in job_card.find_all('div',class_='y735df0 _1akoxc50 _1akoxc55'):\n",
    "                \n",
    "                role = job_detail.find('div', class_='y735df0 _1iz8dgs4y _94v4w0 _94v4w1 _94v4w21 _1wzghjf4 _94v4w7') \n",
    "                print(role)\n",
    "            # for detail in job_card.find('div', class_='y735df0 _1iz8dgs6q'):\n",
    "                # print(detail)\n",
    "                # detailed_job_item = job_card.find('a', class_='y735df0 y735dff _1iz8dgs5i _1iz8dgsj _1iz8dgsk _1iz8dgsl _1iz8dgsm _1iz8dgs7', href=True)\n",
    "                # # print(detailed_job_item)\n",
    "            # role = job_card.find_all('h3', class_='y735df0 _1iz8dgs4y _94v4w0 _94v4w1 _94v4w21 _1wzghjf4 _94v4w7')\n",
    "            # detailed_job_item = job_card.find('a', class_='y735df0 y735dff _1iz8dgs5i _1iz8dgsj _1iz8dgsk _1iz8dgsl _1iz8dgsm _1iz8dgs7', href=True)\n",
    "            # print(role)\n",
    "            # if detailed_job_item:\n",
    "                # print(detailed_job_item)"
   ]
  },
  {
   "cell_type": "markdown",
   "metadata": {},
   "source": [
    "# Detail About Jobs"
   ]
  },
  {
   "cell_type": "code",
   "execution_count": null,
   "metadata": {},
   "outputs": [],
   "source": [
    "job_url = 'https://www.jobstreet.co.id/id/job/74044358?type=standout&ref=search-standalone'"
   ]
  }
 ],
 "metadata": {
  "kernelspec": {
   "display_name": "Python 3",
   "language": "python",
   "name": "python3"
  },
  "language_info": {
   "codemirror_mode": {
    "name": "ipython",
    "version": 3
   },
   "file_extension": ".py",
   "mimetype": "text/x-python",
   "name": "python",
   "nbconvert_exporter": "python",
   "pygments_lexer": "ipython3",
   "version": "3.10.6"
  }
 },
 "nbformat": 4,
 "nbformat_minor": 2
}
