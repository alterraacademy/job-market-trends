{
 "cells": [
  {
   "cell_type": "code",
   "execution_count": 1,
   "metadata": {},
   "outputs": [],
   "source": [
    "from bs4 import BeautifulSoup\n",
    "import requests\n",
    "import pandas as pd\n",
    "from datetime import datetime\n",
    "from urllib.parse import quote"
   ]
  },
  {
   "cell_type": "code",
   "execution_count": 17,
   "metadata": {},
   "outputs": [],
   "source": [
    "def scrape_jobs(position,location):\n",
    "    position = quote(position, safe='-')\n",
    "    location = quote(location, safe='-')\n",
    "    page = 1\n",
    "    data = []\n",
    "    while True:\n",
    "        template = 'https://www.jobstreet.co.id/id/{}-jobs/in-{}?page={}'\n",
    "        url = template.format(position,location,page)\n",
    "        \n",
    "        html_text = requests.get(url).text\n",
    "        soup = BeautifulSoup(html_text, 'lxml')\n",
    "        jobs = soup.find_all('div',class_='y735df0 _1akoxc50 _1akoxc54')\n",
    "        print('jobs found', len(jobs),'url',url)\n",
    "        zeroResult = soup.find('section',class_='y735df0 y735df1 _1iz8dgs82 _1iz8dgs6y _1iz8dgsaa _1iz8dgs96')\n",
    "        if zeroResult:\n",
    "            print('No more jobs found')\n",
    "            break\n",
    "        page += 1\n",
    "\n",
    "        for job in jobs:\n",
    "            try:\n",
    "                job_role = job.find('h3').text.strip()\n",
    "            except AttributeError:\n",
    "                job_role = ''\n",
    "            try:\n",
    "                company_name = job.find('a',class_='y735df0 y735dff  y735df0 y735dff _842p0a0 _842p0a1').text.strip()\n",
    "                # print(company_name)\n",
    "            except AttributeError:\n",
    "                company_name = ''\n",
    "            try:\n",
    "                location_company = job.find('a',class_='y735df0 _1iz8dgs4y _94v4w0 _94v4w1 _94v4w21 _1wzghjf4 _94v4w7').text.strip()\n",
    "                # print(location_company)\n",
    "            except AttributeError:\n",
    "                location_company = ''\n",
    "            try:\n",
    "                posted_date = job.find('span',class_='y735df0 _1iz8dgs4y _94v4w0 _94v4w1 _94v4w22 _1wzghjf4 _94v4w7').span.text.strip()\n",
    "                # print(posted_date)\n",
    "            except AttributeError:\n",
    "                posted_date = ''\n",
    "            try:\n",
    "                skill = (job.find('a',class_='y735df0 _1iz8dgsr _1iz8dgsf6 _1iz8dgsbu _1iz8dgs4y _1iz8dgsfm').text).split('subClassification:')[-1].strip()\n",
    "                print(skill)\n",
    "            except AttributeError:\n",
    "                skill = ''\n",
    "            \n",
    "            # try:\n",
    "            #     more_detail_link = job.header.h2.a['href']\n",
    "            # except AttributeError:\n",
    "            #     more_detail_link = ''\n",
    "            \n",
    "            extract_date = datetime.today().strftime('%Y-%m-%d')\n",
    "            \n",
    "            data.append({'Role':job_role, 'Company Name':company_name, 'Location':location_company, 'Posted Date':posted_date,'Extracted Date':extract_date,'Key Skill': skill})\n",
    "    df = pd.DataFrame(data)\n",
    "    \n",
    "    df.to_csv(f'list_of_{position}_jobstreet.csv', index=False, encoding='utf-8')\n",
    "\n",
    "        "
   ]
  },
  {
   "cell_type": "code",
   "execution_count": 18,
   "metadata": {},
   "outputs": [
    {
     "name": "stdout",
     "output_type": "stream",
     "text": [
      "jobs found 94 url https://www.jobstreet.co.id/id/data%20analyst-jobs/in-jakarta?page=1\n",
      "jobs found 102 url https://www.jobstreet.co.id/id/data%20analyst-jobs/in-jakarta?page=2\n",
      "jobs found 104 url https://www.jobstreet.co.id/id/data%20analyst-jobs/in-jakarta?page=3\n",
      "jobs found 101 url https://www.jobstreet.co.id/id/data%20analyst-jobs/in-jakarta?page=4\n",
      "jobs found 100 url https://www.jobstreet.co.id/id/data%20analyst-jobs/in-jakarta?page=5\n",
      "jobs found 101 url https://www.jobstreet.co.id/id/data%20analyst-jobs/in-jakarta?page=6\n",
      "jobs found 102 url https://www.jobstreet.co.id/id/data%20analyst-jobs/in-jakarta?page=7\n",
      "jobs found 102 url https://www.jobstreet.co.id/id/data%20analyst-jobs/in-jakarta?page=8\n",
      "jobs found 104 url https://www.jobstreet.co.id/id/data%20analyst-jobs/in-jakarta?page=9\n",
      "jobs found 103 url https://www.jobstreet.co.id/id/data%20analyst-jobs/in-jakarta?page=10\n",
      "jobs found 102 url https://www.jobstreet.co.id/id/data%20analyst-jobs/in-jakarta?page=11\n",
      "jobs found 104 url https://www.jobstreet.co.id/id/data%20analyst-jobs/in-jakarta?page=12\n",
      "jobs found 101 url https://www.jobstreet.co.id/id/data%20analyst-jobs/in-jakarta?page=13\n",
      "jobs found 103 url https://www.jobstreet.co.id/id/data%20analyst-jobs/in-jakarta?page=14\n",
      "jobs found 72 url https://www.jobstreet.co.id/id/data%20analyst-jobs/in-jakarta?page=15\n",
      "jobs found 72 url https://www.jobstreet.co.id/id/data%20analyst-jobs/in-jakarta?page=16\n"
     ]
    }
   ],
   "source": [
    "if __name__ == '__main__':\n",
    "    position = 'data analyst'\n",
    "    location = 'jakarta'\n",
    "\n",
    "    scrape_jobs(position,location)"
   ]
  },
  {
   "cell_type": "markdown",
   "metadata": {},
   "source": [
    "# Jobstreet"
   ]
  },
  {
   "cell_type": "code",
   "execution_count": 2,
   "metadata": {},
   "outputs": [],
   "source": [
    "jobstreet_base_url ='https://www.jobstreet.co.id'"
   ]
  },
  {
   "cell_type": "code",
   "execution_count": 3,
   "metadata": {},
   "outputs": [],
   "source": [
    "r = requests.get('https://www.jobstreet.co.id/id/jobs')\n",
    "soup = BeautifulSoup(r.content, 'lxml')\n",
    "jobs = soup.find_all('div',class_='y735df0 _1akoxc50 _1akoxc54')"
   ]
  },
  {
   "cell_type": "code",
   "execution_count": 11,
   "metadata": {},
   "outputs": [],
   "source": [
    "job_url = []"
   ]
  },
  {
   "cell_type": "code",
   "execution_count": 9,
   "metadata": {},
   "outputs": [
    {
     "name": "stdout",
     "output_type": "stream",
     "text": [
      "96\n"
     ]
    }
   ],
   "source": [
    "for job in jobs:\n",
    "    for job_card in job.find_all('div', class_='y735df0 _1iz8dgs6m'):\n",
    "        job_card_details = job_card.find_all('div', class_='y735df0')\n",
    "        for job_card_detail in job_card_details:\n",
    "            article = job_card_detail.find('article', class_='y735df0 y735df1 _1iz8dgs7i _1iz8dgs6e _1iz8dgs9q _1iz8dgs8m _1iz8dgs66 _1iz8dgsh _1iz8dgs5e uo6mkb _1iz8dgs4i _1iz8dgs4b _94v4w18 _94v4w1b _1iz8dgs32 _1iz8dgs35')\n",
    "            if article:\n",
    "                link = article.find('a', href=True)\n",
    "                if link:\n",
    "                    job_url.append(jobstreet_base_url + link['href'])\n",
    "                    # print(link['href'])\n",
    "# print(len(job_url))"
   ]
  },
  {
   "cell_type": "code",
   "execution_count": null,
   "metadata": {},
   "outputs": [],
   "source": [
    "for job in jobs:\n",
    "    for job_card in job.find_all('div', data-='y735df0 _1iz8dgs6m'):\n",
    "        job_card_details = job_card.find_all('div', class_='y735df0')\n",
    "        for job_card_detail in job_card_details:\n",
    "            article = job_card_detail.find('article', class_='y735df0 y735df1 _1iz8dgs7i _1iz8dgs6e _1iz8dgs9q _1iz8dgs8m _1iz8dgs66 _1iz8dgsh _1iz8dgs5e uo6mkb _1iz8dgs4i _1iz8dgs4b _94v4w18 _94v4w1b _1iz8dgs32 _1iz8dgs35')\n",
    "            if article:\n",
    "                link = article.find('a', href=True)\n",
    "                if link:\n",
    "                    job_url.append(jobstreet_base_url + link['href'])\n",
    "                    # print(link['href'])\n",
    "# print(len(job_url))"
   ]
  },
  {
   "cell_type": "code",
   "execution_count": 8,
   "metadata": {},
   "outputs": [
    {
     "data": {
      "text/plain": [
       "['https://www.jobstreet.co.id/id/job/74062398?type=standout&ref=search-standalone',\n",
       " 'https://www.jobstreet.co.id/id/job/74051176?type=standout&ref=search-standalone',\n",
       " 'https://www.jobstreet.co.id/id/job/74044358?type=standout&ref=search-standalone',\n",
       " 'https://www.jobstreet.co.id/id/job/74061571?type=standout&ref=search-standalone',\n",
       " 'https://www.jobstreet.co.id/id/job/74029326?type=standout&ref=search-standalone',\n",
       " 'https://www.jobstreet.co.id/id/job/74027446?type=standout&ref=search-standalone',\n",
       " 'https://www.jobstreet.co.id/id/job/73997854?type=standout&ref=search-standalone',\n",
       " 'https://www.jobstreet.co.id/id/job/74025053?type=standout&ref=search-standalone',\n",
       " 'https://www.jobstreet.co.id/id/job/74027452?type=standout&ref=search-standalone',\n",
       " 'https://www.jobstreet.co.id/id/job/74048719?type=standout&ref=search-standalone',\n",
       " 'https://www.jobstreet.co.id/id/job/73971287?type=standout&ref=search-standalone',\n",
       " 'https://www.jobstreet.co.id/id/job/74043861?type=standout&ref=search-standalone',\n",
       " 'https://www.jobstreet.co.id/id/job/74055337?type=standout&ref=search-standalone',\n",
       " 'https://www.jobstreet.co.id/id/job/74030224?type=standout&ref=search-standalone',\n",
       " 'https://www.jobstreet.co.id/id/job/73973065?type=standout&ref=search-standalone',\n",
       " 'https://www.jobstreet.co.id/id/job/74030306?type=standout&ref=search-standalone',\n",
       " 'https://www.jobstreet.co.id/id/job/74058681?type=standout&ref=search-standalone',\n",
       " 'https://www.jobstreet.co.id/id/job/73931105?type=standout&ref=search-standalone',\n",
       " 'https://www.jobstreet.co.id/id/job/74050463?type=standout&ref=search-standalone',\n",
       " 'https://www.jobstreet.co.id/id/job/74057716?type=standout&ref=search-standalone',\n",
       " 'https://www.jobstreet.co.id/id/job/74014637?type=standout&ref=search-standalone',\n",
       " 'https://www.jobstreet.co.id/id/job/74049543?type=standout&ref=search-standalone',\n",
       " 'https://www.jobstreet.co.id/id/job/74031541?type=standout&ref=search-standalone',\n",
       " 'https://www.jobstreet.co.id/id/job/74017347?type=standout&ref=search-standalone',\n",
       " 'https://www.jobstreet.co.id/id/job/73868366?type=standout&ref=search-standalone',\n",
       " 'https://www.jobstreet.co.id/id/job/74035095?type=standout&ref=search-standalone',\n",
       " 'https://www.jobstreet.co.id/id/job/74023665?type=standout&ref=search-standalone',\n",
       " 'https://www.jobstreet.co.id/id/job/74014090?type=standout&ref=search-standalone',\n",
       " 'https://www.jobstreet.co.id/id/job/73947349?type=standout&ref=search-standalone',\n",
       " 'https://www.jobstreet.co.id/id/job/74044463?type=standout&ref=search-standalone',\n",
       " 'https://www.jobstreet.co.id/id/job/73977441?type=standout&ref=search-standalone',\n",
       " 'https://www.jobstreet.co.id/id/job/73709448?type=standout&ref=search-standalone',\n",
       " 'https://www.jobstreet.co.id/id/job/74062398?type=standout&ref=search-standalone',\n",
       " 'https://www.jobstreet.co.id/id/job/74051176?type=standout&ref=search-standalone',\n",
       " 'https://www.jobstreet.co.id/id/job/74044358?type=standout&ref=search-standalone',\n",
       " 'https://www.jobstreet.co.id/id/job/74061571?type=standout&ref=search-standalone',\n",
       " 'https://www.jobstreet.co.id/id/job/74029326?type=standout&ref=search-standalone',\n",
       " 'https://www.jobstreet.co.id/id/job/74027446?type=standout&ref=search-standalone',\n",
       " 'https://www.jobstreet.co.id/id/job/73997854?type=standout&ref=search-standalone',\n",
       " 'https://www.jobstreet.co.id/id/job/74025053?type=standout&ref=search-standalone',\n",
       " 'https://www.jobstreet.co.id/id/job/74027452?type=standout&ref=search-standalone',\n",
       " 'https://www.jobstreet.co.id/id/job/74048719?type=standout&ref=search-standalone',\n",
       " 'https://www.jobstreet.co.id/id/job/73971287?type=standout&ref=search-standalone',\n",
       " 'https://www.jobstreet.co.id/id/job/74043861?type=standout&ref=search-standalone',\n",
       " 'https://www.jobstreet.co.id/id/job/74055337?type=standout&ref=search-standalone',\n",
       " 'https://www.jobstreet.co.id/id/job/74030224?type=standout&ref=search-standalone',\n",
       " 'https://www.jobstreet.co.id/id/job/73973065?type=standout&ref=search-standalone',\n",
       " 'https://www.jobstreet.co.id/id/job/74030306?type=standout&ref=search-standalone',\n",
       " 'https://www.jobstreet.co.id/id/job/74058681?type=standout&ref=search-standalone',\n",
       " 'https://www.jobstreet.co.id/id/job/73931105?type=standout&ref=search-standalone',\n",
       " 'https://www.jobstreet.co.id/id/job/74050463?type=standout&ref=search-standalone',\n",
       " 'https://www.jobstreet.co.id/id/job/74057716?type=standout&ref=search-standalone',\n",
       " 'https://www.jobstreet.co.id/id/job/74014637?type=standout&ref=search-standalone',\n",
       " 'https://www.jobstreet.co.id/id/job/74049543?type=standout&ref=search-standalone',\n",
       " 'https://www.jobstreet.co.id/id/job/74031541?type=standout&ref=search-standalone',\n",
       " 'https://www.jobstreet.co.id/id/job/74017347?type=standout&ref=search-standalone',\n",
       " 'https://www.jobstreet.co.id/id/job/73868366?type=standout&ref=search-standalone',\n",
       " 'https://www.jobstreet.co.id/id/job/74035095?type=standout&ref=search-standalone',\n",
       " 'https://www.jobstreet.co.id/id/job/74023665?type=standout&ref=search-standalone',\n",
       " 'https://www.jobstreet.co.id/id/job/74014090?type=standout&ref=search-standalone',\n",
       " 'https://www.jobstreet.co.id/id/job/73947349?type=standout&ref=search-standalone',\n",
       " 'https://www.jobstreet.co.id/id/job/74044463?type=standout&ref=search-standalone',\n",
       " 'https://www.jobstreet.co.id/id/job/73977441?type=standout&ref=search-standalone',\n",
       " 'https://www.jobstreet.co.id/id/job/73709448?type=standout&ref=search-standalone']"
      ]
     },
     "execution_count": 8,
     "metadata": {},
     "output_type": "execute_result"
    }
   ],
   "source": [
    "job_url"
   ]
  },
  {
   "cell_type": "markdown",
   "metadata": {},
   "source": [
    "# Detail About Jobs"
   ]
  },
  {
   "cell_type": "code",
   "execution_count": 12,
   "metadata": {},
   "outputs": [],
   "source": [
    "job_url = 'https://www.jobstreet.co.id/id/job/74044358?type=standout&ref=search-standalone'"
   ]
  },
  {
   "cell_type": "code",
   "execution_count": 16,
   "metadata": {},
   "outputs": [
    {
     "data": {
      "text/plain": [
       "[]"
      ]
     },
     "execution_count": 16,
     "metadata": {},
     "output_type": "execute_result"
    }
   ],
   "source": [
    "role_title = soup.find_all('div',class_='y735df0 _1iz8dgs70')\n",
    "role_title"
   ]
  },
  {
   "cell_type": "markdown",
   "metadata": {},
   "source": [
    "# Clean Code "
   ]
  },
  {
   "cell_type": "code",
   "execution_count": 1,
   "metadata": {},
   "outputs": [],
   "source": [
    "from bs4 import BeautifulSoup\n",
    "import requests\n",
    "import pandas as pd\n",
    "from datetime import datetime\n",
    "from urllib.parse import quote"
   ]
  },
  {
   "cell_type": "code",
   "execution_count": 86,
   "metadata": {},
   "outputs": [],
   "source": [
    "search = 'data scientist'\n",
    "location = 'surabaya'\n",
    "search = search.replace(' ','-')\n",
    "location = location.replace(' ','-')"
   ]
  },
  {
   "cell_type": "code",
   "execution_count": 83,
   "metadata": {},
   "outputs": [],
   "source": [
    "def find_tag_value(soup, tag, attribute):\n",
    "    try:\n",
    "        return soup.find(tag, attrs={'data-automation':attribute}).text.strip()\n",
    "    except AttributeError:\n",
    "        return None"
   ]
  },
  {
   "cell_type": "code",
   "execution_count": 105,
   "metadata": {},
   "outputs": [
    {
     "name": "stdout",
     "output_type": "stream",
     "text": [
      "page 1 jobs found 8\n",
      "73920644\n",
      "73802735\n",
      "73428408\n",
      "73464299\n",
      "73386115\n",
      "73494339\n",
      "73464293\n",
      "74058511\n"
     ]
    }
   ],
   "source": [
    "page = 1\n",
    "data = []\n",
    "while True:\n",
    "    r = requests.get('https://www.jobstreet.co.id/id/{}-jobs/in-{}?page={}'.format(search, location, page))\n",
    "    soup = BeautifulSoup(r.content, 'lxml')\n",
    "    job_cards = soup.find_all('article',attrs={'data-card-type':'JobCard'})\n",
    "    if len(job_cards) == 0:\n",
    "        break\n",
    "    print('page',page,'jobs found', len(job_cards))\n",
    "\n",
    "    for job_card in job_cards:\n",
    "    \n",
    "        job_title = find_tag_value(job_card, 'a', 'jobTitle')\n",
    "        \n",
    "        company_name = find_tag_value(job_card, 'a', 'jobCompany')\n",
    "        \n",
    "        location_city = find_tag_value(job_card, 'a', 'jobLocation')\n",
    "        \n",
    "        salary = find_tag_value(job_card, 'span', 'jobSalary')\n",
    "        if salary:\n",
    "            salary = salary.replace(u'\\xa0', u'')\n",
    "\n",
    "        job_classification = find_tag_value(job_card, 'a', 'jobClassification')\n",
    "        \n",
    "        job_sub_classification = find_tag_value(job_card, 'a', 'jobSubClassification')\n",
    "        \n",
    "        job_desc = find_tag_value(job_card, 'span', 'jobShortDescription')\n",
    "        \n",
    "        facility = job_card.find('ul',class_='y735df0 y735df3 _1akoxc50 _1akoxc54')\n",
    "        if facility is not None:\n",
    "            facility = facility.find_all('li')\n",
    "            facility_list = [item.text.strip() for item in facility]\n",
    "            # make into 1 text with comma delimiter\n",
    "            facility_list = ', '.join(facility_list)\n",
    "\n",
    "        else:\n",
    "            facility_list = ''\n",
    "\n",
    "        posted_date = find_tag_value(job_card, 'span', 'jobListingDate')\n",
    "\n",
    "        job_id = job_card['data-job-id']\n",
    "        \n",
    "        # job_detail_request = requests.get('https://www.jobstreet.co.id/id/{}-jobs/in-{}?jobId={}&type=standout'.format(search, location, job_id))\n",
    "        # soup_job_detail_request = BeautifulSoup(job_detail_request.content, 'lxml')\n",
    "        # job_cards = soup_job_detail_request.find_all('article',attrs={'data-card-type':'JobCard'})\n",
    "\n",
    "        data.append({'Job Title':job_title, 'Company Name':company_name, 'Location':location_city, 'Salary':salary, 'Job Classification':job_classification, 'Job Sub Classification':job_sub_classification, 'Job Description':job_desc, 'Facility':facility_list, 'Posted Date':posted_date})\n",
    "        \n",
    "    page += 1\n",
    "\n",
    "df = pd.DataFrame(data)\n",
    "df.to_csv('jobstreet.csv', index=False, encoding='utf-8')\n",
    "\n",
    "    "
   ]
  }
 ],
 "metadata": {
  "kernelspec": {
   "display_name": "Python 3",
   "language": "python",
   "name": "python3"
  },
  "language_info": {
   "codemirror_mode": {
    "name": "ipython",
    "version": 3
   },
   "file_extension": ".py",
   "mimetype": "text/x-python",
   "name": "python",
   "nbconvert_exporter": "python",
   "pygments_lexer": "ipython3",
   "version": "3.10.6"
  }
 },
 "nbformat": 4,
 "nbformat_minor": 2
}
