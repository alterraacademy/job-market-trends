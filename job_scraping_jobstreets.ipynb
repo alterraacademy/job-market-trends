{
 "cells": [
  {
   "cell_type": "markdown",
   "metadata": {},
   "source": [
    "# Jobstreet"
   ]
  },
  {
   "cell_type": "code",
   "execution_count": 16,
   "metadata": {},
   "outputs": [],
   "source": [
    "from bs4 import BeautifulSoup\n",
    "import requests\n",
    "import pandas as pd\n",
    "import re\n",
    "from selenium import webdriver\n",
    "from selenium.webdriver.common.by import By\n",
    "from selenium.webdriver.support.ui import WebDriverWait\n",
    "from selenium.webdriver.support import expected_conditions as EC"
   ]
  },
  {
   "cell_type": "code",
   "execution_count": 17,
   "metadata": {},
   "outputs": [],
   "source": [
    "search_position = input('Enter Searched Position: ')\n",
    "location = input('Enter Location: ')\n",
    "\n",
    "search_position = search_position.lower().replace(' ','-')\n",
    "location = location.lower().replace(' ','-')"
   ]
  },
  {
   "cell_type": "code",
   "execution_count": 18,
   "metadata": {},
   "outputs": [],
   "source": [
    "# Helper Function\n",
    "def find_tag_value(soup, tag, attribute):\n",
    "    try:\n",
    "        return soup.find(tag, attrs={'data-automation':attribute}).text.strip()\n",
    "    except AttributeError:\n",
    "        return None"
   ]
  },
  {
   "cell_type": "code",
   "execution_count": 19,
   "metadata": {},
   "outputs": [
    {
     "name": "stdout",
     "output_type": "stream",
     "text": [
      "page 1 jobs found 10\n",
      "No More Jobs\n"
     ]
    }
   ],
   "source": [
    "page = 1\n",
    "data = []\n",
    "while True:\n",
    "    base_url = 'https://www.jobstreet.co.id/id/'\n",
    "    url_params = '{}-jobs/in-{}' if search_position and location else '{}-jobs' if search_position else 'jobs-in-{}' if location else 'jobs'\n",
    "\n",
    "    url = base_url + url_params.format(search_position, location) + '?page={}'.format(page) if search_position or location else base_url + 'jobs?page={}'.format(page)\n",
    "\n",
    "    r = requests.get(url)\n",
    "    soup = BeautifulSoup(r.content, 'lxml')\n",
    "    job_cards = soup.find_all('article', attrs={'data-card-type': 'JobCard'})\n",
    "\n",
    "        \n",
    "    if len(job_cards) == 0:\n",
    "        print('No More Jobs')\n",
    "        break\n",
    "    print('page',page,'jobs found', len(job_cards))\n",
    "\n",
    "    for job_card in job_cards:\n",
    "    \n",
    "        job_title = find_tag_value(job_card, 'a', 'jobTitle')\n",
    "        \n",
    "        company_name = find_tag_value(job_card, 'a', 'jobCompany')\n",
    "        \n",
    "        location_city = find_tag_value(job_card, 'a', 'jobLocation')\n",
    "        \n",
    "        salary = find_tag_value(job_card, 'span', 'jobSalary')\n",
    "        if salary:\n",
    "            salary = salary.replace(u'\\xa0', u'')\n",
    "\n",
    "        job_classification = find_tag_value(job_card, 'a', 'jobClassification')\n",
    "        if job_classification:\n",
    "            job_classification = re.sub(r'[()]', '', job_classification)\n",
    "\n",
    "        job_sub_classification = find_tag_value(job_card, 'a', 'jobSubClassification')\n",
    "        \n",
    "        job_short_desc = find_tag_value(job_card, 'span', 'jobShortDescription')\n",
    "\n",
    "        posted_date = find_tag_value(job_card, 'span', 'jobListingDate')\n",
    "        \n",
    "        facility = job_card.find('ul',class_='y735df0 y735df3 _1akoxc50 _1akoxc54')\n",
    "        if facility is not None:\n",
    "            facility = facility.find_all('li')\n",
    "            facility_list = [item.text.strip() for item in facility]\n",
    "            facility_list = ', '.join(facility_list)\n",
    "        else:\n",
    "            facility_list = ''\n",
    "        \n",
    "        more_detail_link = job_card.find('a', attrs={'data-automation':'job-list-view-job-link'})\n",
    "        if more_detail_link:\n",
    "            more_detail_link = 'https://www.jobstreet.co.id'+ (more_detail_link.get('href'))\n",
    "        \n",
    "        job_id = job_card['data-job-id']\n",
    "        \n",
    "        # Getting Detail Job Page\n",
    "        driver = webdriver.Chrome()\n",
    "        job_detail_url = 'https://www.jobstreet.co.id/id/{}-jobs/in-{}?jobId={}&type=standout'.format(search_position, location, job_id)\n",
    "        driver.get(job_detail_url)\n",
    "        wait = WebDriverWait(driver, 5)\n",
    "        job_details_section = wait.until(EC.presence_of_element_located((By.CSS_SELECTOR, 'div[data-automation=\"jobDetailsPage\"]')))\n",
    "        soup_job_detail_request = BeautifulSoup(driver.page_source, 'lxml')\n",
    "\n",
    "        job_detail_page = soup_job_detail_request.find('div', attrs={'data-automation':'jobDetailsPage'})\n",
    "\n",
    "        work_type = find_tag_value(job_detail_page, 'span', 'job-detail-work-type')\n",
    "\n",
    "        job_desc = find_tag_value(job_detail_page, 'div', 'jobAdDetails')\n",
    "        \n",
    "        driver.quit()\n",
    "        \n",
    "        data.append({'Job Title':job_title, 'Company Name':company_name, 'Location':location_city, 'Salary':salary, 'Work Type':work_type,'Job Classification':job_classification, 'Job Sub Classification':job_sub_classification, 'Job Short Description':job_short_desc, 'Job Description':job_desc,'Facility':facility_list, 'Posted Date':posted_date})\n",
    "\n",
    "        \n",
    "    page += 1\n",
    "        "
   ]
  },
  {
   "cell_type": "code",
   "execution_count": 21,
   "metadata": {},
   "outputs": [],
   "source": [
    "df = pd.DataFrame(data)"
   ]
  },
  {
   "cell_type": "code",
   "execution_count": 22,
   "metadata": {},
   "outputs": [],
   "source": [
    "df.to_json('jobstreet.json', orient='records', lines=True)"
   ]
  },
  {
   "cell_type": "code",
   "execution_count": null,
   "metadata": {},
   "outputs": [],
   "source": [
    "df.to_csv('jobstreet.csv', index=False, encoding='utf-8')"
   ]
  },
  {
   "cell_type": "code",
   "execution_count": null,
   "metadata": {},
   "outputs": [],
   "source": [
    "work_types = df['Work Type'].unique()\n",
    "for work_type in work_types:\n",
    "    work_type_df = df[df['Work Type'] == work_type]\n",
    "    filename = f'{work_type.lower().replace(\" \", \"_\")}_jobs.csv'\n",
    "    work_type_df.to_csv(filename, index=False, encoding='utf-8')"
   ]
  },
  {
   "cell_type": "code",
   "execution_count": null,
   "metadata": {},
   "outputs": [],
   "source": []
  }
 ],
 "metadata": {
  "kernelspec": {
   "display_name": "Python 3",
   "language": "python",
   "name": "python3"
  },
  "language_info": {
   "codemirror_mode": {
    "name": "ipython",
    "version": 3
   },
   "file_extension": ".py",
   "mimetype": "text/x-python",
   "name": "python",
   "nbconvert_exporter": "python",
   "pygments_lexer": "ipython3",
   "version": "3.10.6"
  }
 },
 "nbformat": 4,
 "nbformat_minor": 2
}
