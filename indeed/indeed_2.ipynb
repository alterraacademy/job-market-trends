{
 "cells": [
  {
   "cell_type": "code",
   "execution_count": 5,
   "metadata": {},
   "outputs": [
    {
     "name": "stdout",
     "output_type": "stream",
     "text": [
      "No More Jobs\n"
     ]
    }
   ],
   "source": [
    "from bs4 import BeautifulSoup\n",
    "import requests\n",
    "import pandas as pd\n",
    "\n",
    "\n",
    "headers = {'User-Agent': 'Mozilla/5.0 (Windows NT 10.0; Win64; x64) AppleWebKit/537.36 (KHTML, like Gecko) Chrome/58.0.3029.110 Safari/537.3'}\n",
    "searched_position = 'back end developer'\n",
    "location = ''\n",
    "page = 0\n",
    "jobs_list = []    \n",
    "\n",
    "while True: \n",
    "    url = 'https://id.indeed.com/jobs?q={}&start={}&l={}&from=searchOnHP'.format(searched_position,page,location)\n",
    "    response = requests.get(url, headers=headers)\n",
    "    content = BeautifulSoup(response.content, 'lxml')\n",
    "\n",
    "    if len(content.select('.job_seen_beacon')) == 0:\n",
    "        print('No More Jobs')\n",
    "        break\n",
    "\n",
    "    print('page', page, 'jobs found', len(content.select('.job_seen_beacon')))\n",
    "\n",
    "    for post in content.select('.job_seen_beacon'):\n",
    "\n",
    "        data = {\n",
    "            \"job_title\": post.find('span', id=lambda x: x and x.startswith('jobTitle')).text,\n",
    "            \"company\": post.find('span', class_='css-92r8pb').text,\n",
    "            \"location\": post.find('div', class_='css-1p0sjhy').text,\n",
    "            \"posted_date\":  post.find('span', attrs={'data-testid': 'myJobsStateDate'}).text,\n",
    "            \n",
    "            # \"job_description\": post.find('div', class_='css-9446fg').text,\n",
    "            \"more_detail_link\":post.find('a',class_='jcs-JobTitle css-jspxzf eu4oa1w0').get('href'),\n",
    "            \"salary\": post.find('div',class_='css-1cvvo1b eu4oa1w0'),\n",
    "            # \"work_type\":post.find('div', class_='css-1cvvo1b eu4oa1w0'),\n",
    "            # \"job_type\": post.find('span', class_='css-12bzcbs').text,\n",
    "            \"job_key\":post.a['data-jk'],\n",
    "            \"scrapped_date\": pd.to_datetime('today').strftime('%Y-%m-%d')\n",
    "        }\n",
    "        # print(data)\n",
    "        # if data['more_detail_link'].str.contains('/rc/clk?'):\n",
    "        data['more_detail_link'] = data['more_detail_link'].replace('/rc/clk?', 'https://id.indeed.com/viewjob?')\n",
    "        detailed_url = data['more_detail_link']\n",
    "        response_detail = requests.get(detailed_url, headers=headers)\n",
    "        content = BeautifulSoup(response_detail.content, 'lxml')\n",
    "        # print(content)\n",
    "\n",
    "        data['job_description'] = content.find('div',attrs={'id':'jobDescriptionText'})\n",
    "        if data['job_description'] is None:\n",
    "            data['job_description'] = 'none'\n",
    "        else:\n",
    "            data['job_description'] = content.find('div',attrs={'id':'jobDescriptionText'}).text\n",
    "        \n",
    "        # data.append({'job_description':job_desc})\n",
    "        # print(job_desc)\n",
    "\n",
    "        jobs_list.append(data)\n",
    "        # print(data)\n",
    "    page += 10\n",
    "\n",
    "df = pd.DataFrame(jobs_list)\n",
    "# if 'rating' in df.columns:\n",
    "#     convert_columns_data_type(df, ['rating'], np.float32) # Convert rating to float\n",
    "\n",
    "# def convert_columns_data_type(df, cols, datatype):\n",
    "#     for col in cols:\n",
    "#         df[col] = df[col].astype(datatype)"
   ]
  },
  {
   "cell_type": "code",
   "execution_count": 3,
   "metadata": {},
   "outputs": [],
   "source": [
    "df.to_csv('mobdev.csv',index=False)"
   ]
  },
  {
   "cell_type": "code",
   "execution_count": null,
   "metadata": {},
   "outputs": [],
   "source": [
    "df.to_csv('2024-05-16-full_stack.csv', index=False)"
   ]
  },
  {
   "cell_type": "code",
   "execution_count": null,
   "metadata": {},
   "outputs": [],
   "source": [
    "df.to_csv('2024-05-16-mobile-dev.csv', index=False)"
   ]
  },
  {
   "cell_type": "code",
   "execution_count": null,
   "metadata": {},
   "outputs": [],
   "source": [
    "df['more_detail_link'] = df['more_detail_link'].str.replace('/rc/clk?', 'https://id.indeed.com/viewjob?')"
   ]
  },
  {
   "cell_type": "code",
   "execution_count": null,
   "metadata": {},
   "outputs": [
    {
     "name": "stdout",
     "output_type": "stream",
     "text": [
      "                              job_title                             company  \\\n",
      "0              Senior Android Developer              Avetics Global Pte Ltd   \n",
      "1              Mobile Developer Android                           NodeFlair   \n",
      "2          Mobile Application Developer                     Kompas Gramedia   \n",
      "3                      MOBILE DEVELOPER  PT. Kwadran Lima Mitra Kaya Solusi   \n",
      "4               Senior Mobile Developer                    Upscalix Pty Ltd   \n",
      "5                      Mobile Developer                    Arsoft Indonesia   \n",
      "6                      Mobile Developer              PT Indotek Buana Karya   \n",
      "7               Mobile Developer Intern                           NodeFlair   \n",
      "8                      Mobile Developer                 PT Indolima Perkasa   \n",
      "9                    Back End Developer                Brighton Real Estate   \n",
      "10               Mobile Developer (iOS)             Lippo General Insurance   \n",
      "11              Mobile Developer Intern       PT Medifa Infoyasa Suryantara   \n",
      "12                     Mobile Developer        PT Sinergy Informasi Pratama   \n",
      "13    Web Developer Freelancer (Remote)                        Ruh Training   \n",
      "14  React Native / Mobile App Developer                           NodeFlair   \n",
      "\n",
      "      location                         posted_date  \\\n",
      "0      Jakarta      EmployerAktif 3 hari yang lalu   \n",
      "1    Indonesia    PostedDiposting 5 hari yang lalu   \n",
      "2      Jakarta   PostedDiposting 22 hari yang lalu   \n",
      "3      Jakarta      EmployerAktif 4 hari yang lalu   \n",
      "4   Yogyakarta      EmployerAktif 3 hari yang lalu   \n",
      "5     Surabaya  PostedDiposting 30+ hari yang lalu   \n",
      "6      Bandung    PostedDiposting 1 hari yang lalu   \n",
      "7    Indonesia    PostedDiposting 7 hari yang lalu   \n",
      "8      Jakarta      EmployerAktif 3 hari yang lalu   \n",
      "9     Surabaya      EmployerAktif 3 hari yang lalu   \n",
      "10   Indonesia  PostedDiposting 30+ hari yang lalu   \n",
      "11     Jakarta      EmployerAktif 3 hari yang lalu   \n",
      "12     Jakarta     EmployerAktif 10 hari yang lalu   \n",
      "13      Badung   PostedDiposting 17 hari yang lalu   \n",
      "14   Indonesia    PostedDiposting 1 hari yang lalu   \n",
      "\n",
      "                                     more_detail_link  \\\n",
      "0   /pagead/clk?mo=r&ad=-6NYlbfkN0DTrJTnv-z-POE9tl...   \n",
      "1   https://id.indeed.com/viewjob?jk=50db1d401f2be...   \n",
      "2   https://id.indeed.com/viewjob?jk=6cf0bf894bbdc...   \n",
      "3   https://id.indeed.com/viewjob?jk=d523ff4a32d13...   \n",
      "4   https://id.indeed.com/viewjob?jk=1449ab3bb641e...   \n",
      "5   https://id.indeed.com/viewjob?jk=1c2725130d876...   \n",
      "6   https://id.indeed.com/viewjob?jk=c7a6fd71161b5...   \n",
      "7   https://id.indeed.com/viewjob?jk=e1f0656a6d67c...   \n",
      "8   https://id.indeed.com/viewjob?jk=9c2a05f7df912...   \n",
      "9   https://id.indeed.com/viewjob?jk=263daaba9948d...   \n",
      "10  https://id.indeed.com/viewjob?jk=c23ce51da8d29...   \n",
      "11  https://id.indeed.com/viewjob?jk=29a950882efbd...   \n",
      "12  https://id.indeed.com/viewjob?jk=e674c634e57c3...   \n",
      "13  https://id.indeed.com/viewjob?jk=09cf9c8ded867...   \n",
      "14  https://id.indeed.com/viewjob?jk=4ffccd50e2749...   \n",
      "\n",
      "                                         salary scrapped_date  rating  \n",
      "0   [Rp. 35.000.000 - Rp. 45.000.000 per bulan]    2024-05-16       0  \n",
      "1                                          None    2024-05-16       0  \n",
      "2                                          None    2024-05-16       0  \n",
      "3                     [Rp. 5.000.000 per bulan]    2024-05-16       0  \n",
      "4   [Rp. 15.000.000 - Rp. 20.000.000 per bulan]    2024-05-16       0  \n",
      "5                                          None    2024-05-16       0  \n",
      "6                                          None    2024-05-16       0  \n",
      "7                                          None    2024-05-16       0  \n",
      "8                                          None    2024-05-16       0  \n",
      "9     [Rp. 4.000.000 - Rp. 5.000.000 per bulan]    2024-05-16       0  \n",
      "10                                         None    2024-05-16       0  \n",
      "11                    [Rp. 1.500.000 per bulan]    2024-05-16       0  \n",
      "12                                         None    2024-05-16       0  \n",
      "13                                         None    2024-05-16       0  \n",
      "14                                         None    2024-05-16       0  \n"
     ]
    }
   ],
   "source": [
    "print(df)"
   ]
  },
  {
   "cell_type": "code",
   "execution_count": null,
   "metadata": {},
   "outputs": [],
   "source": [
    "df.to_csv('try2.csv')"
   ]
  },
  {
   "cell_type": "code",
   "execution_count": null,
   "metadata": {},
   "outputs": [
    {
     "name": "stdout",
     "output_type": "stream",
     "text": [
      "0     /pagead/clk?mo=r&ad=-6NYlbfkN0DTrJTnv-z-POE9tl...\n",
      "1     https://id.indeed.com/viewjob?jk=50db1d401f2be...\n",
      "2     https://id.indeed.com/viewjob?jk=6cf0bf894bbdc...\n",
      "3     https://id.indeed.com/viewjob?jk=d523ff4a32d13...\n",
      "4     https://id.indeed.com/viewjob?jk=1449ab3bb641e...\n",
      "5     https://id.indeed.com/viewjob?jk=1c2725130d876...\n",
      "6     https://id.indeed.com/viewjob?jk=c7a6fd71161b5...\n",
      "7     https://id.indeed.com/viewjob?jk=e1f0656a6d67c...\n",
      "8     https://id.indeed.com/viewjob?jk=9c2a05f7df912...\n",
      "9     https://id.indeed.com/viewjob?jk=263daaba9948d...\n",
      "10    https://id.indeed.com/viewjob?jk=c23ce51da8d29...\n",
      "11    https://id.indeed.com/viewjob?jk=29a950882efbd...\n",
      "12    https://id.indeed.com/viewjob?jk=e674c634e57c3...\n",
      "13    https://id.indeed.com/viewjob?jk=09cf9c8ded867...\n",
      "14    https://id.indeed.com/viewjob?jk=4ffccd50e2749...\n",
      "Name: more_detail_link, dtype: object\n"
     ]
    }
   ],
   "source": [
    "print(df['more_detail_link'])"
   ]
  },
  {
   "cell_type": "code",
   "execution_count": null,
   "metadata": {},
   "outputs": [],
   "source": [
    "https://id.indeed.com/viewjob?jk=50db1d401f2be7fc&bb=5RgAAOtwo-vqWDlHu0f_op1mCnKcQQgSLtO2tQr_h06Xb8CUR8EYrDFavdB9skz-Yqil-TPtPiM_6BzQIoFGbBpl_b_RbtF-Kk862tLykGvWJLkazyZplWsaEWK1PeII&xkcb=SoBY67M3B_jTA0gLFr0KbzkdCdPP&fccid=10edafefe2e971da&vjs=3"
   ]
  },
  {
   "cell_type": "code",
   "execution_count": null,
   "metadata": {},
   "outputs": [],
   "source": [
    "https://id.indeed.com/viewjob?jk=50db1d401f2be7fc&bb=5RgAAOtwo-vqWDlHu0f_op1mCnKcQQgSLtO2tQr_h06Xb8CUR8EYrDFavdB9skz-Yqil-TPtPiM_6BzQIoFGbBpl_b_RbtF-Kk862tLykGvWJLkazyZplWsaEWK1PeII&xkcb=SoBY67M3B_jTA0gLFr0KbzkdCdPP&fccid=10edafefe2e971da&vjs=3"
   ]
  },
  {
   "cell_type": "code",
   "execution_count": null,
   "metadata": {},
   "outputs": [],
   "source": [
    "https://id.indeed.com/viewjob?mo=r&ad=-6NYlbfkN0DTrJTnv-z-POE9tlAdWGSSBAW0Rm-6sLtJzVQ0Q2XOByOvFz6LELVvaz9lFduK_Py9I9KtGpjJFbGMNojXp_uZP_kaiIjX-INMLgdIAnT4xkkoxhU_Jfl6iH0zMW9feWlbwLOJyKnLhflNOwSYI-VxFrgY-9S-L3m786k8lZW6IJlctT8PyZpriOc1dUR0ph0dO-97ooxSYEaXPw0Rq0yTZsXN7A8ltNJYYGsBgH7-i5rYoiK8GOlXwiB7vaNZKsw3Q3xxuvvdgxn6WHZgQLuYkYOtfv-WaWhgq9BC-6p4V7PN8SB4eEQuhRIol-nrYNnOAD7F3B42kfYs3LuvgbdRu_XL2AHSo0mGW1wBa-pjnpXFhNlnYZW2vz2CYOFLQvV7rzSRWJZJdtHuQ4DqZw0K5fWkH_QlwuxewZkw2sG4ah9jzJ2jHA3HVU6Uwf26NMoy_SDe795F__D7-4I4UEeBWaa3yMyc5wwtpNkGdTL5bpXwP3-f3S0o7SfXwQzTuu2ej3zuXTewI7w6xVp2mIGUXLiAXhaLQVNTPdEXI3USwGvewXyGmEjKVNHMkcjkmt2Kb_MX5ZTnU6oAWEKhpcXkJyDVAR5GQ9U=&xkcb=SoAY6_M3B_jTA0gLFr0LbzkdCdPP&camk=nUmJqO2E8rgRTS-vQJoo6A==&p=0&fvj=1&vjs=3"
   ]
  }
 ],
 "metadata": {
  "kernelspec": {
   "display_name": "Python 3",
   "language": "python",
   "name": "python3"
  },
  "language_info": {
   "codemirror_mode": {
    "name": "ipython",
    "version": 3
   },
   "file_extension": ".py",
   "mimetype": "text/x-python",
   "name": "python",
   "nbconvert_exporter": "python",
   "pygments_lexer": "ipython3",
   "version": "3.10.6"
  }
 },
 "nbformat": 4,
 "nbformat_minor": 2
}
