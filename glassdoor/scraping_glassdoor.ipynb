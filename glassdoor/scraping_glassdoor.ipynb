{
 "cells": [
  {
   "cell_type": "code",
   "execution_count": 1,
   "metadata": {},
   "outputs": [],
   "source": [
    "from bs4 import BeautifulSoup\n",
    "import requests\n",
    "import pandas as pd\n",
    "import datetime"
   ]
  },
  {
   "cell_type": "code",
   "execution_count": 3,
   "metadata": {},
   "outputs": [
    {
     "name": "stdout",
     "output_type": "stream",
     "text": [
      "https://www.glassdoor.com/Job/indonesia-frontend-jobs-SRCH_IL.0,9_IN113_KO10,18.htm\n",
      "https://www.glassdoor.com/Job/jobs-SRCH_KO0,18.htm?sc.keyword=frontend\n"
     ]
    }
   ],
   "source": [
    "def create_glassdoor_url(search_term, location=None):\n",
    "    search_term_encoded = search_term.replace(' ', '-')\n",
    "    if location:\n",
    "        location_encoded = location.replace(' ', '-')\n",
    "        start_position = len(location) + 1  # Start after the location and the dash\n",
    "        end_position = start_position + len(search_term)\n",
    "        url = f'https://www.glassdoor.com/Job/{location_encoded}-{search_term_encoded}-jobs-SRCH_IL.0,{len(location)}_IN113_KO{start_position},{end_position}.htm'\n",
    "    else:\n",
    "        # For cases without a location, we simplify the URL\n",
    "        end_position = 10 + len(search_term)  # Adjusting start position as per Glassdoor's URL pattern without location\n",
    "        url = f'https://www.glassdoor.com/Job/jobs-SRCH_KO0,{end_position}.htm?sc.keyword={search_term_encoded}'\n",
    "\n",
    "    return url\n",
    "\n",
    "# Example usage with location\n",
    "search_url_with_location = create_glassdoor_url('frontend', 'indonesia')\n",
    "print(search_url_with_location)\n"
   ]
  },
  {
   "cell_type": "code",
   "execution_count": 4,
   "metadata": {},
   "outputs": [],
   "source": [
    "# Initialization\n",
    "data = []\n",
    "page = 1\n",
    "\n",
    "# Scraping\n",
    "url = search_url_with_location\n",
    "headers = {'User-Agent': 'Mozilla/5.0 (Windows NT 10.0; Win64; x64) AppleWebKit/537.36 (KHTML, like Gecko) Chrome/58.0.3029.110 Safari/537.3'}\n",
    "response = requests.get(url, headers=headers)\n",
    "\n",
    "soup = BeautifulSoup(response.content, 'html.parser')\n",
    "\n",
    "# job_cards = soup.find('div', class_='JobsList_wrapper__EyUF6')\n",
    "list_jobs = soup.find_all('li', class_='JobsList_jobListItem__wjTHv')\n",
    "\n",
    "\n",
    "for job_card in list_jobs:\n",
    "    if job_card == 'JobsList_jobListItem__wjTHv JobsList_noop___gffo':\n",
    "        button = soup.find('a',class_='JobsList_button__jb2wc')\n",
    "        url = button.get('href')\n",
    "        print(url)\n",
    "#         if job_card =='JobsList_jobListItem__wjTHv':\n",
    "#             button = job_card.find('a', class_='JobsList_button__jb2wc')\n",
    "#             if button:\n",
    "#                 url = button.get('href')\n",
    "#             else:\n",
    "#                 print('No More Jobs')\n",
    "#                 break\n",
    "#                 # click the button url\n",
    "            \n",
    "            \n",
    "#     # left side\n",
    "#         job_title = job_card.find('a', class_='JobCard_jobTitle___7I6y').text\n",
    "#         company_name = job_card.find('span', class_='EmployerProfile_compactEmployerName__LE242').text\n",
    "#         location = job_card.find('div', class_='JobCard_location__rCz3x').text\n",
    "#         description = job_card.find('div', class_='JobCard_jobDescriptionSnippet__yWW8q').text\n",
    "#         # rating = job_card.find('div', class_='EmployerProfile_ratingContainer__ul0Ef').text\n",
    "#         scrapped_date = pd.Timestamp.now().strftime('%Y-%m-%d')\n",
    "\n",
    "\n",
    "#     # print(job_title,company_name,location,description,rating)\n",
    "\n",
    "#     data.append({\n",
    "#             'job_title': job_title,\n",
    "#             'company_name': company_name,\n",
    "#             'job_location': location,\n",
    "#             # 'work_place': work_place,\n",
    "#             # 'salary_range': salary_range,\n",
    "#             # 'skill': skill,\n",
    "#             # 'more_detail_link': more_detail_link,\n",
    "#             # 'job_id': job_id,\n",
    "#             # 'work_type': work_type,\n",
    "#             # 'workplace': work_place,\n",
    "#             # 'years_experience': years_experience,\n",
    "#             # 'min_education': min_education,\n",
    "#             # 'category': category,\n",
    "#             # 'sub_category': sub_category,\n",
    "#             # 'role': role,\n",
    "#             # 'rating_job': rating,\n",
    "#             'job_short_description': description,\n",
    "#             'scrapped_date': scrapped_date,\n",
    "#         })\n",
    "# df = pd.DataFrame(data)\n"
   ]
  },
  {
   "cell_type": "code",
   "execution_count": null,
   "metadata": {},
   "outputs": [],
   "source": [
    "count = 0\n",
    "for i in list_jobs:\n",
    "    count += 1\n",
    "    job_title = i.find('a', class_='JobCard_jobTitle___7I6y').text\n",
    "    print(count,job_title)"
   ]
  },
  {
   "cell_type": "code",
   "execution_count": null,
   "metadata": {},
   "outputs": [],
   "source": [
    "# right side\n",
    "job_card = soup.find('div', class_='JobDetails_jobDetailsContainer__y9P3L')\n",
    "\n",
    "job_title = job_card.find('h1','heading_Heading__BqX5J heading_Level1__soLZs').text\n",
    "company_name = job_card.find('h4','heading_Heading__BqX5J heading_Subhead__Ip1aW').text\n",
    "location = job_card.find('div','JobDetails_location__mSg5h').text  \n",
    "rating = job_card.find('div','EmployerProfile_ratingContainer__ul0Ef').text\n",
    "\n",
    "print(job_title,company_name,location,rating)\n",
    "\n"
   ]
  },
  {
   "cell_type": "code",
   "execution_count": 14,
   "metadata": {},
   "outputs": [],
   "source": [
    "job_card"
   ]
  },
  {
   "cell_type": "code",
   "execution_count": null,
   "metadata": {},
   "outputs": [],
   "source": [
    "driver = webdriver.Edge()\n",
    "# driver.get('https://www.glassdoor.com')\n",
    "driver.get(\"https://www.bing.com\")\n",
    "\n",
    "results = driver.find_elements(By.XPATH, \"//*[@id='b_tween']/span\") \n",
    "\n",
    "try:\n",
    "    search_box = driver.find_element(By.NAME, \"q\")\n",
    "    search_box.clear()\n",
    "    search_box.send_keys(\"John Doe\") # enter your name in the search box\n",
    "    search_box.submit() # submit the search\n",
    "    results = driver.find_elements(By.XPATH, \"//*[@id='b_tween']/span\")\n",
    "    for result in results:\n",
    "        text = result.text.split()[1] # extract the number of results\n",
    "        print(text)\n",
    "        # save it to a file\n",
    "        with open(\"results.txt\", \"w\") as f:\n",
    "            f.write(text)\n",
    "except Exception as e:\n",
    "    print(f\"An error occurred: {e}\")"
   ]
  },
  {
   "cell_type": "code",
   "execution_count": 1,
   "metadata": {},
   "outputs": [
    {
     "name": "stdout",
     "output_type": "stream",
     "text": [
      "An error occurred: Message: no such element: Unable to locate element: {\"method\":\"xpath\",\"selector\":\"//*[@id=\"jd-job-title-1009258531214\"]\"}\n",
      "  (Session info: chrome=124.0.6367.118); For documentation on this error, please visit: https://www.selenium.dev/documentation/webdriver/troubleshooting/errors#no-such-element-exception\n",
      "Stacktrace:\n",
      "\tGetHandleVerifier [0x00007FF638491502+60802]\n",
      "\t(No symbol) [0x00007FF63840AC02]\n",
      "\t(No symbol) [0x00007FF6382C7CE4]\n",
      "\t(No symbol) [0x00007FF638316D4D]\n",
      "\t(No symbol) [0x00007FF638316E1C]\n",
      "\t(No symbol) [0x00007FF63835CE37]\n",
      "\t(No symbol) [0x00007FF63833ABBF]\n",
      "\t(No symbol) [0x00007FF63835A224]\n",
      "\t(No symbol) [0x00007FF63833A923]\n",
      "\t(No symbol) [0x00007FF638308FEC]\n",
      "\t(No symbol) [0x00007FF638309C21]\n",
      "\tGetHandleVerifier [0x00007FF63879411D+3217821]\n",
      "\tGetHandleVerifier [0x00007FF6387D60B7+3488055]\n",
      "\tGetHandleVerifier [0x00007FF6387CF03F+3459263]\n",
      "\tGetHandleVerifier [0x00007FF63854B846+823494]\n",
      "\t(No symbol) [0x00007FF638415F9F]\n",
      "\t(No symbol) [0x00007FF638410EC4]\n",
      "\t(No symbol) [0x00007FF638411052]\n",
      "\t(No symbol) [0x00007FF6384018A4]\n",
      "\tBaseThreadInitThunk [0x00007FFF5CFD257D+29]\n",
      "\tRtlUserThreadStart [0x00007FFF5E2EAA48+40]\n",
      "\n"
     ]
    }
   ],
   "source": [
    "from selenium import webdriver\n",
    "from selenium.webdriver.common.keys import Keys\n",
    "from selenium.webdriver.common.by import By\n",
    "import time\n",
    "\n",
    "searched_position = input('Enter search position here: ')\n",
    "\n",
    "driver = webdriver.Chrome()\n",
    "driver.get('https://www.glassdoor.com/Job/')\n",
    "\n",
    "\n",
    "try:\n",
    "    search_box = driver.find_element(By.ID, \"searchBar-jobTitle\")\n",
    "    search_box.clear()\n",
    "    search_box.send_keys(searched_position) \n",
    "    search_box.submit() \n",
    "    \n",
    "    # driver.implicitly_wait(10)\n",
    "    # job_list_items = driver.find_elements(By.CLASS_NAME, \"JobsList_jobListItem__wjTHv\")\n",
    "\n",
    "    \n",
    "    \n",
    "    # for job_item in job_list_items:\n",
    "    #     if job_item == 'JobsList_jobListItem__wjTHv JobsList_noop___gffo':\n",
    "    #         break\n",
    "    #     for i in range(pages):\n",
    "    #         driver.execute_script(\"window.scrollTo(0, document.body.scrollHeight);\")\n",
    "    #         time.sleep(page_delay)\n",
    "    #         print(f\"Page {i+1} of {pages} loaded\")\n",
    "\n",
    "    job_cards = driver.find_elements(By.CLASS_NAME,\"JobsList_jobListItem__wjTHv\")\n",
    "    for job_card in job_cards:\n",
    "        job_card.click()\n",
    "        time.sleep(5)\n",
    "\n",
    "        job_details = driver.find_element(By.CLASS_NAME,\"JobDetails_jobDetailsContainer__y9P3L\")\n",
    "        job_title = driver.find_element(By.XPATH,'//*[@id=\"jd-job-title-1009258531214\"]').text\n",
    "        location = driver.find_element(By.XPATH,'//*[@id=\"app-navigation\"]/div[3]/div[2]/div[2]/div/div[1]/header/div[1]/div[2]').text\n",
    "        company_name = driver.find_element(By.XPATH,'//*[@id=\"0\"]/div/h4').text\n",
    "        \n",
    "\n",
    "        print(job_title,company_name,location)\n",
    "        \n",
    "\n",
    "        # job_title = driver.find_element(By.CLASS_NAME,'//*[@h1=\"heading_Heading__BqX5J heading_Level1__soLZs\"]')\n",
    "        # print(job_title)\n",
    "        # # Close the opened list item (if necessary)\n",
    "        # close_button = driver.find_element(By.CSS_SELECTOR, \".JobCard_closeButtonContainer__XqFDd button\")\n",
    "        # close_button.click()\n",
    "    \n",
    "    # results = driver.find_elements(By.XPATH, \"//*[@id='b_tween']/span\")\n",
    "    # for result in results:\n",
    "    #     text = result.text.split()[1] # extract the number of results\n",
    "    #     print(text)\n",
    "    #     # save it to a file\n",
    "    #     with open(\"results.txt\", \"w\") as f:\n",
    "    #         f.write(text)\n",
    "except Exception as e:\n",
    "    print(f\"An error occurred: {e}\")\n",
    "    driver.quit()"
   ]
  },
  {
   "cell_type": "code",
   "execution_count": 9,
   "metadata": {},
   "outputs": [
    {
     "data": {
      "text/plain": [
       "<selenium.webdriver.remote.webelement.WebElement (session=\"7730ffd8fe2c6446da62a585488ac044\", element=\"f.67B0DFC0E3E765B52C5A530BF9929A45.d.1C9DBD0D114D09F16E2F1237E8B5E003.e.302\")>"
      ]
     },
     "execution_count": 9,
     "metadata": {},
     "output_type": "execute_result"
    }
   ],
   "source": [
    "job_details"
   ]
  }
 ],
 "metadata": {
  "kernelspec": {
   "display_name": "Python 3",
   "language": "python",
   "name": "python3"
  },
  "language_info": {
   "codemirror_mode": {
    "name": "ipython",
    "version": 3
   },
   "file_extension": ".py",
   "mimetype": "text/x-python",
   "name": "python",
   "nbconvert_exporter": "python",
   "pygments_lexer": "ipython3",
   "version": "3.10.6"
  }
 },
 "nbformat": 4,
 "nbformat_minor": 2
}
