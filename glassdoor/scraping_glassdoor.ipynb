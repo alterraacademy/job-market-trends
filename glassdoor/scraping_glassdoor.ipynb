{
 "cells": [
  {
   "cell_type": "code",
   "execution_count": 27,
   "metadata": {},
   "outputs": [],
   "source": [
    "from bs4 import BeautifulSoup\n",
    "import requests\n",
    "import pandas as pd\n",
    "import datetime"
   ]
  },
  {
   "cell_type": "code",
   "execution_count": 48,
   "metadata": {},
   "outputs": [],
   "source": [
    "# Initialization\n",
    "data = []\n",
    "page = 1\n",
    "\n",
    "# Scraping\n",
    "url = 'https://www.glassdoor.com/Job/indonesia-data-scientist-jobs-SRCH_IL.0,9_IN113_KO10,24.htm?locId=113&locT=N&sc.keyword=data%2520scientist'\n",
    "headers = {'User-Agent': 'Mozilla/5.0 (Windows NT 10.0; Win64; x64) AppleWebKit/537.36 (KHTML, like Gecko) Chrome/58.0.3029.110 Safari/537.3'}\n",
    "response = requests.get(url, headers=headers)\n",
    "\n",
    "soup = BeautifulSoup(response.content, 'html.parser')\n",
    "\n",
    "# job_cards = soup.find('div', class_='JobsList_wrapper__EyUF6')\n",
    "list_jobs = soup.find_all('li', class_='JobsList_jobListItem__wjTHv')\n",
    "\n",
    "\n",
    "#     for job_card in list_jobs:\n",
    "#         if job_card =='JobsList_jobListItem__wjTHv':\n",
    "#             button = job_card.find('a', class_='JobsList_button__jb2wc')\n",
    "#             if button:\n",
    "#                 url = button.get('href')\n",
    "#             else:\n",
    "#                 print('No More Jobs')\n",
    "#                 break\n",
    "#                 # click the button url\n",
    "            \n",
    "            \n",
    "#     # left side\n",
    "#         job_title = job_card.find('a', class_='JobCard_jobTitle___7I6y').text\n",
    "#         company_name = job_card.find('span', class_='EmployerProfile_compactEmployerName__LE242').text\n",
    "#         location = job_card.find('div', class_='JobCard_location__rCz3x').text\n",
    "#         description = job_card.find('div', class_='JobCard_jobDescriptionSnippet__yWW8q').text\n",
    "#         # rating = job_card.find('div', class_='EmployerProfile_ratingContainer__ul0Ef').text\n",
    "#         scrapped_date = pd.Timestamp.now().strftime('%Y-%m-%d')\n",
    "\n",
    "\n",
    "#     # print(job_title,company_name,location,description,rating)\n",
    "\n",
    "#     data.append({\n",
    "#             'job_title': job_title,\n",
    "#             'company_name': company_name,\n",
    "#             'job_location': location,\n",
    "#             # 'work_place': work_place,\n",
    "#             # 'salary_range': salary_range,\n",
    "#             # 'skill': skill,\n",
    "#             # 'more_detail_link': more_detail_link,\n",
    "#             # 'job_id': job_id,\n",
    "#             # 'work_type': work_type,\n",
    "#             # 'workplace': work_place,\n",
    "#             # 'years_experience': years_experience,\n",
    "#             # 'min_education': min_education,\n",
    "#             # 'category': category,\n",
    "#             # 'sub_category': sub_category,\n",
    "#             # 'role': role,\n",
    "#             # 'rating_job': rating,\n",
    "#             'job_short_description': description,\n",
    "#             'scrapped_date': scrapped_date,\n",
    "#         })\n",
    "# df = pd.DataFrame(data)\n"
   ]
  },
  {
   "cell_type": "code",
   "execution_count": 49,
   "metadata": {},
   "outputs": [
    {
     "data": {
      "text/plain": [
       "[]"
      ]
     },
     "execution_count": 49,
     "metadata": {},
     "output_type": "execute_result"
    }
   ],
   "source": [
    "list_jobs\n"
   ]
  },
  {
   "cell_type": "code",
   "execution_count": 42,
   "metadata": {},
   "outputs": [
    {
     "name": "stdout",
     "output_type": "stream",
     "text": [
      "1 Data Scientist (Geographic)\n",
      "2 Data Scientist\n",
      "3 Python Data Scientist/Analyst\n",
      "4 Data Scientist\n",
      "5 Junior Data Scientist\n",
      "6 Data scientist\n",
      "7 Data Scientist Associate\n",
      "8 AI Data Scientist\n",
      "9 Data Scientist\n",
      "10 Data Scientist\n",
      "11 Data Scientist\n",
      "12 Risk Data Scientist\n",
      "13 Data Scientist\n",
      "14 Data Scientist\n",
      "15 Senior Data Scientist\n",
      "16 Jr Data Scientist\n",
      "17 Data Scientist\n",
      "18 Data Scientist\n",
      "19 Data Scientist - Risk Platform\n",
      "20 Data Scientist, Business Intelligence\n",
      "21 Data Scientist\n",
      "22 Middle Data Scientist\n",
      "23 Lead Data Scientist\n",
      "24 Data Scientist KG Media\n",
      "25 Sr Data Scientist\n",
      "26 Senior Data Scientist\n",
      "27 Sr. Data Scientist\n",
      "28 Data Engineer\n",
      "29 Data Scientist\n",
      "30 Junior Data Operations Executive\n"
     ]
    },
    {
     "ename": "AttributeError",
     "evalue": "'NoneType' object has no attribute 'text'",
     "output_type": "error",
     "traceback": [
      "\u001b[1;31m---------------------------------------------------------------------------\u001b[0m",
      "\u001b[1;31mAttributeError\u001b[0m                            Traceback (most recent call last)",
      "Cell \u001b[1;32mIn[42], line 4\u001b[0m\n\u001b[0;32m      2\u001b[0m \u001b[38;5;28;01mfor\u001b[39;00m i \u001b[38;5;129;01min\u001b[39;00m list_jobs:\n\u001b[0;32m      3\u001b[0m     count \u001b[38;5;241m+\u001b[39m\u001b[38;5;241m=\u001b[39m \u001b[38;5;241m1\u001b[39m\n\u001b[1;32m----> 4\u001b[0m     job_title \u001b[38;5;241m=\u001b[39m \u001b[43mi\u001b[49m\u001b[38;5;241;43m.\u001b[39;49m\u001b[43mfind\u001b[49m\u001b[43m(\u001b[49m\u001b[38;5;124;43m'\u001b[39;49m\u001b[38;5;124;43ma\u001b[39;49m\u001b[38;5;124;43m'\u001b[39;49m\u001b[43m,\u001b[49m\u001b[43m \u001b[49m\u001b[43mclass_\u001b[49m\u001b[38;5;241;43m=\u001b[39;49m\u001b[38;5;124;43m'\u001b[39;49m\u001b[38;5;124;43mJobCard_jobTitle___7I6y\u001b[39;49m\u001b[38;5;124;43m'\u001b[39;49m\u001b[43m)\u001b[49m\u001b[38;5;241;43m.\u001b[39;49m\u001b[43mtext\u001b[49m\n\u001b[0;32m      5\u001b[0m     \u001b[38;5;28mprint\u001b[39m(count,job_title)\n",
      "\u001b[1;31mAttributeError\u001b[0m: 'NoneType' object has no attribute 'text'"
     ]
    }
   ],
   "source": [
    "count = 0\n",
    "for i in list_jobs:\n",
    "    count += 1\n",
    "    job_title = i.find('a', class_='JobCard_jobTitle___7I6y').text\n",
    "    print(count,job_title)\n",
    "    \n",
    "    "
   ]
  },
  {
   "cell_type": "code",
   "execution_count": 35,
   "metadata": {},
   "outputs": [
    {
     "ename": "AttributeError",
     "evalue": "'NoneType' object has no attribute 'text'",
     "output_type": "error",
     "traceback": [
      "\u001b[1;31m---------------------------------------------------------------------------\u001b[0m",
      "\u001b[1;31mAttributeError\u001b[0m                            Traceback (most recent call last)",
      "Cell \u001b[1;32mIn[35], line 7\u001b[0m\n\u001b[0;32m      5\u001b[0m company_name \u001b[38;5;241m=\u001b[39m job_card\u001b[38;5;241m.\u001b[39mfind(\u001b[38;5;124m'\u001b[39m\u001b[38;5;124mh4\u001b[39m\u001b[38;5;124m'\u001b[39m,\u001b[38;5;124m'\u001b[39m\u001b[38;5;124mheading_Heading__BqX5J heading_Subhead__Ip1aW\u001b[39m\u001b[38;5;124m'\u001b[39m)\u001b[38;5;241m.\u001b[39mtext\n\u001b[0;32m      6\u001b[0m location \u001b[38;5;241m=\u001b[39m job_card\u001b[38;5;241m.\u001b[39mfind(\u001b[38;5;124m'\u001b[39m\u001b[38;5;124mdiv\u001b[39m\u001b[38;5;124m'\u001b[39m,\u001b[38;5;124m'\u001b[39m\u001b[38;5;124mJobDetails_location__mSg5h\u001b[39m\u001b[38;5;124m'\u001b[39m)\u001b[38;5;241m.\u001b[39mtext  \n\u001b[1;32m----> 7\u001b[0m rating \u001b[38;5;241m=\u001b[39m \u001b[43mjob_card\u001b[49m\u001b[38;5;241;43m.\u001b[39;49m\u001b[43mfind\u001b[49m\u001b[43m(\u001b[49m\u001b[38;5;124;43m'\u001b[39;49m\u001b[38;5;124;43mdiv\u001b[39;49m\u001b[38;5;124;43m'\u001b[39;49m\u001b[43m,\u001b[49m\u001b[38;5;124;43m'\u001b[39;49m\u001b[38;5;124;43mEmployerProfile_ratingContainer__ul0Ef\u001b[39;49m\u001b[38;5;124;43m'\u001b[39;49m\u001b[43m)\u001b[49m\u001b[38;5;241;43m.\u001b[39;49m\u001b[43mtext\u001b[49m\n\u001b[0;32m      9\u001b[0m \u001b[38;5;28mprint\u001b[39m(job_title,company_name,location,rating)\n",
      "\u001b[1;31mAttributeError\u001b[0m: 'NoneType' object has no attribute 'text'"
     ]
    }
   ],
   "source": [
    "# right side\n",
    "job_card = soup.find('div', class_='JobDetails_jobDetailsContainer__y9P3L')\n",
    "\n",
    "job_title = job_card.find('h1','heading_Heading__BqX5J heading_Level1__soLZs').text\n",
    "company_name = job_card.find('h4','heading_Heading__BqX5J heading_Subhead__Ip1aW').text\n",
    "location = job_card.find('div','JobDetails_location__mSg5h').text  \n",
    "rating = job_card.find('div','EmployerProfile_ratingContainer__ul0Ef').text\n",
    "\n",
    "print(job_title,company_name,location,rating)\n",
    "\n"
   ]
  },
  {
   "cell_type": "code",
   "execution_count": 14,
   "metadata": {},
   "outputs": [],
   "source": [
    "job_card"
   ]
  }
 ],
 "metadata": {
  "kernelspec": {
   "display_name": "Python 3",
   "language": "python",
   "name": "python3"
  },
  "language_info": {
   "codemirror_mode": {
    "name": "ipython",
    "version": 3
   },
   "file_extension": ".py",
   "mimetype": "text/x-python",
   "name": "python",
   "nbconvert_exporter": "python",
   "pygments_lexer": "ipython3",
   "version": "3.10.6"
  }
 },
 "nbformat": 4,
 "nbformat_minor": 2
}
