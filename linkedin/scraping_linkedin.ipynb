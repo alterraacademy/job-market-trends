{
 "cells": [
  {
   "cell_type": "code",
   "execution_count": 5,
   "metadata": {},
   "outputs": [],
   "source": [
    "from bs4 import BeautifulSoup\n",
    "import requests\n",
    "import pandas as pd\n",
    "import time"
   ]
  },
  {
   "cell_type": "code",
   "execution_count": 6,
   "metadata": {},
   "outputs": [],
   "source": [
    "data = []\n",
    "\n",
    "# Scraping\n",
    "url = 'https://www.linkedin.com/jobs/search/?currentJobId=3856250966&f_I=96%2C4%2C6&origin=JOB_SEARCH_PAGE_JOB_FILTER&refresh=true&sortBy=R&start=25'\n",
    "headers = {'User-Agent': 'Mozilla/5.0 (Windows NT 10.0; Win64; x64) AppleWebKit/537.36 (KHTML, like Gecko) Chrome/58.0.3029.110 Safari/537.3'}\n",
    "response = requests.get(url, headers=headers)\n",
    "soup = BeautifulSoup(response.content, 'html.parser')\n",
    "\n",
    "wrapper = soup.find(class_='jobs-search-results__list')\n",
    "list_jobs = soup.find('li',class_='ember-view   jobs-search-results__list-item occludable-update p0 relative scaffold-layout__list-item')\n",
    "\n",
    "time.sleep(10)\n",
    "\n"
   ]
  },
  {
   "cell_type": "code",
   "execution_count": 22,
   "metadata": {},
   "outputs": [],
   "source": [
    "from selenium import webdriver\n",
    "from bs4 import BeautifulSoup\n",
    "import time\n",
    "\n",
    "# Setup Selenium WebDriver\n",
    "# driver = webdriver.Chrome()  # Update the path to your ChromeDriver\n",
    "url = 'https://www.linkedin.com/jobs/search/?currentJobId=3856250966&f_I=96%2C4%2C6&origin=JOB_SEARCH_PAGE_JOB_FILTER&refresh=true&sortBy=R&start=25'\n",
    "response = requests.get(url)\n",
    "\n",
    "# Wait for dynamic content to load\n",
    "time.sleep(10)  # Adjust time as necessary\n",
    "\n",
    "# Get the page source and parse it with BeautifulSoup\n",
    "soup = BeautifulSoup(response.content, 'html.parser')\n",
    "wrapper = soup.find('div',class_='scaffold-layout__list-detail-inner scaffold-layout__list-detail-inner--grow')\n",
    "\n",
    "# list_jobs = wrapper.find_all('li',class_='jobs-search-results__list-item')\n",
    "\n",
    "wrapper\n",
    "\n"
   ]
  },
  {
   "cell_type": "code",
   "execution_count": 23,
   "metadata": {},
   "outputs": [
    {
     "name": "stdout",
     "output_type": "stream",
     "text": [
      "None\n"
     ]
    }
   ],
   "source": [
    "print(wrapper)"
   ]
  }
 ],
 "metadata": {
  "kernelspec": {
   "display_name": "Python 3",
   "language": "python",
   "name": "python3"
  },
  "language_info": {
   "codemirror_mode": {
    "name": "ipython",
    "version": 3
   },
   "file_extension": ".py",
   "mimetype": "text/x-python",
   "name": "python",
   "nbconvert_exporter": "python",
   "pygments_lexer": "ipython3",
   "version": "3.10.6"
  }
 },
 "nbformat": 4,
 "nbformat_minor": 2
}
