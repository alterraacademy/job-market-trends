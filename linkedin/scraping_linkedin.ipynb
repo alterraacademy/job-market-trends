{
 "cells": [
  {
   "cell_type": "code",
   "execution_count": 2,
   "metadata": {},
   "outputs": [],
   "source": [
    "from bs4 import BeautifulSoup\n",
    "import requests\n",
    "import pandas as pd\n",
    "import time"
   ]
  },
  {
   "cell_type": "code",
   "execution_count": 6,
   "metadata": {},
   "outputs": [],
   "source": [
    "data = []\n",
    "\n",
    "# Scraping\n",
    "url = 'https://www.linkedin.com/jobs/search/?currentJobId=3856250966&f_I=96%2C4%2C6&origin=JOB_SEARCH_PAGE_JOB_FILTER&refresh=true&sortBy=R&start=25'\n",
    "headers = {'User-Agent': 'Mozilla/5.0 (Windows NT 10.0; Win64; x64) AppleWebKit/537.36 (KHTML, like Gecko) Chrome/58.0.3029.110 Safari/537.3'}\n",
    "response = requests.get(url, headers=headers)\n",
    "soup = BeautifulSoup(response.content, 'html.parser')\n",
    "\n",
    "wrapper = soup.find(class_='jobs-search-results__list')\n",
    "list_jobs = soup.find('li',class_='ember-view   jobs-search-results__list-item occludable-update p0 relative scaffold-layout__list-item')\n",
    "\n",
    "time.sleep(10)\n",
    "\n"
   ]
  },
  {
   "cell_type": "code",
   "execution_count": 1,
   "metadata": {},
   "outputs": [
    {
     "ename": "NameError",
     "evalue": "name 'requests' is not defined",
     "output_type": "error",
     "traceback": [
      "\u001b[1;31m---------------------------------------------------------------------------\u001b[0m",
      "\u001b[1;31mNameError\u001b[0m                                 Traceback (most recent call last)",
      "Cell \u001b[1;32mIn[1], line 8\u001b[0m\n\u001b[0;32m      5\u001b[0m \u001b[38;5;66;03m# Setup Selenium WebDriver\u001b[39;00m\n\u001b[0;32m      6\u001b[0m \u001b[38;5;66;03m# driver = webdriver.Chrome()  # Update the path to your ChromeDriver\u001b[39;00m\n\u001b[0;32m      7\u001b[0m url \u001b[38;5;241m=\u001b[39m \u001b[38;5;124m'\u001b[39m\u001b[38;5;124mhttps://www.linkedin.com/jobs/search/?currentJobId=3856250966&f_I=96\u001b[39m\u001b[38;5;124m%\u001b[39m\u001b[38;5;124m2C4\u001b[39m\u001b[38;5;124m%\u001b[39m\u001b[38;5;124m2C6&origin=JOB_SEARCH_PAGE_JOB_FILTER&refresh=true&sortBy=R&start=25\u001b[39m\u001b[38;5;124m'\u001b[39m\n\u001b[1;32m----> 8\u001b[0m response \u001b[38;5;241m=\u001b[39m \u001b[43mrequests\u001b[49m\u001b[38;5;241m.\u001b[39mget(url)\n\u001b[0;32m     10\u001b[0m \u001b[38;5;66;03m# Wait for dynamic content to load\u001b[39;00m\n\u001b[0;32m     11\u001b[0m time\u001b[38;5;241m.\u001b[39msleep(\u001b[38;5;241m10\u001b[39m)  \u001b[38;5;66;03m# Adjust time as necessary\u001b[39;00m\n",
      "\u001b[1;31mNameError\u001b[0m: name 'requests' is not defined"
     ]
    }
   ],
   "source": [
    "from selenium import webdriver\n",
    "from bs4 import BeautifulSoup\n",
    "import time\n",
    "\n",
    "# Setup Selenium WebDriver\n",
    "# driver = webdriver.Chrome()  # Update the path to your ChromeDriver\n",
    "url = 'https://www.linkedin.com/jobs/search/?currentJobId=3856250966&f_I=96%2C4%2C6&origin=JOB_SEARCH_PAGE_JOB_FILTER&refresh=true&sortBy=R&start=25'\n",
    "response = requests.get(url)\n",
    "\n",
    "# Wait for dynamic content to load\n",
    "time.sleep(10)  # Adjust time as necessary\n",
    "\n",
    "# Get the page source and parse it with BeautifulSoup\n",
    "soup = BeautifulSoup(response.content, 'html.parser')\n",
    "wrapper = soup.find('div',class_='scaffold-layout__list-detail-inner scaffold-layout__list-detail-inner--grow')\n",
    "\n",
    "# list_jobs = wrapper.find_all('li',class_='jobs-search-results__list-item')\n",
    "\n",
    "wrapper\n",
    "\n"
   ]
  },
  {
   "cell_type": "code",
   "execution_count": 23,
   "metadata": {},
   "outputs": [
    {
     "name": "stdout",
     "output_type": "stream",
     "text": [
      "None\n"
     ]
    }
   ],
   "source": [
    "print(wrapper)"
   ]
  },
  {
   "cell_type": "code",
   "execution_count": 5,
   "metadata": {},
   "outputs": [],
   "source": [
    "import requests\n",
    "\n",
    "url = 'https://www.linkedin.com/jobs/search/?currentJobId=3903668232&geoId=102478259&keywords=frontend%20developer&location=Indonesia&origin=JOB_SEARCH_PAGE_KEYWORD_AUTOCOMPLETE&refresh=true&sortBy=R'\n",
    "payload = {\"title\":'Frontend'}\n",
    "r = requests.post(url, params = payload)\n",
    "# print(r.json())"
   ]
  },
  {
   "cell_type": "code",
   "execution_count": 6,
   "metadata": {},
   "outputs": [
    {
     "data": {
      "text/plain": [
       "<Response [403]>"
      ]
     },
     "execution_count": 6,
     "metadata": {},
     "output_type": "execute_result"
    }
   ],
   "source": [
    "r"
   ]
  },
  {
   "cell_type": "markdown",
   "metadata": {},
   "source": [
    "# Selenium"
   ]
  },
  {
   "cell_type": "code",
   "execution_count": null,
   "metadata": {},
   "outputs": [],
   "source": [
    "pip install Selenium"
   ]
  },
  {
   "cell_type": "code",
   "execution_count": 8,
   "metadata": {},
   "outputs": [
    {
     "name": "stdout",
     "output_type": "stream",
     "text": [
      "^C\n",
      "Note: you may need to restart the kernel to use updated packages.\n"
     ]
    }
   ],
   "source": [
    "pip install webdriver-manager"
   ]
  },
  {
   "cell_type": "code",
   "execution_count": 2,
   "metadata": {},
   "outputs": [],
   "source": [
    "from selenium import webdriver\n",
    "from selenium.webdriver.common.keys import Keys\n",
    "from selenium.webdriver.common.by import By"
   ]
  },
  {
   "cell_type": "code",
   "execution_count": 5,
   "metadata": {},
   "outputs": [
    {
     "name": "stderr",
     "output_type": "stream",
     "text": [
      "There was an error managing chromedriver (There is not enough space on the disk. (os error 112)); using driver found in the cache\n"
     ]
    },
    {
     "ename": "OSError",
     "evalue": "[Errno 28] No space left on device",
     "output_type": "error",
     "traceback": [
      "\u001b[1;31m---------------------------------------------------------------------------\u001b[0m",
      "\u001b[1;31mOSError\u001b[0m                                   Traceback (most recent call last)",
      "Cell \u001b[1;32mIn[5], line 55\u001b[0m\n\u001b[0;32m     48\u001b[0m \t\u001b[38;5;28;01mif\u001b[39;00m(\u001b[38;5;124m\"\u001b[39m\u001b[38;5;124mNetwork.response\u001b[39m\u001b[38;5;124m\"\u001b[39m \u001b[38;5;129;01min\u001b[39;00m network_log[\u001b[38;5;124m\"\u001b[39m\u001b[38;5;124mmethod\u001b[39m\u001b[38;5;124m\"\u001b[39m] \n\u001b[0;32m     49\u001b[0m \t\t\t\u001b[38;5;129;01mor\u001b[39;00m \u001b[38;5;124m\"\u001b[39m\u001b[38;5;124mNetwork.request\u001b[39m\u001b[38;5;124m\"\u001b[39m \u001b[38;5;129;01min\u001b[39;00m network_log[\u001b[38;5;124m\"\u001b[39m\u001b[38;5;124mmethod\u001b[39m\u001b[38;5;124m\"\u001b[39m] \n\u001b[0;32m     50\u001b[0m \t\t\t\u001b[38;5;129;01mor\u001b[39;00m \u001b[38;5;124m\"\u001b[39m\u001b[38;5;124mNetwork.webSocket\u001b[39m\u001b[38;5;124m\"\u001b[39m \u001b[38;5;129;01min\u001b[39;00m network_log[\u001b[38;5;124m\"\u001b[39m\u001b[38;5;124mmethod\u001b[39m\u001b[38;5;124m\"\u001b[39m]): \n\u001b[1;32m   (...)\u001b[0m\n\u001b[0;32m     53\u001b[0m \t\t\u001b[38;5;66;03m# converting the dictionary to a JSON string \u001b[39;00m\n\u001b[0;32m     54\u001b[0m \t\t\u001b[38;5;66;03m# using json.dumps(). \u001b[39;00m\n\u001b[1;32m---> 55\u001b[0m \t\t\u001b[43mf\u001b[49m\u001b[38;5;241;43m.\u001b[39;49m\u001b[43mwrite\u001b[49m\u001b[43m(\u001b[49m\u001b[43mjson\u001b[49m\u001b[38;5;241;43m.\u001b[39;49m\u001b[43mdumps\u001b[49m\u001b[43m(\u001b[49m\u001b[43mnetwork_log\u001b[49m\u001b[43m)\u001b[49m\u001b[38;5;241;43m+\u001b[39;49m\u001b[38;5;124;43m\"\u001b[39;49m\u001b[38;5;124;43m,\u001b[39;49m\u001b[38;5;124;43m\"\u001b[39;49m\u001b[43m)\u001b[49m \n\u001b[0;32m     56\u001b[0m f\u001b[38;5;241m.\u001b[39mwrite(\u001b[38;5;124m\"\u001b[39m\u001b[38;5;132;01m{}\u001b[39;00m\u001b[38;5;124m]\u001b[39m\u001b[38;5;124m\"\u001b[39m) \n",
      "\u001b[1;31mOSError\u001b[0m: [Errno 28] No space left on device",
      "\nDuring handling of the above exception, another exception occurred:\n",
      "\u001b[1;31mOSError\u001b[0m                                   Traceback (most recent call last)",
      "\u001b[1;31mOSError\u001b[0m: [Errno 28] No space left on device",
      "\nDuring handling of the above exception, another exception occurred:\n",
      "\u001b[1;31mOSError\u001b[0m                                   Traceback (most recent call last)",
      "Cell \u001b[1;32mIn[5], line 39\u001b[0m\n\u001b[0;32m     36\u001b[0m logs \u001b[38;5;241m=\u001b[39m driver\u001b[38;5;241m.\u001b[39mget_log(\u001b[38;5;124m\"\u001b[39m\u001b[38;5;124mperformance\u001b[39m\u001b[38;5;124m\"\u001b[39m) \n\u001b[0;32m     38\u001b[0m \u001b[38;5;66;03m# Opens a writable JSON file and writes the logs in it \u001b[39;00m\n\u001b[1;32m---> 39\u001b[0m \u001b[38;5;28;01mwith\u001b[39;00m \u001b[38;5;28mopen\u001b[39m(\u001b[38;5;124m\"\u001b[39m\u001b[38;5;124mnetwork_log.json\u001b[39m\u001b[38;5;124m\"\u001b[39m, \u001b[38;5;124m\"\u001b[39m\u001b[38;5;124mw\u001b[39m\u001b[38;5;124m\"\u001b[39m, encoding\u001b[38;5;241m=\u001b[39m\u001b[38;5;124m\"\u001b[39m\u001b[38;5;124mutf-8\u001b[39m\u001b[38;5;124m\"\u001b[39m) \u001b[38;5;28;01mas\u001b[39;00m f: \n\u001b[0;32m     40\u001b[0m \tf\u001b[38;5;241m.\u001b[39mwrite(\u001b[38;5;124m\"\u001b[39m\u001b[38;5;124m[\u001b[39m\u001b[38;5;124m\"\u001b[39m) \n\u001b[0;32m     42\u001b[0m \t\u001b[38;5;66;03m# Iterates every logs and parses it using JSON \u001b[39;00m\n",
      "\u001b[1;31mOSError\u001b[0m: [Errno 28] No space left on device"
     ]
    }
   ],
   "source": [
    "# Import the required modules \n",
    "from selenium import webdriver \n",
    "from selenium.webdriver.common.desired_capabilities import DesiredCapabilities \n",
    "import time \n",
    "import json \n",
    "\n",
    "\n",
    "# Main Function \n",
    "if __name__ == \"__main__\": \n",
    "\n",
    "\t# Enable Performance Logging of Chrome. \n",
    "\tdesired_capabilities = DesiredCapabilities.CHROME \n",
    "\tdesired_capabilities[\"goog:loggingPrefs\"] = {\"performance\": \"ALL\"} \n",
    "\n",
    "\t# Create the webdriver object and pass the arguments \n",
    "\toptions = webdriver.ChromeOptions() \n",
    "\n",
    "\t# Chrome will start in Headless mode \n",
    "\toptions.add_argument('headless') \n",
    "\n",
    "\t# Ignores any certificate errors if there is any \n",
    "\toptions.add_argument(\"--ignore-certificate-errors\") \n",
    "\n",
    "\t# Startup the chrome webdriver with executable path and \n",
    "\t# pass the chrome options and desired capabilities as \n",
    "\t# parameters. \n",
    "\tdriver = webdriver.Chrome() \n",
    "\n",
    "\t# Send a request to the website and let it load \n",
    "\tdriver.get(\"https://www.linkedin.com/jobs/search/?currentJobId=3903668232&geoId=102478259&keywords=frontend%20developer&location=Indonesia&origin=JOB_SEARCH_PAGE_KEYWORD_AUTOCOMPLETE&refresh=true&sortBy=R\") \n",
    "\n",
    "\t# Sleeps for 10 seconds \n",
    "\ttime.sleep(10) \n",
    "\n",
    "\t# Gets all the logs from performance in Chrome \n",
    "\tlogs = driver.get_log(\"performance\") \n",
    "\n",
    "\t# Opens a writable JSON file and writes the logs in it \n",
    "\twith open(\"network_log.json\", \"w\", encoding=\"utf-8\") as f: \n",
    "\t\tf.write(\"[\") \n",
    "\n",
    "\t\t# Iterates every logs and parses it using JSON \n",
    "\t\tfor log in logs: \n",
    "\t\t\tnetwork_log = json.loads(log[\"message\"])[\"message\"] \n",
    "\n",
    "\t\t\t# Checks if the current 'method' key has any \n",
    "\t\t\t# Network related value. \n",
    "\t\t\tif(\"Network.response\" in network_log[\"method\"] \n",
    "\t\t\t\t\tor \"Network.request\" in network_log[\"method\"] \n",
    "\t\t\t\t\tor \"Network.webSocket\" in network_log[\"method\"]): \n",
    "\n",
    "\t\t\t\t# Writes the network log to a JSON file by \n",
    "\t\t\t\t# converting the dictionary to a JSON string \n",
    "\t\t\t\t# using json.dumps(). \n",
    "\t\t\t\tf.write(json.dumps(network_log)+\",\") \n",
    "\t\tf.write(\"{}]\") \n",
    "\n",
    "\tprint(\"Quitting Selenium WebDriver\") \n",
    "\tdriver.quit() \n",
    "\n",
    "\t# Read the JSON File and parse it using \n",
    "\t# json.loads() to find the urls containing images. \n",
    "\tjson_file_path = \"network_log.json\"\n",
    "\twith open(json_file_path, \"r\", encoding=\"utf-8\") as f: \n",
    "\t\tlogs = json.loads(f.read()) \n",
    "\n",
    "\t# Iterate the logs \n",
    "\tfor log in logs: \n",
    "\n",
    "\t\t# Except block will be accessed if any of the \n",
    "\t\t# following keys are missing. \n",
    "\t\ttry: \n",
    "\t\t\t# URL is present inside the following keys \n",
    "\t\t\turl = log[\"params\"][\"request\"][\"url\"] \n",
    "\n",
    "\t\t\t# Checks if the extension is .png or .jpg \n",
    "\t\t\tif url[len(url)-4:] == \".png\" or url[len(url)-4:] == \".jpg\": \n",
    "\t\t\t\tprint(url, end='\\n\\n') \n",
    "\t\texcept Exception as e: \n",
    "\t\t\tpass\n"
   ]
  }
 ],
 "metadata": {
  "kernelspec": {
   "display_name": "Python 3",
   "language": "python",
   "name": "python3"
  },
  "language_info": {
   "codemirror_mode": {
    "name": "ipython",
    "version": 3
   },
   "file_extension": ".py",
   "mimetype": "text/x-python",
   "name": "python",
   "nbconvert_exporter": "python",
   "pygments_lexer": "ipython3",
   "version": "3.10.6"
  }
 },
 "nbformat": 4,
 "nbformat_minor": 2
}
