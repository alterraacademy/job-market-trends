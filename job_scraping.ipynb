{
 "cells": [
  {
   "cell_type": "code",
   "execution_count": 7,
   "metadata": {},
   "outputs": [],
   "source": [
    "from bs4 import BeautifulSoup\n",
    "import requests\n",
    "import pandas as pd\n",
    "from datetime import datetime"
   ]
  },
  {
   "cell_type": "code",
   "execution_count": 8,
   "metadata": {},
   "outputs": [],
   "source": [
    "def get_url(position,location):\n",
    "    urls = []\n",
    "    for sequence in range(1, 11):\n",
    "        start_page = 1 + ((sequence - 1) // 10) * 10\n",
    "        template = 'https://www.timesjobs.com/candidate/job-search.html?from=submit&luceneResultSize=100&txtKeywords={}&postWeek=30&searchType=personalizedSearch&actualTxtKeywords={}&searchBy=0&rdoOperator=OR&txtLocation={}&pDate=I&sequence={}&startPage={}'\n",
    "        url = template.format(position,position, location, sequence, start_page)\n",
    "        urls.append(url)\n",
    "    return urls\n",
    "\n",
    "def scrape_jobs(position,location):\n",
    "    urls = get_url(position, location)\n",
    "    data = []\n",
    "    for url in urls:\n",
    "        html_text = requests.get(url).text\n",
    "        soup = BeautifulSoup(html_text, 'lxml')\n",
    "        jobs = soup.find_all('li',class_='clearfix job-bx wht-shd-bx')\n",
    "        for job in jobs:\n",
    "            try:\n",
    "                job_role = job.find('h2').text.strip()\n",
    "            except AttributeError:\n",
    "                job_role = ''\n",
    "            try:\n",
    "                company_name = job.find('h3',class_='joblist-comp-name').text.strip()\n",
    "            except AttributeError:\n",
    "                company_name = ''\n",
    "            try:\n",
    "                location = job.find('span').text.strip()\n",
    "            except AttributeError:\n",
    "                location = ''\n",
    "            try:\n",
    "                posted_date = (job.find('span',class_='sim-posted').span.text).split('Posted')[-1].strip()\n",
    "            except AttributeError:\n",
    "                posted_date = ''\n",
    "            try:\n",
    "                skill = job.find('span',class_='srp-skills').text.strip()\n",
    "            except AttributeError:\n",
    "                skill = ''\n",
    "            try:\n",
    "                job_desc = job.find('label', string='Job Description:').find_next_sibling('a').previous_sibling.strip()\n",
    "            except AttributeError:\n",
    "                job_desc = '' \n",
    "            try:\n",
    "                more_detail_link = job.header.h2.a['href']\n",
    "            except AttributeError:\n",
    "                more_detail_link = ''\n",
    "            \n",
    "            extract_date = datetime.today().strftime('%Y-%m-%d')\n",
    "            \n",
    "            data.append({'Role':job_role, 'Company Name':company_name, 'Location':location, 'Posted Date':posted_date,'Extracted Date':extract_date,'Key Skill': skill,'Job Description':job_desc, 'More Detail':more_detail_link})\n",
    "          \n",
    "    df = pd.DataFrame(data)\n",
    "    df.to_csv('list_of_timesjobs.csv', index=False, encoding='utf-8')"
   ]
  },
  {
   "cell_type": "code",
   "execution_count": 9,
   "metadata": {},
   "outputs": [],
   "source": [
    "# create main\n",
    "if __name__ == '__main__':\n",
    "    # position = input('Enter the position you are looking for: ')\n",
    "    # location = input('Enter the location you are looking for: ')\n",
    "    position = 'software engineer'\n",
    "    location = 'bangalore'\n",
    "    scrape_jobs(position, location)"
   ]
  }
 ],
 "metadata": {
  "kernelspec": {
   "display_name": "Python 3",
   "language": "python",
   "name": "python3"
  },
  "language_info": {
   "codemirror_mode": {
    "name": "ipython",
    "version": 3
   },
   "file_extension": ".py",
   "mimetype": "text/x-python",
   "name": "python",
   "nbconvert_exporter": "python",
   "pygments_lexer": "ipython3",
   "version": "3.10.6"
  }
 },
 "nbformat": 4,
 "nbformat_minor": 2
}
